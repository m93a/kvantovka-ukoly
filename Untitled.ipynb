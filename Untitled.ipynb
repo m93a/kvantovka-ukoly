{
 "cells": [
  {
   "cell_type": "code",
   "execution_count": 2,
   "metadata": {},
   "outputs": [],
   "source": [
    "from __future__ import division\n",
    "import sys\n",
    "sys.path.insert(0, \"~/.local/lib/python3.6/site-packages\")\n",
    "\n",
    "import sympy\n",
    "from sympy import *\n",
    "from sympy.vector import *"
   ]
  },
  {
   "cell_type": "code",
   "execution_count": 3,
   "metadata": {},
   "outputs": [
    {
     "data": {
      "text/latex": [
       "$\\displaystyle \\left[\\begin{matrix}f{\\left(\\mathbf{{x}_{}}^{2} + \\mathbf{{y}_{}}^{2} + \\mathbf{{z}_{}}^{2} \\right)}\\\\f{\\left(\\mathbf{{x}_{}}^{2} + \\mathbf{{y}_{}}^{2} + \\mathbf{{z}_{}}^{2} \\right)}\\\\f{\\left(\\mathbf{{x}_{}}^{2} + \\mathbf{{y}_{}}^{2} + \\mathbf{{z}_{}}^{2} \\right)}\\end{matrix}\\right]$"
      ],
      "text/plain": [
       "Matrix([\n",
       "[f(.x**2 + .y**2 + .z**2)],\n",
       "[f(.x**2 + .y**2 + .z**2)],\n",
       "[f(.x**2 + .y**2 + .z**2)]])"
      ]
     },
     "execution_count": 3,
     "metadata": {},
     "output_type": "execute_result"
    }
   ],
   "source": [
    "cart = vector.CoordSys3D('')\n",
    "x, y, z = cart.base_scalars()\n",
    "i, j, k = cart.base_vectors()\n",
    "rsq = x**2 + y**2 + z**2\n",
    "\n",
    "f = Function('f')\n",
    "F = f(rsq) * (i+j+k)\n",
    "F.to_matrix(cart)"
   ]
  },
  {
   "cell_type": "code",
   "execution_count": 4,
   "metadata": {},
   "outputs": [
    {
     "data": {
      "text/latex": [
       "$\\displaystyle \\left[\\begin{matrix}2 \\mathbf{{y}_{}} \\left. \\frac{d}{d \\xi_{1}} f{\\left(\\xi_{1} \\right)} \\right|_{\\substack{ \\xi_{1}=\\mathbf{{x}_{}}^{2} + \\mathbf{{y}_{}}^{2} + \\mathbf{{z}_{}}^{2} }} - 2 \\mathbf{{z}_{}} \\left. \\frac{d}{d \\xi_{1}} f{\\left(\\xi_{1} \\right)} \\right|_{\\substack{ \\xi_{1}=\\mathbf{{x}_{}}^{2} + \\mathbf{{y}_{}}^{2} + \\mathbf{{z}_{}}^{2} }}\\\\- 2 \\mathbf{{x}_{}} \\left. \\frac{d}{d \\xi_{1}} f{\\left(\\xi_{1} \\right)} \\right|_{\\substack{ \\xi_{1}=\\mathbf{{x}_{}}^{2} + \\mathbf{{y}_{}}^{2} + \\mathbf{{z}_{}}^{2} }} + 2 \\mathbf{{z}_{}} \\left. \\frac{d}{d \\xi_{1}} f{\\left(\\xi_{1} \\right)} \\right|_{\\substack{ \\xi_{1}=\\mathbf{{x}_{}}^{2} + \\mathbf{{y}_{}}^{2} + \\mathbf{{z}_{}}^{2} }}\\\\2 \\mathbf{{x}_{}} \\left. \\frac{d}{d \\xi_{1}} f{\\left(\\xi_{1} \\right)} \\right|_{\\substack{ \\xi_{1}=\\mathbf{{x}_{}}^{2} + \\mathbf{{y}_{}}^{2} + \\mathbf{{z}_{}}^{2} }} - 2 \\mathbf{{y}_{}} \\left. \\frac{d}{d \\xi_{1}} f{\\left(\\xi_{1} \\right)} \\right|_{\\substack{ \\xi_{1}=\\mathbf{{x}_{}}^{2} + \\mathbf{{y}_{}}^{2} + \\mathbf{{z}_{}}^{2} }}\\end{matrix}\\right]$"
      ],
      "text/plain": [
       "Matrix([\n",
       "[ 2*.y*Subs(Derivative(f(_xi_1), _xi_1), _xi_1, .x**2 + .y**2 + .z**2) - 2*.z*Subs(Derivative(f(_xi_1), _xi_1), _xi_1, .x**2 + .y**2 + .z**2)],\n",
       "[-2*.x*Subs(Derivative(f(_xi_1), _xi_1), _xi_1, .x**2 + .y**2 + .z**2) + 2*.z*Subs(Derivative(f(_xi_1), _xi_1), _xi_1, .x**2 + .y**2 + .z**2)],\n",
       "[ 2*.x*Subs(Derivative(f(_xi_1), _xi_1), _xi_1, .x**2 + .y**2 + .z**2) - 2*.y*Subs(Derivative(f(_xi_1), _xi_1), _xi_1, .x**2 + .y**2 + .z**2)]])"
      ]
     },
     "execution_count": 4,
     "metadata": {},
     "output_type": "execute_result"
    }
   ],
   "source": [
    "crl = Curl(F).doit()\n",
    "\n",
    "f_ = Function('f\\'')\n",
    "wild = Wild('*')\n",
    "\n",
    "crl.subs(f(wild).diff(wild), f_).to_matrix(cart)"
   ]
  },
  {
   "cell_type": "code",
   "execution_count": 5,
   "metadata": {},
   "outputs": [
    {
     "data": {
      "text/latex": [
       "$\\displaystyle \\nabla\\times \\left(f{\\left(\\mathbf{{x}_{}}^{2} + \\mathbf{{y}_{}}^{2} + \\mathbf{{z}_{}}^{2} \\right)} \\left(\\mathbf{\\hat{i}_{}} + \\mathbf{\\hat{j}_{}} + \\mathbf{\\hat{k}_{}}\\right)\\right) = 2 \\left[\\begin{matrix}\\mathbf{{y}_{}} - \\mathbf{{z}_{}}\\\\- \\mathbf{{x}_{}} + \\mathbf{{z}_{}}\\\\\\mathbf{{x}_{}} - \\mathbf{{y}_{}}\\end{matrix}\\right] \\operatorname{f'}{\\left(\\mathbf{{x}_{}}^{2} + \\mathbf{{y}_{}}^{2} + \\mathbf{{z}_{}}^{2} \\right)}$"
      ],
      "text/plain": [
       "Eq(Curl(f(.x**2 + .y**2 + .z**2)*(.i + .j + .k)), 2*Matrix([\n",
       "[ .y - .z],\n",
       "[-.x + .z],\n",
       "[ .x - .y]])*f'(.x**2 + .y**2 + .z**2))"
      ]
     },
     "execution_count": 5,
     "metadata": {},
     "output_type": "execute_result"
    }
   ],
   "source": [
    "Eq(Curl(UnevaluatedExpr(f(rsq))*UnevaluatedExpr((i+j+k))), UnevaluatedExpr(2) * UnevaluatedExpr(((y - z)*i + (-x + z)*j + (x - y)*k).to_matrix(cart)) * UnevaluatedExpr(f_(rsq)))"
   ]
  },
  {
   "cell_type": "code",
   "execution_count": 6,
   "metadata": {},
   "outputs": [
    {
     "data": {
      "text/plain": [
       "\"Add(Mul(Integer(2), .y, Subs(Derivative(Function('f')(Dummy('xi_1', dummy_index=6250847561126842670)), Tuple(Dummy('xi_1', dummy_index=6250847561126842670), Integer(1))), Tuple(Dummy('xi_1', dummy_index=6250847561126842670)), Tuple(Add(Pow(.x, Integer(2)), Pow(.y, Integer(2)), Pow(.z, Integer(2)))))), Mul(Integer(-1), Integer(2), .z, Subs(Derivative(Function('f')(Dummy('xi_1', dummy_index=6250847561126842670)), Tuple(Dummy('xi_1', dummy_index=6250847561126842670), Integer(1))), Tuple(Dummy('xi_1', dummy_index=6250847561126842670)), Tuple(Add(Pow(.x, Integer(2)), Pow(.y, Integer(2)), Pow(.z, Integer(2)))))))\""
      ]
     },
     "execution_count": 6,
     "metadata": {},
     "output_type": "execute_result"
    }
   ],
   "source": [
    "srepr(crl.to_matrix(cart)[0])"
   ]
  },
  {
   "cell_type": "code",
   "execution_count": null,
   "metadata": {},
   "outputs": [],
   "source": []
  },
  {
   "cell_type": "code",
   "execution_count": 23,
   "metadata": {},
   "outputs": [
    {
     "data": {
      "text/latex": [
       "$\\displaystyle \\left. \\operatorname{f'}{\\left(\\xi_{1} \\right)} \\right|_{\\substack{ \\xi_{1}=a + b }}$"
      ],
      "text/plain": [
       "Subs(f'(_xi_1), _xi_1, a + b)"
      ]
     },
     "execution_count": 23,
     "metadata": {},
     "output_type": "execute_result"
    }
   ],
   "source": [
    "from sympy import *\n",
    "from sympy.abc import a, b\n",
    "wild = Wild('*')\n",
    "\n",
    "f  = Function(\"f\")\n",
    "f_ = Function(\"f'\")\n",
    "\n",
    "expr = Derivative(f(a+b), a).doit()\n",
    "\n",
    "expr.replace( f(wild).diff(wild).doit(), f_(wild) )"
   ]
  },
  {
   "cell_type": "code",
   "execution_count": 9,
   "metadata": {},
   "outputs": [
    {
     "data": {
      "text/latex": [
       "$\\displaystyle \\frac{d}{d \\xi_{1}} f{\\left(\\xi_{1} \\right)}$"
      ],
      "text/plain": [
       "Derivative(f(_xi_1), _xi_1)"
      ]
     },
     "execution_count": 9,
     "metadata": {},
     "output_type": "execute_result"
    }
   ],
   "source": [
    "Derivative(\n",
    "    Function('f')(Dummy('xi_1', dummy_index=-5551605635201480537)),\n",
    "    Tuple(Dummy('xi_1', dummy_index=-5551605635201480537), Integer(1))\n",
    ")"
   ]
  },
  {
   "cell_type": "code",
   "execution_count": null,
   "metadata": {},
   "outputs": [],
   "source": []
  },
  {
   "cell_type": "code",
   "execution_count": null,
   "metadata": {},
   "outputs": [],
   "source": []
  }
 ],
 "metadata": {
  "kernelspec": {
   "display_name": "Python 3",
   "language": "python",
   "name": "python3"
  },
  "language_info": {
   "codemirror_mode": {
    "name": "ipython",
    "version": 3
   },
   "file_extension": ".py",
   "mimetype": "text/x-python",
   "name": "python",
   "nbconvert_exporter": "python",
   "pygments_lexer": "ipython3",
   "version": "3.6.9"
  }
 },
 "nbformat": 4,
 "nbformat_minor": 2
}
