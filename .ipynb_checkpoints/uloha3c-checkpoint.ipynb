{
 "cells": [
  {
   "cell_type": "code",
   "execution_count": 1,
   "metadata": {},
   "outputs": [],
   "source": [
    "from __future__ import division\n",
    "import sys\n",
    "sys.path.insert(0, \"~/.local/lib/python3.6/site-packages\")\n",
    "\n",
    "import sympy\n",
    "from sympy import *\n",
    "from sympy.physics.quantum import *\n",
    "\n",
    "def express(a, b, name):\n",
    "    sym = symbols(name)\n",
    "    sol = solve(a-sym, b)\n",
    "    assert len(sol) == 1\n",
    "    return (sym, sol[0])\n",
    "\n",
    "\n",
    "def frange(x, y, jump):\n",
    "    i = 0\n",
    "    curr = x + i*jump\n",
    "    \n",
    "    while curr < y:\n",
    "        yield curr\n",
    "        i += 1\n",
    "        curr = x + i*jump\n",
    "    \n",
    "\n",
    "import gmpy2\n",
    "import mpmath\n",
    "gmpy2.get_context().precision = 10\n",
    "mpmath.mp.dps = 10"
   ]
  },
  {
   "cell_type": "code",
   "execution_count": 2,
   "metadata": {},
   "outputs": [],
   "source": [
    "class OrthogonalKet(State, KetBase):\n",
    "    \n",
    "    @classmethod\n",
    "    def dual_class(self):\n",
    "        return OrthogonalBra\n",
    "    \n",
    "    def _eval_innerproduct(self, bra, **hints):\n",
    "\n",
    "        if len(self.args) != len(bra.args):\n",
    "            raise ValueError('Cannot multiply a ket that has a different number of labels.')\n",
    "            \n",
    "        for i in range(len(self.args)):\n",
    "            diff = self.args[i] - bra.args[i]\n",
    "            diff.simplify()\n",
    "            \n",
    "            if diff.is_nonzero:\n",
    "                return Number(0)\n",
    "            \n",
    "            if not diff.is_zero:\n",
    "                return None\n",
    "            \n",
    "        return Number(1)\n",
    "\n",
    "    \n",
    "class OrthogonalBra(State, BraBase):\n",
    "    \n",
    "    @classmethod\n",
    "    def dual_class(self):\n",
    "        return OrthogonalKet\n",
    "\n",
    "\n",
    "\n",
    "from sympy.printing.pycode import AbstractPythonCodePrinter\n",
    "\n",
    "def _print_inner_prod(self, expr):\n",
    "    bra,ket = expr.args\n",
    "    \n",
    "    \n",
    "    if not isinstance(bra, OrthogonalBra) or not isinstance(ket, OrthogonalKet):\n",
    "        print(bra.func, ket.func)\n",
    "        raise NotImplementedError('Only implemented for orthogonal states')\n",
    "    \n",
    "    if len(ket.args) != len(bra.args):\n",
    "        raise ValueError('Cannot multiply a ket that has a different number of labels.')\n",
    "\n",
    "    conditions = []\n",
    "\n",
    "    for i in range(len(ket.args)):\n",
    "        conditions.append('{a} == {b}'.format(\n",
    "            a = self._print(ket.args[i]),\n",
    "            b = self._print(bra.args[i])\n",
    "        ))\n",
    "\n",
    "    return '(1 if {c} else 0)'.format(\n",
    "        c = ' and '.join(conditions)\n",
    "    )\n",
    "\n",
    "AbstractPythonCodePrinter._print_InnerProduct = _print_inner_prod\n",
    "\n",
    "\n",
    "\n",
    "OKet, OBra = OrthogonalKet, OrthogonalBra\n",
    "\n",
    "def OBraKet(a,b):\n",
    "    return InnerProduct(OBra(a), OKet(b))"
   ]
  },
  {
   "cell_type": "code",
   "execution_count": 3,
   "metadata": {},
   "outputs": [],
   "source": [
    "# https://stackoverflow.com/q/59523322/1137334\n",
    "\n",
    "from sympy.core.operations import AssocOp\n",
    "\n",
    "def apply_ccr(expr, ccr, reverse=False):\n",
    "    if not isinstance(expr, Basic):\n",
    "        raise TypeError(\"The expression to simplify is not a sympy expression.\")\n",
    "        \n",
    "    if not isinstance(ccr, Eq):\n",
    "        if isinstance(ccr, Basic):\n",
    "            ccr = Eq(ccr, 0)\n",
    "        else:\n",
    "            raise TypeError(\"The canonical commutation relation is not a sympy expression.\")\n",
    "    \n",
    "    comm = None\n",
    "    \n",
    "    for node in preorder_traversal(ccr):\n",
    "        if isinstance(node, Commutator):\n",
    "            comm = node\n",
    "            break\n",
    "            \n",
    "    if comm is None:\n",
    "        raise ValueError(\"The cannonical commutation relation doesn not include a commutator.\")\n",
    "        \n",
    "    solutions = solve(ccr, comm)\n",
    "    \n",
    "    if len(solutions) != 1:\n",
    "        raise ValueError(\"There are more solutions to the cannonical commutation relation.\")\n",
    "        \n",
    "    value = solutions[0]\n",
    "    \n",
    "    A = comm.args[0]\n",
    "    B = comm.args[1]\n",
    "    \n",
    "    if reverse:\n",
    "        (A, B) = (B, A)\n",
    "        value = -value\n",
    "    \n",
    "    def is_expandable_pow_of(base, expr):\n",
    "        return isinstance(expr, Pow) \\\n",
    "            and base == expr.args[0] \\\n",
    "            and isinstance(expr.args[1], Number) \\\n",
    "            and expr.args[1] >= 1\n",
    "    \n",
    "    \n",
    "    def walk_tree(expr):\n",
    "        if isinstance(expr, Number):\n",
    "            return expr\n",
    "        \n",
    "        if not isinstance(expr, AssocOp) and not isinstance(expr, Function):\n",
    "            return expr.copy()\n",
    "        \n",
    "        elif not isinstance(expr, Mul):\n",
    "            return expr.func(*(walk_tree(node) for node in expr.args))\n",
    "        \n",
    "        else:\n",
    "            args = [arg for arg in expr.args]\n",
    "            \n",
    "            for i in range(len(args)-1):\n",
    "                x = args[i]\n",
    "                y = args[i+1]\n",
    "                \n",
    "                if B == x and A == y:\n",
    "                    args = args[0:i] + [A*B - value] + args[i+2:]\n",
    "                    return walk_tree( Mul(*args).expand() )\n",
    "                \n",
    "                if B == x and is_expandable_pow_of(A, y):\n",
    "                    ypow = Pow(A, y.args[1] - 1)\n",
    "                    args = args[0:i] + [A*B - value, ypow] + args[i+2:]\n",
    "                    return walk_tree( Mul(*args).expand() )\n",
    "                \n",
    "                if is_expandable_pow_of(B, x) and A == y:\n",
    "                    xpow = Pow(B, x.args[1] - 1)\n",
    "                    args = args[0:i] + [xpow, A*B - value] + args[i+2:]\n",
    "                    return walk_tree( Mul(*args).expand() )\n",
    "                \n",
    "                if is_expandable_pow_of(B, x) and is_expandable_pow_of(A, y):\n",
    "                    xpow = Pow(B, x.args[1] - 1)\n",
    "                    ypow = Pow(A, y.args[1] - 1)\n",
    "                    args = args[0:i] + [xpow, A*B - value, ypow] + args[i+2:]\n",
    "                    return walk_tree( Mul(*args).expand() )\n",
    "            \n",
    "            return expr.copy()\n",
    "            \n",
    "    \n",
    "    return walk_tree(expr)\n",
    "   \n",
    "\n",
    "Basic.apply_ccr = lambda self, ccr, reverse=False: apply_ccr(self, ccr, reverse)\n"
   ]
  },
  {
   "cell_type": "code",
   "execution_count": 4,
   "metadata": {},
   "outputs": [],
   "source": [
    "# https://stackoverflow.com/q/59524925/1137334\n",
    "\n",
    "from sympy.core.operations import AssocOp\n",
    "\n",
    "def apply_operator(expr, eqns):\n",
    "    if not isinstance(expr, Basic):\n",
    "        raise TypeError(\"The expression to simplify is not a sympy expression.\")\n",
    "    \n",
    "    if not isinstance(eqns, list) and not isinstance(eqns, tuple):\n",
    "        eqns = (eqns,)\n",
    "    \n",
    "    \n",
    "    rules = []\n",
    "    \n",
    "    \n",
    "    class Rule(object):\n",
    "        operator = None\n",
    "        ketSymbol = None\n",
    "        result = None\n",
    "        generic = False\n",
    "    \n",
    "    \n",
    "    def is_operator(op):\n",
    "        return isinstance(op, Operator) \\\n",
    "        or isinstance(op, Dagger) \\\n",
    "        and isinstance(op.args[0], Operator)\n",
    "    \n",
    "    \n",
    "    for eqn in eqns:\n",
    "        if not isinstance(eqn, Eq):\n",
    "            raise TypeError(\"One of the equations is not a valid sympy equation.\")\n",
    "        \n",
    "        lhs = eqn.lhs\n",
    "        rhs = eqn.rhs\n",
    "        \n",
    "        if not isinstance(lhs, Mul) \\\n",
    "        or len(lhs.args) != 2 \\\n",
    "        or not is_operator(lhs.args[0]) \\\n",
    "        or not isinstance(lhs.args[1], KetBase):\n",
    "            raise ValueError(\"The left-hand side has to be an operator applied to a ket.\")\n",
    "        \n",
    "        rule = Rule()\n",
    "        rule.operator = lhs.args[0]\n",
    "        rule.ketSymbol = lhs.args[1].args[0]\n",
    "        rule.result = rhs\n",
    "        \n",
    "        if not isinstance(rule.ketSymbol, Symbol):\n",
    "            raise ValueError(\"The left-hand ket has to contain a simple symbol.\")\n",
    "        \n",
    "        for ket in preorder_traversal(rhs):\n",
    "            if isinstance(ket, KetBase):\n",
    "                for symb in preorder_traversal(ket):\n",
    "                    if symb == rule.ketSymbol:\n",
    "                        rule.generic = True\n",
    "                        break\n",
    "                        \n",
    "        rules.append(rule)\n",
    "    \n",
    "    \n",
    "    def is_expandable_pow_of(base, expr):\n",
    "        return isinstance(expr, Pow) \\\n",
    "            and base == expr.args[0] \\\n",
    "            and isinstance(expr.args[1], Number) \\\n",
    "            and expr.args[1] >= 1\n",
    "            \n",
    "            \n",
    "    def is_ket_of_rule(ket, rule):\n",
    "        if not isinstance(ket, KetBase):\n",
    "            return False\n",
    "        \n",
    "        if rule.generic:\n",
    "            for sym in preorder_traversal(ket):\n",
    "                if sym == rule.ketSymbol:\n",
    "                    return True\n",
    "            return False\n",
    "                \n",
    "        else:\n",
    "            return ket.args[0] == rule.ketSymbol\n",
    "    \n",
    "    \n",
    "    def walk_tree(expr):\n",
    "        if isinstance(expr, Number):\n",
    "            return expr\n",
    "        \n",
    "        if not isinstance(expr, AssocOp) and not isinstance(expr, Function):\n",
    "            return expr.copy()\n",
    "        \n",
    "        elif not isinstance(expr, Mul):\n",
    "            return expr.func(*(walk_tree(node) for node in expr.args))\n",
    "        \n",
    "        else:\n",
    "            args = [arg for arg in expr.args]\n",
    "            \n",
    "            for rule in rules:\n",
    "                A = rule.operator\n",
    "                ketSym = rule.ketSymbol\n",
    "                \n",
    "                for i in range(len(args)-1):\n",
    "                    x = args[i]\n",
    "                    y = args[i+1]\n",
    "\n",
    "                    if A == x and is_ket_of_rule(y, rule):\n",
    "                        ev = rule.result\n",
    "                        \n",
    "                        if rule.generic:\n",
    "                            ev = ev.subs(rule.ketSymbol, y.args[0])\n",
    "                        \n",
    "                        args = args[0:i] + [ev] + args[i+2:]\n",
    "                        return walk_tree( Mul(*args).expand() )\n",
    "\n",
    "                    if is_expandable_pow_of(A, x) and is_ket_of_rule(y, rule):\n",
    "                        xpow = Pow(A, x.args[1] - 1)\n",
    "                        ev = rule.result\n",
    "                        \n",
    "                        if rule.generic:\n",
    "                            ev = ev.subs(rule.ketSymbol, y.args[0])\n",
    "                        \n",
    "                        args = args[0:i] + [xpow, ev] + args[i+2:]\n",
    "                        return walk_tree( Mul(*args).expand() )\n",
    "                \n",
    "            \n",
    "            return expr.copy()\n",
    "            \n",
    "    \n",
    "    return walk_tree(expr)\n",
    "   \n",
    "\n",
    "Basic.apply_operator = lambda self, *eqns: apply_operator(self, eqns)\n"
   ]
  },
  {
   "cell_type": "code",
   "execution_count": null,
   "metadata": {},
   "outputs": [],
   "source": []
  },
  {
   "cell_type": "code",
   "execution_count": 5,
   "metadata": {},
   "outputs": [],
   "source": [
    "A = Operator('ahat')\n",
    "Ad = Dagger(A)\n",
    "N = Ad * A\n",
    "\n",
    "ccr = Eq( Commutator(A, Ad),  1 )\n",
    "\n",
    "m, n = symbols('m n', integer=True, negative=False)\n",
    "down = Eq( A *OKet(n), sqrt(n  )*OKet(n-1) )\n",
    "up   = Eq( Ad*OKet(n), sqrt(n+1)*OKet(n+1) )\n",
    "\n",
    "M, hbar, O = symbols('M hbar Omega', positive=True)\n",
    "b = symbols('b')\n",
    "\n",
    "x_ =     sqrt( hbar / (2*M*O) ) * (Ad + A)\n",
    "p_ = I * sqrt( hbar * M*O / 2 ) * (Ad - A)\n",
    "\n",
    "assert I * hbar == Commutator(x_, p_).doit().expand().apply_ccr(ccr)"
   ]
  },
  {
   "cell_type": "code",
   "execution_count": 6,
   "metadata": {},
   "outputs": [
    {
     "data": {
      "text/latex": [
       "$\\displaystyle - \\frac{a \\hat{x}^{2}}{2} + \\frac{b \\hat{x}^{4}}{2} + \\frac{\\hat{p}^{2}}{2 M}$"
      ],
      "text/plain": [
       "-a*xhat**2/2 + b*xhat**4/2 + phat**2/(2*M)"
      ]
     },
     "execution_count": 6,
     "metadata": {},
     "output_type": "execute_result"
    }
   ],
   "source": [
    "a, b = symbols('a b')\n",
    "p, x = Operator('phat'), Operator('xhat')\n",
    "H = p**2 / (2*M)  -  (a*x**2)/2  +  (b*x**4)/2\n",
    "H"
   ]
  },
  {
   "cell_type": "code",
   "execution_count": 7,
   "metadata": {},
   "outputs": [
    {
     "data": {
      "text/latex": [
       "$\\displaystyle \\frac{\\hbar^{2} \\sqrt{n} \\sqrt{n - 3} \\sqrt{n - 2} \\sqrt{n - 1} \\left\\langle m \\right. {\\left|n - 4\\right\\rangle }}{8} + \\frac{\\hbar^{2} \\sqrt{n + 1} \\sqrt{n + 2} \\sqrt{n + 3} \\sqrt{n + 4} \\left\\langle m \\right. {\\left|n + 4\\right\\rangle }}{8} + \\left(- \\frac{a \\hbar \\sqrt{n} \\sqrt{n - 1}}{4} + \\frac{\\hbar^{2} n^{\\frac{3}{2}} \\sqrt{n - 1}}{2} - \\frac{\\hbar^{2} \\sqrt{n} \\sqrt{n - 1}}{4} - \\frac{\\hbar \\sqrt{n} \\sqrt{n - 1}}{4}\\right) \\left\\langle m \\right. {\\left|n - 2\\right\\rangle } + \\left(- \\frac{a \\hbar \\sqrt{n + 1} \\sqrt{n + 2}}{4} + \\frac{\\hbar^{2} n \\sqrt{n + 1} \\sqrt{n + 2}}{2} + \\frac{3 \\hbar^{2} \\sqrt{n + 1} \\sqrt{n + 2}}{4} - \\frac{\\hbar \\sqrt{n + 1} \\sqrt{n + 2}}{4}\\right) \\left\\langle m \\right. {\\left|n + 2\\right\\rangle } + \\left(- \\frac{a \\hbar n}{2} - \\frac{a \\hbar}{4} + \\frac{3 \\hbar^{2} n^{2}}{4} + \\frac{3 \\hbar^{2} n}{4} + \\frac{3 \\hbar^{2}}{8} + \\frac{\\hbar n}{2} + \\frac{\\hbar}{4}\\right) \\left\\langle m \\right. {\\left|n\\right\\rangle }$"
      ],
      "text/plain": [
       "hbar**2*sqrt(n)*sqrt(n - 3)*sqrt(n - 2)*sqrt(n - 1)*<m|n - 4>/8 + hbar**2*sqrt(n + 1)*sqrt(n + 2)*sqrt(n + 3)*sqrt(n + 4)*<m|n + 4>/8 + (-a*hbar*sqrt(n)*sqrt(n - 1)/4 + hbar**2*n**(3/2)*sqrt(n - 1)/2 - hbar**2*sqrt(n)*sqrt(n - 1)/4 - hbar*sqrt(n)*sqrt(n - 1)/4)*<m|n - 2> + (-a*hbar*sqrt(n + 1)*sqrt(n + 2)/4 + hbar**2*n*sqrt(n + 1)*sqrt(n + 2)/2 + 3*hbar**2*sqrt(n + 1)*sqrt(n + 2)/4 - hbar*sqrt(n + 1)*sqrt(n + 2)/4)*<m|n + 2> + (-a*hbar*n/2 - a*hbar/4 + 3*hbar**2*n**2/4 + 3*hbar**2*n/4 + 3*hbar**2/8 + hbar*n/2 + hbar/4)*<m|n>"
      ]
     },
     "execution_count": 7,
     "metadata": {},
     "output_type": "execute_result"
    }
   ],
   "source": [
    "Hmn = OBra(m) * H * OKet(n)\n",
    "Hmn = Hmn.subs(x, x_).subs(p, p_)\n",
    "Hmn = Hmn.expand()\n",
    "Hmn = Hmn.apply_operator(up, down)\n",
    "Hmn = Hmn.subs(M,1).subs(O,1).subs(b,1)\n",
    "Hmn = qapply(Hmn)\n",
    "Hmn = eval(srepr(Hmn))\n",
    "Hmn = Hmn.collect(OBraKet(m,n-4))\n",
    "Hmn = Hmn.collect(OBraKet(m,n-2))\n",
    "Hmn = Hmn.collect(OBraKet(m,n))\n",
    "Hmn = Hmn.collect(OBraKet(m,n+2))\n",
    "Hmn = Hmn.collect(OBraKet(m,n+4))\n",
    "Hmn"
   ]
  },
  {
   "cell_type": "code",
   "execution_count": null,
   "metadata": {},
   "outputs": [],
   "source": []
  },
  {
   "cell_type": "code",
   "execution_count": 8,
   "metadata": {},
   "outputs": [
    {
     "data": {
      "text/latex": [
       "$\\displaystyle \\frac{\\hbar^{2} \\sqrt{n} \\sqrt{\\left(n - 3\\right) \\left(n - 2\\right) \\left(n - 1\\right)} \\left\\langle m \\right. {\\left|n - 4\\right\\rangle }}{8} + \\frac{\\hbar^{2} \\sqrt{n + 1} \\sqrt{n + 2} \\sqrt{n + 3} \\sqrt{n + 4} \\left\\langle m \\right. {\\left|n + 4\\right\\rangle }}{8} + \\frac{\\hbar \\sqrt{n} \\sqrt{n - 1} \\left(- a + 2 \\hbar n - \\hbar - 1\\right) \\left\\langle m \\right. {\\left|n - 2\\right\\rangle }}{4} + \\frac{\\hbar \\sqrt{n + 1} \\sqrt{n + 2} \\left(- a + 2 \\hbar n + 3 \\hbar - 1\\right) \\left\\langle m \\right. {\\left|n + 2\\right\\rangle }}{4} + \\frac{\\hbar \\left(- 4 a n - 2 a + 6 \\hbar n^{2} + 6 \\hbar n + 3 \\hbar + 4 n + 2\\right) \\left\\langle m \\right. {\\left|n\\right\\rangle }}{8}$"
      ],
      "text/plain": [
       "hbar**2*sqrt(n)*sqrt((n - 3)*(n - 2)*(n - 1))*<m|n - 4>/8 + hbar**2*sqrt(n + 1)*sqrt(n + 2)*sqrt(n + 3)*sqrt(n + 4)*<m|n + 4>/8 + hbar*sqrt(n)*sqrt(n - 1)*(-a + 2*hbar*n - hbar - 1)*<m|n - 2>/4 + hbar*sqrt(n + 1)*sqrt(n + 2)*(-a + 2*hbar*n + 3*hbar - 1)*<m|n + 2>/4 + hbar*(-4*a*n - 2*a + 6*hbar*n**2 + 6*hbar*n + 3*hbar + 4*n + 2)*<m|n>/8"
      ]
     },
     "execution_count": 8,
     "metadata": {},
     "output_type": "execute_result"
    }
   ],
   "source": [
    "Hmn_refined = \\\n",
    "    hbar**2 / 8  *  sqrt(n*(n - 1)*(n - 2)*(n - 3)) * OBraKet(m,n-4) + \\\n",
    "    hbar**2 / 8  *  sqrt((n + 1)*(n + 2)*(n + 3)*(n + 4)) * OBraKet(m,n+4) + \\\n",
    "    hbar/4 * sqrt(n*(n - 1)) * (2 *hbar *n - hbar - a - 1) * OBraKet(m,n-2) + \\\n",
    "    hbar/4 * sqrt((n+1)*(n+2)) * (-a + 2*hbar*n + 3*hbar - 1) * OBraKet(m,n+2) + \\\n",
    "    hbar/8 * (- 4*a*n - 2*a + 6*hbar *n**2 + 6*hbar*n + 3*hbar + 4*n + 2) * OBraKet(m,n)\n",
    "    \n",
    "assert 0 == (Hmn - Hmn_refined).subs(n,n+4).simplify()\n",
    "\n",
    "Hmn = Hmn_refined\n",
    "Hmn"
   ]
  },
  {
   "cell_type": "code",
   "execution_count": null,
   "metadata": {},
   "outputs": [],
   "source": []
  },
  {
   "cell_type": "code",
   "execution_count": 9,
   "metadata": {},
   "outputs": [],
   "source": [
    "Hmn_fun = lambdify( (m,n,a,hbar), re(Hmn), modules='sympy' )\n",
    "Hmn_prec = lambda i,j,a,h: sympy.N(Hmn_fun(i,j,a,h), 10)\n",
    "\n",
    "def H_mat(N,a,h):\n",
    "    \n",
    "    mat = mpmath.matrix(N)\n",
    "    \n",
    "    for i in range(N):\n",
    "        for j in range(N):\n",
    "            mat[i,j] = mpmath.mpf(Hmn_prec(i,j,a,h))\n",
    "            \n",
    "    return mat\n",
    "\n",
    "def H_eigvals(N,a,h):\n",
    "    ev,_ = mpmath.eig(H_mat(N,a,h))\n",
    "    ev.sort()\n",
    "    return ev"
   ]
  },
  {
   "cell_type": "code",
   "execution_count": 28,
   "metadata": {},
   "outputs": [],
   "source": [
    "def energies(k,a,h,prec,Nmin=None):\n",
    "    maxdiff = 10**(-prec-3)\n",
    "    ev_now = []\n",
    "    ev_nxt = H_eigvals(k,a,h)\n",
    "    \n",
    "    if Nmin is None or Nmin <= k:\n",
    "        Nmin = 2*k\n",
    "    \n",
    "    for N in range(Nmin,100*k,k):\n",
    "        ev_now = ev_nxt\n",
    "        ev_nxt = H_eigvals(N,a,h)\n",
    "        \n",
    "        if all([ abs(ev_nxt[i] - ev_now[i]) < maxdiff for i in range(k) ]):\n",
    "            print(\"N = \"+str(N))\n",
    "            break\n",
    "        \n",
    "    return [ev_nxt[i] for i in range(k)]\n",
    "\n",
    "def energiesf(k,a,h,prec,Nmin=None):\n",
    "    return [ mpmath.nstr(ev, prec) for ev in energies(k,a,h,prec,Nmin) ]"
   ]
  },
  {
   "cell_type": "code",
   "execution_count": null,
   "metadata": {},
   "outputs": [],
   "source": []
  },
  {
   "cell_type": "code",
   "execution_count": 32,
   "metadata": {},
   "outputs": [
    {
     "name": "stdout",
     "output_type": "stream",
     "text": [
      "N = 32\n"
     ]
    },
    {
     "data": {
      "text/plain": [
       "['-0.10426', '-0.10426', '-0.064909', '-0.0649']"
      ]
     },
     "execution_count": 32,
     "metadata": {},
     "output_type": "execute_result"
    }
   ],
   "source": [
    "f = open(\"3c_eigvals.csv\", \"w\")\n",
    "\n",
    "ev = energiesf(4,1,0.03,5,24)\n",
    "f.write(\"ea, eb, ec, ed \\n\")\n",
    "f.write(\", \".join(ev))\n",
    "\n",
    "f.close()\n",
    "\n",
    "ev"
   ]
  },
  {
   "cell_type": "code",
   "execution_count": null,
   "metadata": {},
   "outputs": [],
   "source": []
  },
  {
   "cell_type": "code",
   "execution_count": 39,
   "metadata": {},
   "outputs": [
    {
     "name": "stdout",
     "output_type": "stream",
     "text": [
      "0.001\n"
     ]
    },
    {
     "ename": "KeyboardInterrupt",
     "evalue": "",
     "output_type": "error",
     "traceback": [
      "\u001b[0;31m---------------------------------------------------------------------------\u001b[0m",
      "\u001b[0;31mKeyboardInterrupt\u001b[0m                         Traceback (most recent call last)",
      "\u001b[0;32m<ipython-input-39-81b877f74673>\u001b[0m in \u001b[0;36m<module>\u001b[0;34m()\u001b[0m\n\u001b[1;32m      3\u001b[0m \u001b[0;32mfor\u001b[0m \u001b[0mh\u001b[0m \u001b[0;32min\u001b[0m \u001b[0mfrange\u001b[0m\u001b[0;34m(\u001b[0m\u001b[0;36m0.001\u001b[0m\u001b[0;34m,\u001b[0m \u001b[0;36m0.1\u001b[0m\u001b[0;34m,\u001b[0m \u001b[0;36m0.005\u001b[0m\u001b[0;34m)\u001b[0m\u001b[0;34m:\u001b[0m\u001b[0;34m\u001b[0m\u001b[0;34m\u001b[0m\u001b[0m\n\u001b[1;32m      4\u001b[0m     \u001b[0mprint\u001b[0m\u001b[0;34m(\u001b[0m\u001b[0mh\u001b[0m\u001b[0;34m)\u001b[0m\u001b[0;34m\u001b[0m\u001b[0;34m\u001b[0m\u001b[0m\n\u001b[0;32m----> 5\u001b[0;31m     \u001b[0mf\u001b[0m\u001b[0;34m.\u001b[0m\u001b[0mwrite\u001b[0m\u001b[0;34m(\u001b[0m\u001b[0;34m\" \"\u001b[0m\u001b[0;34m.\u001b[0m\u001b[0mjoin\u001b[0m\u001b[0;34m(\u001b[0m \u001b[0;34m[\u001b[0m\u001b[0mstr\u001b[0m\u001b[0;34m(\u001b[0m\u001b[0mh\u001b[0m\u001b[0;34m)\u001b[0m\u001b[0;34m]\u001b[0m \u001b[0;34m+\u001b[0m \u001b[0menergiesf\u001b[0m\u001b[0;34m(\u001b[0m\u001b[0;36m4\u001b[0m\u001b[0;34m,\u001b[0m\u001b[0;36m1\u001b[0m\u001b[0;34m,\u001b[0m\u001b[0mh\u001b[0m\u001b[0;34m,\u001b[0m\u001b[0;36m5\u001b[0m\u001b[0;34m,\u001b[0m\u001b[0;36m24\u001b[0m\u001b[0;34m)\u001b[0m \u001b[0;34m)\u001b[0m \u001b[0;34m+\u001b[0m \u001b[0;34m\"\\n\"\u001b[0m\u001b[0;34m)\u001b[0m\u001b[0;34m\u001b[0m\u001b[0;34m\u001b[0m\u001b[0m\n\u001b[0m\u001b[1;32m      6\u001b[0m \u001b[0;34m\u001b[0m\u001b[0m\n\u001b[1;32m      7\u001b[0m \u001b[0mf\u001b[0m\u001b[0;34m.\u001b[0m\u001b[0mclose\u001b[0m\u001b[0;34m(\u001b[0m\u001b[0;34m)\u001b[0m\u001b[0;34m\u001b[0m\u001b[0;34m\u001b[0m\u001b[0m\n",
      "\u001b[0;32m<ipython-input-28-c97bcbaaf843>\u001b[0m in \u001b[0;36menergiesf\u001b[0;34m(k, a, h, prec, Nmin)\u001b[0m\n\u001b[1;32m     18\u001b[0m \u001b[0;34m\u001b[0m\u001b[0m\n\u001b[1;32m     19\u001b[0m \u001b[0;32mdef\u001b[0m \u001b[0menergiesf\u001b[0m\u001b[0;34m(\u001b[0m\u001b[0mk\u001b[0m\u001b[0;34m,\u001b[0m\u001b[0ma\u001b[0m\u001b[0;34m,\u001b[0m\u001b[0mh\u001b[0m\u001b[0;34m,\u001b[0m\u001b[0mprec\u001b[0m\u001b[0;34m,\u001b[0m\u001b[0mNmin\u001b[0m\u001b[0;34m=\u001b[0m\u001b[0;32mNone\u001b[0m\u001b[0;34m)\u001b[0m\u001b[0;34m:\u001b[0m\u001b[0;34m\u001b[0m\u001b[0;34m\u001b[0m\u001b[0m\n\u001b[0;32m---> 20\u001b[0;31m     \u001b[0;32mreturn\u001b[0m \u001b[0;34m[\u001b[0m \u001b[0mmpmath\u001b[0m\u001b[0;34m.\u001b[0m\u001b[0mnstr\u001b[0m\u001b[0;34m(\u001b[0m\u001b[0mev\u001b[0m\u001b[0;34m,\u001b[0m \u001b[0mprec\u001b[0m\u001b[0;34m)\u001b[0m \u001b[0;32mfor\u001b[0m \u001b[0mev\u001b[0m \u001b[0;32min\u001b[0m \u001b[0menergies\u001b[0m\u001b[0;34m(\u001b[0m\u001b[0mk\u001b[0m\u001b[0;34m,\u001b[0m\u001b[0ma\u001b[0m\u001b[0;34m,\u001b[0m\u001b[0mh\u001b[0m\u001b[0;34m,\u001b[0m\u001b[0mprec\u001b[0m\u001b[0;34m,\u001b[0m\u001b[0mNmin\u001b[0m\u001b[0;34m)\u001b[0m \u001b[0;34m]\u001b[0m\u001b[0;34m\u001b[0m\u001b[0;34m\u001b[0m\u001b[0m\n\u001b[0m",
      "\u001b[0;32m<ipython-input-28-c97bcbaaf843>\u001b[0m in \u001b[0;36menergies\u001b[0;34m(k, a, h, prec, Nmin)\u001b[0m\n\u001b[1;32m      9\u001b[0m     \u001b[0;32mfor\u001b[0m \u001b[0mN\u001b[0m \u001b[0;32min\u001b[0m \u001b[0mrange\u001b[0m\u001b[0;34m(\u001b[0m\u001b[0mNmin\u001b[0m\u001b[0;34m,\u001b[0m\u001b[0;36m100\u001b[0m\u001b[0;34m*\u001b[0m\u001b[0mk\u001b[0m\u001b[0;34m,\u001b[0m\u001b[0mk\u001b[0m\u001b[0;34m)\u001b[0m\u001b[0;34m:\u001b[0m\u001b[0;34m\u001b[0m\u001b[0;34m\u001b[0m\u001b[0m\n\u001b[1;32m     10\u001b[0m         \u001b[0mev_now\u001b[0m \u001b[0;34m=\u001b[0m \u001b[0mev_nxt\u001b[0m\u001b[0;34m\u001b[0m\u001b[0;34m\u001b[0m\u001b[0m\n\u001b[0;32m---> 11\u001b[0;31m         \u001b[0mev_nxt\u001b[0m \u001b[0;34m=\u001b[0m \u001b[0mH_eigvals\u001b[0m\u001b[0;34m(\u001b[0m\u001b[0mN\u001b[0m\u001b[0;34m,\u001b[0m\u001b[0ma\u001b[0m\u001b[0;34m,\u001b[0m\u001b[0mh\u001b[0m\u001b[0;34m)\u001b[0m\u001b[0;34m\u001b[0m\u001b[0;34m\u001b[0m\u001b[0m\n\u001b[0m\u001b[1;32m     12\u001b[0m \u001b[0;34m\u001b[0m\u001b[0m\n\u001b[1;32m     13\u001b[0m         \u001b[0;32mif\u001b[0m \u001b[0mall\u001b[0m\u001b[0;34m(\u001b[0m\u001b[0;34m[\u001b[0m \u001b[0mabs\u001b[0m\u001b[0;34m(\u001b[0m\u001b[0mev_nxt\u001b[0m\u001b[0;34m[\u001b[0m\u001b[0mi\u001b[0m\u001b[0;34m]\u001b[0m \u001b[0;34m-\u001b[0m \u001b[0mev_now\u001b[0m\u001b[0;34m[\u001b[0m\u001b[0mi\u001b[0m\u001b[0;34m]\u001b[0m\u001b[0;34m)\u001b[0m \u001b[0;34m<\u001b[0m \u001b[0mmaxdiff\u001b[0m \u001b[0;32mfor\u001b[0m \u001b[0mi\u001b[0m \u001b[0;32min\u001b[0m \u001b[0mrange\u001b[0m\u001b[0;34m(\u001b[0m\u001b[0mk\u001b[0m\u001b[0;34m)\u001b[0m \u001b[0;34m]\u001b[0m\u001b[0;34m)\u001b[0m\u001b[0;34m:\u001b[0m\u001b[0;34m\u001b[0m\u001b[0;34m\u001b[0m\u001b[0m\n",
      "\u001b[0;32m<ipython-input-9-595f9c27e1ff>\u001b[0m in \u001b[0;36mH_eigvals\u001b[0;34m(N, a, h)\u001b[0m\n\u001b[1;32m     13\u001b[0m \u001b[0;34m\u001b[0m\u001b[0m\n\u001b[1;32m     14\u001b[0m \u001b[0;32mdef\u001b[0m \u001b[0mH_eigvals\u001b[0m\u001b[0;34m(\u001b[0m\u001b[0mN\u001b[0m\u001b[0;34m,\u001b[0m\u001b[0ma\u001b[0m\u001b[0;34m,\u001b[0m\u001b[0mh\u001b[0m\u001b[0;34m)\u001b[0m\u001b[0;34m:\u001b[0m\u001b[0;34m\u001b[0m\u001b[0;34m\u001b[0m\u001b[0m\n\u001b[0;32m---> 15\u001b[0;31m     \u001b[0mev\u001b[0m\u001b[0;34m,\u001b[0m\u001b[0m_\u001b[0m \u001b[0;34m=\u001b[0m \u001b[0mmpmath\u001b[0m\u001b[0;34m.\u001b[0m\u001b[0meig\u001b[0m\u001b[0;34m(\u001b[0m\u001b[0mH_mat\u001b[0m\u001b[0;34m(\u001b[0m\u001b[0mN\u001b[0m\u001b[0;34m,\u001b[0m\u001b[0ma\u001b[0m\u001b[0;34m,\u001b[0m\u001b[0mh\u001b[0m\u001b[0;34m)\u001b[0m\u001b[0;34m)\u001b[0m\u001b[0;34m\u001b[0m\u001b[0;34m\u001b[0m\u001b[0m\n\u001b[0m\u001b[1;32m     16\u001b[0m     \u001b[0mev\u001b[0m\u001b[0;34m.\u001b[0m\u001b[0msort\u001b[0m\u001b[0;34m(\u001b[0m\u001b[0;34m)\u001b[0m\u001b[0;34m\u001b[0m\u001b[0;34m\u001b[0m\u001b[0m\n\u001b[1;32m     17\u001b[0m     \u001b[0;32mreturn\u001b[0m \u001b[0mev\u001b[0m\u001b[0;34m\u001b[0m\u001b[0;34m\u001b[0m\u001b[0m\n",
      "\u001b[0;32m/home/m93a/.local/lib/python3.6/site-packages/mpmath/matrices/eigen.py\u001b[0m in \u001b[0;36meig\u001b[0;34m(ctx, A, left, right, overwrite_a)\u001b[0m\n\u001b[1;32m    759\u001b[0m             \u001b[0mA\u001b[0m\u001b[0;34m[\u001b[0m\u001b[0my\u001b[0m\u001b[0;34m,\u001b[0m\u001b[0mx\u001b[0m\u001b[0;34m]\u001b[0m \u001b[0;34m=\u001b[0m \u001b[0;36m0\u001b[0m\u001b[0;34m\u001b[0m\u001b[0;34m\u001b[0m\u001b[0m\n\u001b[1;32m    760\u001b[0m \u001b[0;34m\u001b[0m\u001b[0m\n\u001b[0;32m--> 761\u001b[0;31m     \u001b[0mhessenberg_qr\u001b[0m\u001b[0;34m(\u001b[0m\u001b[0mctx\u001b[0m\u001b[0;34m,\u001b[0m \u001b[0mA\u001b[0m\u001b[0;34m,\u001b[0m \u001b[0mQ\u001b[0m\u001b[0;34m)\u001b[0m\u001b[0;34m\u001b[0m\u001b[0;34m\u001b[0m\u001b[0m\n\u001b[0m\u001b[1;32m    762\u001b[0m \u001b[0;34m\u001b[0m\u001b[0m\n\u001b[1;32m    763\u001b[0m     \u001b[0mE\u001b[0m \u001b[0;34m=\u001b[0m \u001b[0;34m[\u001b[0m\u001b[0;36m0\u001b[0m \u001b[0;32mfor\u001b[0m \u001b[0mi\u001b[0m \u001b[0;32min\u001b[0m \u001b[0mxrange\u001b[0m\u001b[0;34m(\u001b[0m\u001b[0mn\u001b[0m\u001b[0;34m)\u001b[0m\u001b[0;34m]\u001b[0m\u001b[0;34m\u001b[0m\u001b[0;34m\u001b[0m\u001b[0m\n",
      "\u001b[0;32m/home/m93a/.local/lib/python3.6/site-packages/mpmath/matrices/eigen.py\u001b[0m in \u001b[0;36mhessenberg_qr\u001b[0;34m(ctx, A, Q)\u001b[0m\n\u001b[1;32m    482\u001b[0m             \u001b[0mtotalits\u001b[0m \u001b[0;34m+=\u001b[0m \u001b[0;36m1\u001b[0m\u001b[0;34m\u001b[0m\u001b[0;34m\u001b[0m\u001b[0m\n\u001b[1;32m    483\u001b[0m \u001b[0;34m\u001b[0m\u001b[0m\n\u001b[0;32m--> 484\u001b[0;31m             \u001b[0mqr_step\u001b[0m\u001b[0;34m(\u001b[0m\u001b[0mctx\u001b[0m\u001b[0;34m,\u001b[0m \u001b[0mn0\u001b[0m\u001b[0;34m,\u001b[0m \u001b[0mn1\u001b[0m\u001b[0;34m,\u001b[0m \u001b[0mA\u001b[0m\u001b[0;34m,\u001b[0m \u001b[0mQ\u001b[0m\u001b[0;34m,\u001b[0m \u001b[0mshift\u001b[0m\u001b[0;34m)\u001b[0m\u001b[0;34m\u001b[0m\u001b[0;34m\u001b[0m\u001b[0m\n\u001b[0m\u001b[1;32m    485\u001b[0m \u001b[0;34m\u001b[0m\u001b[0m\n\u001b[1;32m    486\u001b[0m             \u001b[0;32mif\u001b[0m \u001b[0mits\u001b[0m \u001b[0;34m>\u001b[0m \u001b[0mmaxits\u001b[0m\u001b[0;34m:\u001b[0m\u001b[0;34m\u001b[0m\u001b[0;34m\u001b[0m\u001b[0m\n",
      "\u001b[0;32m/home/m93a/.local/lib/python3.6/site-packages/mpmath/matrices/eigen.py\u001b[0m in \u001b[0;36mqr_step\u001b[0;34m(ctx, n0, n1, A, Q, shift)\u001b[0m\n\u001b[1;32m    365\u001b[0m         \u001b[0;32mfor\u001b[0m \u001b[0mk\u001b[0m \u001b[0;32min\u001b[0m \u001b[0mxrange\u001b[0m\u001b[0;34m(\u001b[0m\u001b[0;36m0\u001b[0m\u001b[0;34m,\u001b[0m \u001b[0mmin\u001b[0m\u001b[0;34m(\u001b[0m\u001b[0mn1\u001b[0m\u001b[0;34m,\u001b[0m \u001b[0mj\u001b[0m\u001b[0;34m+\u001b[0m\u001b[0;36m4\u001b[0m\u001b[0;34m)\u001b[0m\u001b[0;34m)\u001b[0m\u001b[0;34m:\u001b[0m\u001b[0;34m\u001b[0m\u001b[0;34m\u001b[0m\u001b[0m\n\u001b[1;32m    366\u001b[0m             \u001b[0;31m# apply givens rotation from the right\u001b[0m\u001b[0;34m\u001b[0m\u001b[0;34m\u001b[0m\u001b[0;34m\u001b[0m\u001b[0m\n\u001b[0;32m--> 367\u001b[0;31m             \u001b[0mx\u001b[0m \u001b[0;34m=\u001b[0m \u001b[0mA\u001b[0m\u001b[0;34m[\u001b[0m\u001b[0mk\u001b[0m\u001b[0;34m,\u001b[0m\u001b[0mj\u001b[0m\u001b[0;34m+\u001b[0m\u001b[0;36m1\u001b[0m\u001b[0;34m]\u001b[0m\u001b[0;34m\u001b[0m\u001b[0;34m\u001b[0m\u001b[0m\n\u001b[0m\u001b[1;32m    368\u001b[0m             \u001b[0my\u001b[0m \u001b[0;34m=\u001b[0m \u001b[0mA\u001b[0m\u001b[0;34m[\u001b[0m\u001b[0mk\u001b[0m\u001b[0;34m,\u001b[0m\u001b[0mj\u001b[0m\u001b[0;34m+\u001b[0m\u001b[0;36m2\u001b[0m\u001b[0;34m]\u001b[0m\u001b[0;34m\u001b[0m\u001b[0;34m\u001b[0m\u001b[0m\n\u001b[1;32m    369\u001b[0m             \u001b[0mA\u001b[0m\u001b[0;34m[\u001b[0m\u001b[0mk\u001b[0m\u001b[0;34m,\u001b[0m\u001b[0mj\u001b[0m\u001b[0;34m+\u001b[0m\u001b[0;36m1\u001b[0m\u001b[0;34m]\u001b[0m \u001b[0;34m=\u001b[0m \u001b[0mc\u001b[0m \u001b[0;34m*\u001b[0m \u001b[0mx\u001b[0m \u001b[0;34m+\u001b[0m \u001b[0ms\u001b[0m \u001b[0;34m*\u001b[0m \u001b[0my\u001b[0m\u001b[0;34m\u001b[0m\u001b[0;34m\u001b[0m\u001b[0m\n",
      "\u001b[0;32m/home/m93a/.local/lib/python3.6/site-packages/mpmath/matrices/matrices.py\u001b[0m in \u001b[0;36m__getitem__\u001b[0;34m(self, key)\u001b[0m\n\u001b[1;32m    491\u001b[0m             \u001b[0;32mif\u001b[0m \u001b[0mkey\u001b[0m\u001b[0;34m[\u001b[0m\u001b[0;36m0\u001b[0m\u001b[0;34m]\u001b[0m \u001b[0;34m>=\u001b[0m \u001b[0mself\u001b[0m\u001b[0;34m.\u001b[0m\u001b[0m__rows\u001b[0m \u001b[0;32mor\u001b[0m \u001b[0mkey\u001b[0m\u001b[0;34m[\u001b[0m\u001b[0;36m1\u001b[0m\u001b[0;34m]\u001b[0m \u001b[0;34m>=\u001b[0m \u001b[0mself\u001b[0m\u001b[0;34m.\u001b[0m\u001b[0m__cols\u001b[0m\u001b[0;34m:\u001b[0m\u001b[0;34m\u001b[0m\u001b[0;34m\u001b[0m\u001b[0m\n\u001b[1;32m    492\u001b[0m                 \u001b[0;32mraise\u001b[0m \u001b[0mIndexError\u001b[0m\u001b[0;34m(\u001b[0m\u001b[0;34m'matrix index out of range'\u001b[0m\u001b[0;34m)\u001b[0m\u001b[0;34m\u001b[0m\u001b[0;34m\u001b[0m\u001b[0m\n\u001b[0;32m--> 493\u001b[0;31m             \u001b[0;32mif\u001b[0m \u001b[0mkey\u001b[0m \u001b[0;32min\u001b[0m \u001b[0mself\u001b[0m\u001b[0;34m.\u001b[0m\u001b[0m__data\u001b[0m\u001b[0;34m:\u001b[0m\u001b[0;34m\u001b[0m\u001b[0;34m\u001b[0m\u001b[0m\n\u001b[0m\u001b[1;32m    494\u001b[0m                 \u001b[0;32mreturn\u001b[0m \u001b[0mself\u001b[0m\u001b[0;34m.\u001b[0m\u001b[0m__data\u001b[0m\u001b[0;34m[\u001b[0m\u001b[0mkey\u001b[0m\u001b[0;34m]\u001b[0m\u001b[0;34m\u001b[0m\u001b[0;34m\u001b[0m\u001b[0m\n\u001b[1;32m    495\u001b[0m             \u001b[0;32melse\u001b[0m\u001b[0;34m:\u001b[0m\u001b[0;34m\u001b[0m\u001b[0;34m\u001b[0m\u001b[0m\n",
      "\u001b[0;31mKeyboardInterrupt\u001b[0m: "
     ]
    }
   ],
   "source": [
    "f = open(\"3c_hbar4.dat\", \"w\")\n",
    "\n",
    "for h in frange(0.001, 0.1, 0.005):\n",
    "    print(h)\n",
    "    f.write(\" \".join( [str(h)] + energiesf(4,1,h,5,24) ) + \"\\n\")\n",
    "    \n",
    "f.close()"
   ]
  },
  {
   "cell_type": "code",
   "execution_count": null,
   "metadata": {},
   "outputs": [],
   "source": []
  },
  {
   "cell_type": "code",
   "execution_count": 20,
   "metadata": {},
   "outputs": [
    {
     "name": "stdout",
     "output_type": "stream",
     "text": [
      "N = 16\n"
     ]
    },
    {
     "data": {
      "text/plain": [
       "['-0.10423481473844731227',\n",
       " '-0.10408290587747615064',\n",
       " '-0.064354139857641712297',\n",
       " '-0.063060931807740416843']"
      ]
     },
     "execution_count": 20,
     "metadata": {},
     "output_type": "execute_result"
    }
   ],
   "source": [
    "f = open(\"3c_hbar8.dat\", \"w\")\n",
    "\n",
    "for h in frange(0.001, 0.1, 0.005):\n",
    "    print(h)\n",
    "    f.write(\" \".join( [str(h)] + energiesf(8,1,h,3) ) + \"\\n\")\n",
    "    \n",
    "f.close()"
   ]
  },
  {
   "cell_type": "code",
   "execution_count": null,
   "metadata": {},
   "outputs": [],
   "source": []
  },
  {
   "cell_type": "code",
   "execution_count": 36,
   "metadata": {},
   "outputs": [
    {
     "name": "stdout",
     "output_type": "stream",
     "text": [
      "N = 32\n"
     ]
    },
    {
     "data": {
      "text/plain": [
       "[mpf('-0.1042609783353'),\n",
       " mpf('-0.1042609132401'),\n",
       " mpf('-0.06490926187143'),\n",
       " mpf('-0.0649001679003'),\n",
       " mpf('-0.02979239659066'),\n",
       " mpf('-0.02934695618751'),\n",
       " mpf('-0.003462117933793'),\n",
       " mpf('0.002722869222055')]"
      ]
     },
     "execution_count": 36,
     "metadata": {},
     "output_type": "execute_result"
    }
   ],
   "source": [
    "energies(8,1,0.03,2)"
   ]
  },
  {
   "cell_type": "code",
   "execution_count": 37,
   "metadata": {},
   "outputs": [
    {
     "name": "stdout",
     "output_type": "stream",
     "text": [
      "N = 40\n"
     ]
    },
    {
     "data": {
      "text/plain": [
       "[mpf('-0.1042609783572'),\n",
       " mpf('-0.1042609132528'),\n",
       " mpf('-0.06490926201968'),\n",
       " mpf('-0.06490016800217'),\n",
       " mpf('-0.0297923992207'),\n",
       " mpf('-0.02934695653607'),\n",
       " mpf('-0.003462129188648'),\n",
       " mpf('0.00272286558635')]"
      ]
     },
     "execution_count": 37,
     "metadata": {},
     "output_type": "execute_result"
    }
   ],
   "source": [
    "energies(8,1,0.03,3)"
   ]
  },
  {
   "cell_type": "code",
   "execution_count": null,
   "metadata": {},
   "outputs": [],
   "source": []
  }
 ],
 "metadata": {
  "kernelspec": {
   "display_name": "Python 3",
   "language": "python",
   "name": "python3"
  },
  "language_info": {
   "codemirror_mode": {
    "name": "ipython",
    "version": 3
   },
   "file_extension": ".py",
   "mimetype": "text/x-python",
   "name": "python",
   "nbconvert_exporter": "python",
   "pygments_lexer": "ipython3",
   "version": "3.6.9"
  }
 },
 "nbformat": 4,
 "nbformat_minor": 2
}
