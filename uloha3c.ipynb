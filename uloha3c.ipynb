{
 "cells": [
  {
   "cell_type": "code",
   "execution_count": 52,
   "metadata": {},
   "outputs": [],
   "source": [
    "from __future__ import division\n",
    "import sys\n",
    "sys.path.insert(0, \"~/.local/lib/python3.6/site-packages\")\n",
    "\n",
    "import sympy\n",
    "from sympy import *\n",
    "from sympy.physics.quantum import *\n",
    "\n",
    "def express(a, b, name):\n",
    "    sym = symbols(name)\n",
    "    sol = solve(a-sym, b)\n",
    "    assert len(sol) == 1\n",
    "    return (sym, sol[0])\n",
    "\n",
    "\n",
    "def frange(x, y, jump):\n",
    "    i = 0\n",
    "    curr = x + i*jump\n",
    "    \n",
    "    while curr < y:\n",
    "        yield curr\n",
    "        i += 1\n",
    "        curr = x + i*jump\n",
    "    \n",
    "\n",
    "import gmpy2\n",
    "import mpmath\n",
    "gmpy2.get_context().precision = 10\n",
    "mpmath.mp.dps = 10\n",
    "\n",
    "import numpy\n",
    "import scipy.linalg"
   ]
  },
  {
   "cell_type": "code",
   "execution_count": 2,
   "metadata": {},
   "outputs": [],
   "source": [
    "class OrthogonalKet(State, KetBase):\n",
    "    \n",
    "    @classmethod\n",
    "    def dual_class(self):\n",
    "        return OrthogonalBra\n",
    "    \n",
    "    def _eval_innerproduct(self, bra, **hints):\n",
    "\n",
    "        if len(self.args) != len(bra.args):\n",
    "            raise ValueError('Cannot multiply a ket that has a different number of labels.')\n",
    "            \n",
    "        for i in range(len(self.args)):\n",
    "            diff = self.args[i] - bra.args[i]\n",
    "            diff.simplify()\n",
    "            \n",
    "            if diff.is_nonzero:\n",
    "                return Number(0)\n",
    "            \n",
    "            if not diff.is_zero:\n",
    "                return None\n",
    "            \n",
    "        return Number(1)\n",
    "\n",
    "    \n",
    "class OrthogonalBra(State, BraBase):\n",
    "    \n",
    "    @classmethod\n",
    "    def dual_class(self):\n",
    "        return OrthogonalKet\n",
    "\n",
    "\n",
    "\n",
    "from sympy.printing.pycode import AbstractPythonCodePrinter\n",
    "\n",
    "def _print_inner_prod(self, expr):\n",
    "    bra,ket = expr.args\n",
    "    \n",
    "    \n",
    "    if not isinstance(bra, OrthogonalBra) or not isinstance(ket, OrthogonalKet):\n",
    "        print(bra.func, ket.func)\n",
    "        raise NotImplementedError('Only implemented for orthogonal states')\n",
    "    \n",
    "    if len(ket.args) != len(bra.args):\n",
    "        raise ValueError('Cannot multiply a ket that has a different number of labels.')\n",
    "\n",
    "    conditions = []\n",
    "\n",
    "    for i in range(len(ket.args)):\n",
    "        conditions.append('{a} == {b}'.format(\n",
    "            a = self._print(ket.args[i]),\n",
    "            b = self._print(bra.args[i])\n",
    "        ))\n",
    "\n",
    "    return '(1 if {c} else 0)'.format(\n",
    "        c = ' and '.join(conditions)\n",
    "    )\n",
    "\n",
    "AbstractPythonCodePrinter._print_InnerProduct = _print_inner_prod\n",
    "\n",
    "\n",
    "\n",
    "OKet, OBra = OrthogonalKet, OrthogonalBra\n",
    "\n",
    "def OBraKet(a,b):\n",
    "    return InnerProduct(OBra(a), OKet(b))"
   ]
  },
  {
   "cell_type": "code",
   "execution_count": 3,
   "metadata": {},
   "outputs": [],
   "source": [
    "# https://stackoverflow.com/q/59523322/1137334\n",
    "\n",
    "from sympy.core.operations import AssocOp\n",
    "\n",
    "def apply_ccr(expr, ccr, reverse=False):\n",
    "    if not isinstance(expr, Basic):\n",
    "        raise TypeError(\"The expression to simplify is not a sympy expression.\")\n",
    "        \n",
    "    if not isinstance(ccr, Eq):\n",
    "        if isinstance(ccr, Basic):\n",
    "            ccr = Eq(ccr, 0)\n",
    "        else:\n",
    "            raise TypeError(\"The canonical commutation relation is not a sympy expression.\")\n",
    "    \n",
    "    comm = None\n",
    "    \n",
    "    for node in preorder_traversal(ccr):\n",
    "        if isinstance(node, Commutator):\n",
    "            comm = node\n",
    "            break\n",
    "            \n",
    "    if comm is None:\n",
    "        raise ValueError(\"The cannonical commutation relation doesn not include a commutator.\")\n",
    "        \n",
    "    solutions = solve(ccr, comm)\n",
    "    \n",
    "    if len(solutions) != 1:\n",
    "        raise ValueError(\"There are more solutions to the cannonical commutation relation.\")\n",
    "        \n",
    "    value = solutions[0]\n",
    "    \n",
    "    A = comm.args[0]\n",
    "    B = comm.args[1]\n",
    "    \n",
    "    if reverse:\n",
    "        (A, B) = (B, A)\n",
    "        value = -value\n",
    "    \n",
    "    def is_expandable_pow_of(base, expr):\n",
    "        return isinstance(expr, Pow) \\\n",
    "            and base == expr.args[0] \\\n",
    "            and isinstance(expr.args[1], Number) \\\n",
    "            and expr.args[1] >= 1\n",
    "    \n",
    "    \n",
    "    def walk_tree(expr):\n",
    "        if isinstance(expr, Number):\n",
    "            return expr\n",
    "        \n",
    "        if not isinstance(expr, AssocOp) and not isinstance(expr, Function):\n",
    "            return expr.copy()\n",
    "        \n",
    "        elif not isinstance(expr, Mul):\n",
    "            return expr.func(*(walk_tree(node) for node in expr.args))\n",
    "        \n",
    "        else:\n",
    "            args = [arg for arg in expr.args]\n",
    "            \n",
    "            for i in range(len(args)-1):\n",
    "                x = args[i]\n",
    "                y = args[i+1]\n",
    "                \n",
    "                if B == x and A == y:\n",
    "                    args = args[0:i] + [A*B - value] + args[i+2:]\n",
    "                    return walk_tree( Mul(*args).expand() )\n",
    "                \n",
    "                if B == x and is_expandable_pow_of(A, y):\n",
    "                    ypow = Pow(A, y.args[1] - 1)\n",
    "                    args = args[0:i] + [A*B - value, ypow] + args[i+2:]\n",
    "                    return walk_tree( Mul(*args).expand() )\n",
    "                \n",
    "                if is_expandable_pow_of(B, x) and A == y:\n",
    "                    xpow = Pow(B, x.args[1] - 1)\n",
    "                    args = args[0:i] + [xpow, A*B - value] + args[i+2:]\n",
    "                    return walk_tree( Mul(*args).expand() )\n",
    "                \n",
    "                if is_expandable_pow_of(B, x) and is_expandable_pow_of(A, y):\n",
    "                    xpow = Pow(B, x.args[1] - 1)\n",
    "                    ypow = Pow(A, y.args[1] - 1)\n",
    "                    args = args[0:i] + [xpow, A*B - value, ypow] + args[i+2:]\n",
    "                    return walk_tree( Mul(*args).expand() )\n",
    "            \n",
    "            return expr.copy()\n",
    "            \n",
    "    \n",
    "    return walk_tree(expr)\n",
    "   \n",
    "\n",
    "Basic.apply_ccr = lambda self, ccr, reverse=False: apply_ccr(self, ccr, reverse)\n"
   ]
  },
  {
   "cell_type": "code",
   "execution_count": 4,
   "metadata": {},
   "outputs": [],
   "source": [
    "# https://stackoverflow.com/q/59524925/1137334\n",
    "\n",
    "from sympy.core.operations import AssocOp\n",
    "\n",
    "def apply_operator(expr, eqns):\n",
    "    if not isinstance(expr, Basic):\n",
    "        raise TypeError(\"The expression to simplify is not a sympy expression.\")\n",
    "    \n",
    "    if not isinstance(eqns, list) and not isinstance(eqns, tuple):\n",
    "        eqns = (eqns,)\n",
    "    \n",
    "    \n",
    "    rules = []\n",
    "    \n",
    "    \n",
    "    class Rule(object):\n",
    "        operator = None\n",
    "        ketSymbol = None\n",
    "        result = None\n",
    "        generic = False\n",
    "    \n",
    "    \n",
    "    def is_operator(op):\n",
    "        return isinstance(op, Operator) \\\n",
    "        or isinstance(op, Dagger) \\\n",
    "        and isinstance(op.args[0], Operator)\n",
    "    \n",
    "    \n",
    "    for eqn in eqns:\n",
    "        if not isinstance(eqn, Eq):\n",
    "            raise TypeError(\"One of the equations is not a valid sympy equation.\")\n",
    "        \n",
    "        lhs = eqn.lhs\n",
    "        rhs = eqn.rhs\n",
    "        \n",
    "        if not isinstance(lhs, Mul) \\\n",
    "        or len(lhs.args) != 2 \\\n",
    "        or not is_operator(lhs.args[0]) \\\n",
    "        or not isinstance(lhs.args[1], KetBase):\n",
    "            raise ValueError(\"The left-hand side has to be an operator applied to a ket.\")\n",
    "        \n",
    "        rule = Rule()\n",
    "        rule.operator = lhs.args[0]\n",
    "        rule.ketSymbol = lhs.args[1].args[0]\n",
    "        rule.result = rhs\n",
    "        \n",
    "        if not isinstance(rule.ketSymbol, Symbol):\n",
    "            raise ValueError(\"The left-hand ket has to contain a simple symbol.\")\n",
    "        \n",
    "        for ket in preorder_traversal(rhs):\n",
    "            if isinstance(ket, KetBase):\n",
    "                for symb in preorder_traversal(ket):\n",
    "                    if symb == rule.ketSymbol:\n",
    "                        rule.generic = True\n",
    "                        break\n",
    "                        \n",
    "        rules.append(rule)\n",
    "    \n",
    "    \n",
    "    def is_expandable_pow_of(base, expr):\n",
    "        return isinstance(expr, Pow) \\\n",
    "            and base == expr.args[0] \\\n",
    "            and isinstance(expr.args[1], Number) \\\n",
    "            and expr.args[1] >= 1\n",
    "            \n",
    "            \n",
    "    def is_ket_of_rule(ket, rule):\n",
    "        if not isinstance(ket, KetBase):\n",
    "            return False\n",
    "        \n",
    "        if rule.generic:\n",
    "            for sym in preorder_traversal(ket):\n",
    "                if sym == rule.ketSymbol:\n",
    "                    return True\n",
    "            return False\n",
    "                \n",
    "        else:\n",
    "            return ket.args[0] == rule.ketSymbol\n",
    "    \n",
    "    \n",
    "    def walk_tree(expr):\n",
    "        if isinstance(expr, Number):\n",
    "            return expr\n",
    "        \n",
    "        if not isinstance(expr, AssocOp) and not isinstance(expr, Function):\n",
    "            return expr.copy()\n",
    "        \n",
    "        elif not isinstance(expr, Mul):\n",
    "            return expr.func(*(walk_tree(node) for node in expr.args))\n",
    "        \n",
    "        else:\n",
    "            args = [arg for arg in expr.args]\n",
    "            \n",
    "            for rule in rules:\n",
    "                A = rule.operator\n",
    "                ketSym = rule.ketSymbol\n",
    "                \n",
    "                for i in range(len(args)-1):\n",
    "                    x = args[i]\n",
    "                    y = args[i+1]\n",
    "\n",
    "                    if A == x and is_ket_of_rule(y, rule):\n",
    "                        ev = rule.result\n",
    "                        \n",
    "                        if rule.generic:\n",
    "                            ev = ev.subs(rule.ketSymbol, y.args[0])\n",
    "                        \n",
    "                        args = args[0:i] + [ev] + args[i+2:]\n",
    "                        return walk_tree( Mul(*args).expand() )\n",
    "\n",
    "                    if is_expandable_pow_of(A, x) and is_ket_of_rule(y, rule):\n",
    "                        xpow = Pow(A, x.args[1] - 1)\n",
    "                        ev = rule.result\n",
    "                        \n",
    "                        if rule.generic:\n",
    "                            ev = ev.subs(rule.ketSymbol, y.args[0])\n",
    "                        \n",
    "                        args = args[0:i] + [xpow, ev] + args[i+2:]\n",
    "                        return walk_tree( Mul(*args).expand() )\n",
    "                \n",
    "            \n",
    "            return expr.copy()\n",
    "            \n",
    "    \n",
    "    return walk_tree(expr)\n",
    "   \n",
    "\n",
    "Basic.apply_operator = lambda self, *eqns: apply_operator(self, eqns)\n"
   ]
  },
  {
   "cell_type": "code",
   "execution_count": null,
   "metadata": {},
   "outputs": [],
   "source": []
  },
  {
   "cell_type": "code",
   "execution_count": 5,
   "metadata": {},
   "outputs": [],
   "source": [
    "A = Operator('ahat')\n",
    "Ad = Dagger(A)\n",
    "N = Ad * A\n",
    "\n",
    "ccr = Eq( Commutator(A, Ad),  1 )\n",
    "\n",
    "m, n = symbols('m n', integer=True, negative=False)\n",
    "down = Eq( A *OKet(n), sqrt(n  )*OKet(n-1) )\n",
    "up   = Eq( Ad*OKet(n), sqrt(n+1)*OKet(n+1) )\n",
    "\n",
    "M, hbar, O = symbols('M hbar Omega', positive=True)\n",
    "b = symbols('b')\n",
    "\n",
    "x_ =     sqrt( hbar / (2*M*O) ) * (Ad + A)\n",
    "p_ = I * sqrt( hbar * M*O / 2 ) * (Ad - A)\n",
    "\n",
    "assert I * hbar == Commutator(x_, p_).doit().expand().apply_ccr(ccr)"
   ]
  },
  {
   "cell_type": "code",
   "execution_count": 6,
   "metadata": {},
   "outputs": [
    {
     "data": {
      "text/latex": [
       "$\\displaystyle - \\frac{a \\hat{x}^{2}}{2} + \\frac{b \\hat{x}^{4}}{2} + \\frac{\\hat{p}^{2}}{2 M}$"
      ],
      "text/plain": [
       "-a*xhat**2/2 + b*xhat**4/2 + phat**2/(2*M)"
      ]
     },
     "execution_count": 6,
     "metadata": {},
     "output_type": "execute_result"
    }
   ],
   "source": [
    "a, b = symbols('a b')\n",
    "p, x = Operator('phat'), Operator('xhat')\n",
    "H = p**2 / (2*M)  -  (a*x**2)/2  +  (b*x**4)/2\n",
    "H"
   ]
  },
  {
   "cell_type": "code",
   "execution_count": 7,
   "metadata": {},
   "outputs": [
    {
     "data": {
      "text/latex": [
       "$\\displaystyle \\frac{\\hbar^{2} \\sqrt{n} \\sqrt{n - 3} \\sqrt{n - 2} \\sqrt{n - 1} \\left\\langle m \\right. {\\left|n - 4\\right\\rangle }}{8} + \\frac{\\hbar^{2} \\sqrt{n + 1} \\sqrt{n + 2} \\sqrt{n + 3} \\sqrt{n + 4} \\left\\langle m \\right. {\\left|n + 4\\right\\rangle }}{8} + \\left(- \\frac{a \\hbar \\sqrt{n} \\sqrt{n - 1}}{4} + \\frac{\\hbar^{2} n^{\\frac{3}{2}} \\sqrt{n - 1}}{2} - \\frac{\\hbar^{2} \\sqrt{n} \\sqrt{n - 1}}{4} - \\frac{\\hbar \\sqrt{n} \\sqrt{n - 1}}{4}\\right) \\left\\langle m \\right. {\\left|n - 2\\right\\rangle } + \\left(- \\frac{a \\hbar \\sqrt{n + 1} \\sqrt{n + 2}}{4} + \\frac{\\hbar^{2} n \\sqrt{n + 1} \\sqrt{n + 2}}{2} + \\frac{3 \\hbar^{2} \\sqrt{n + 1} \\sqrt{n + 2}}{4} - \\frac{\\hbar \\sqrt{n + 1} \\sqrt{n + 2}}{4}\\right) \\left\\langle m \\right. {\\left|n + 2\\right\\rangle } + \\left(- \\frac{a \\hbar n}{2} - \\frac{a \\hbar}{4} + \\frac{3 \\hbar^{2} n^{2}}{4} + \\frac{3 \\hbar^{2} n}{4} + \\frac{3 \\hbar^{2}}{8} + \\frac{\\hbar n}{2} + \\frac{\\hbar}{4}\\right) \\left\\langle m \\right. {\\left|n\\right\\rangle }$"
      ],
      "text/plain": [
       "hbar**2*sqrt(n)*sqrt(n - 3)*sqrt(n - 2)*sqrt(n - 1)*<m|n - 4>/8 + hbar**2*sqrt(n + 1)*sqrt(n + 2)*sqrt(n + 3)*sqrt(n + 4)*<m|n + 4>/8 + (-a*hbar*sqrt(n)*sqrt(n - 1)/4 + hbar**2*n**(3/2)*sqrt(n - 1)/2 - hbar**2*sqrt(n)*sqrt(n - 1)/4 - hbar*sqrt(n)*sqrt(n - 1)/4)*<m|n - 2> + (-a*hbar*sqrt(n + 1)*sqrt(n + 2)/4 + hbar**2*n*sqrt(n + 1)*sqrt(n + 2)/2 + 3*hbar**2*sqrt(n + 1)*sqrt(n + 2)/4 - hbar*sqrt(n + 1)*sqrt(n + 2)/4)*<m|n + 2> + (-a*hbar*n/2 - a*hbar/4 + 3*hbar**2*n**2/4 + 3*hbar**2*n/4 + 3*hbar**2/8 + hbar*n/2 + hbar/4)*<m|n>"
      ]
     },
     "execution_count": 7,
     "metadata": {},
     "output_type": "execute_result"
    }
   ],
   "source": [
    "Hmn = OBra(m) * H * OKet(n)\n",
    "Hmn = Hmn.subs(x, x_).subs(p, p_)\n",
    "Hmn = Hmn.expand()\n",
    "Hmn = Hmn.apply_operator(up, down)\n",
    "Hmn = Hmn.subs(M,1).subs(O,1).subs(b,1)\n",
    "Hmn = qapply(Hmn)\n",
    "Hmn = eval(srepr(Hmn))\n",
    "Hmn = Hmn.collect(OBraKet(m,n-4))\n",
    "Hmn = Hmn.collect(OBraKet(m,n-2))\n",
    "Hmn = Hmn.collect(OBraKet(m,n))\n",
    "Hmn = Hmn.collect(OBraKet(m,n+2))\n",
    "Hmn = Hmn.collect(OBraKet(m,n+4))\n",
    "Hmn"
   ]
  },
  {
   "cell_type": "code",
   "execution_count": null,
   "metadata": {},
   "outputs": [],
   "source": []
  },
  {
   "cell_type": "code",
   "execution_count": 8,
   "metadata": {},
   "outputs": [
    {
     "data": {
      "text/latex": [
       "$\\displaystyle \\frac{\\hbar^{2} \\sqrt{n} \\sqrt{\\left(n - 3\\right) \\left(n - 2\\right) \\left(n - 1\\right)} \\left\\langle m \\right. {\\left|n - 4\\right\\rangle }}{8} + \\frac{\\hbar^{2} \\sqrt{n + 1} \\sqrt{n + 2} \\sqrt{n + 3} \\sqrt{n + 4} \\left\\langle m \\right. {\\left|n + 4\\right\\rangle }}{8} + \\frac{\\hbar \\sqrt{n} \\sqrt{n - 1} \\left(- a + 2 \\hbar n - \\hbar - 1\\right) \\left\\langle m \\right. {\\left|n - 2\\right\\rangle }}{4} + \\frac{\\hbar \\sqrt{n + 1} \\sqrt{n + 2} \\left(- a + 2 \\hbar n + 3 \\hbar - 1\\right) \\left\\langle m \\right. {\\left|n + 2\\right\\rangle }}{4} + \\frac{\\hbar \\left(- 4 a n - 2 a + 6 \\hbar n^{2} + 6 \\hbar n + 3 \\hbar + 4 n + 2\\right) \\left\\langle m \\right. {\\left|n\\right\\rangle }}{8}$"
      ],
      "text/plain": [
       "hbar**2*sqrt(n)*sqrt((n - 3)*(n - 2)*(n - 1))*<m|n - 4>/8 + hbar**2*sqrt(n + 1)*sqrt(n + 2)*sqrt(n + 3)*sqrt(n + 4)*<m|n + 4>/8 + hbar*sqrt(n)*sqrt(n - 1)*(-a + 2*hbar*n - hbar - 1)*<m|n - 2>/4 + hbar*sqrt(n + 1)*sqrt(n + 2)*(-a + 2*hbar*n + 3*hbar - 1)*<m|n + 2>/4 + hbar*(-4*a*n - 2*a + 6*hbar*n**2 + 6*hbar*n + 3*hbar + 4*n + 2)*<m|n>/8"
      ]
     },
     "execution_count": 8,
     "metadata": {},
     "output_type": "execute_result"
    }
   ],
   "source": [
    "Hmn_refined = \\\n",
    "    hbar**2 / 8  *  sqrt(n*(n - 1)*(n - 2)*(n - 3)) * OBraKet(m,n-4) + \\\n",
    "    hbar**2 / 8  *  sqrt((n + 1)*(n + 2)*(n + 3)*(n + 4)) * OBraKet(m,n+4) + \\\n",
    "    hbar/4 * sqrt(n*(n - 1)) * (2 *hbar *n - hbar - a - 1) * OBraKet(m,n-2) + \\\n",
    "    hbar/4 * sqrt((n+1)*(n+2)) * (-a + 2*hbar*n + 3*hbar - 1) * OBraKet(m,n+2) + \\\n",
    "    hbar/8 * (- 4*a*n - 2*a + 6*hbar *n**2 + 6*hbar*n + 3*hbar + 4*n + 2) * OBraKet(m,n)\n",
    "    \n",
    "assert 0 == (Hmn - Hmn_refined).subs(n,n+4).simplify()\n",
    "\n",
    "Hmn = Hmn_refined\n",
    "Hmn"
   ]
  },
  {
   "cell_type": "code",
   "execution_count": null,
   "metadata": {},
   "outputs": [],
   "source": []
  },
  {
   "cell_type": "code",
   "execution_count": 59,
   "metadata": {},
   "outputs": [],
   "source": [
    "Hmn_fun = lambdify( (m,n,a,hbar), re(Hmn), modules='sympy' )\n",
    "Hmn_prec = lambda i,j,a,h: sympy.N(Hmn_fun(i,j,a,h), 10)\n",
    "\n",
    "def H_mat(N,a,h):\n",
    "    \n",
    "    mat = mpmath.matrix(N)\n",
    "    \n",
    "    for i in range(N):\n",
    "        for j in range(N):\n",
    "            mat[i,j] = mpmath.mpf(Hmn_prec(i,j,a,h))\n",
    "            \n",
    "    return mat\n",
    "    \n",
    "    \n",
    "def H_eigvals(N,a,h):\n",
    "    ev,_ = mpmath.eig(H_mat(N,a,h))\n",
    "    ev.sort()\n",
    "    return ev\n",
    "\n",
    "\n",
    "def H_mat_fast(N,a,h):\n",
    "    \n",
    "    mat = numpy.ndarray( (N,N) )\n",
    "    \n",
    "    for i in range(N):\n",
    "        for j in range(N):\n",
    "            mat[i,j] = float(Hmn_prec(i,j,a,h))\n",
    "            \n",
    "    return mat\n",
    "\n",
    "\n",
    "def H_eigvals_fast(N,a,h):\n",
    "    ev = [ n.real for n in scipy.linalg.eigvals(H_mat_fast(N,a,h)) ]\n",
    "    ev.sort()\n",
    "    return ev"
   ]
  },
  {
   "cell_type": "code",
   "execution_count": 61,
   "metadata": {},
   "outputs": [],
   "source": [
    "def energies(k,a,h,prec,Nmin=None):\n",
    "    maxdiff = 10**(-prec-3)\n",
    "    ev_now = []\n",
    "    ev_nxt = H_eigvals(k,a,h)\n",
    "    \n",
    "    if Nmin is None or Nmin <= k:\n",
    "        Nmin = 2*k\n",
    "    \n",
    "    for N in range(Nmin,100*k,k):\n",
    "        ev_now = ev_nxt\n",
    "        ev_nxt = H_eigvals(N,a,h)\n",
    "        \n",
    "        if all([ abs(ev_nxt[i] - ev_now[i]) < maxdiff for i in range(k) ]):\n",
    "            print(\"N = \"+str(N))\n",
    "            break\n",
    "        \n",
    "    return [ev_nxt[i] for i in range(k)]\n",
    "\n",
    "def energiesf(k,a,h,prec,Nmin=None):\n",
    "    return [ mpmath.nstr(ev, prec) for ev in energies(k,a,h,prec,Nmin) ]\n",
    "\n",
    "def energies_fast(k,a,h,prec,Nmin=None):\n",
    "    maxdiff = 10**(-prec-3)\n",
    "    ev_now = []\n",
    "    ev_nxt = H_eigvals_fast(k,a,h)\n",
    "    \n",
    "    if Nmin is None or Nmin <= k:\n",
    "        Nmin = 2*k\n",
    "    \n",
    "    for N in range(Nmin,100*k,k):\n",
    "        ev_now = ev_nxt\n",
    "        ev_nxt = H_eigvals_fast(N,a,h)\n",
    "        \n",
    "        if all([ abs(ev_nxt[i] - ev_now[i]) < maxdiff for i in range(k) ]):\n",
    "            print(\"N = \"+str(N))\n",
    "            break\n",
    "        \n",
    "    return [ev_nxt[i] for i in range(k)]\n",
    "\n",
    "def energies_faster(k,a,h,prec,N):\n",
    "    ev = H_eigvals_fast(N,a,h)\n",
    "    return [ev[i] for i in range(k)]"
   ]
  },
  {
   "cell_type": "code",
   "execution_count": null,
   "metadata": {},
   "outputs": [],
   "source": []
  },
  {
   "cell_type": "code",
   "execution_count": 32,
   "metadata": {},
   "outputs": [
    {
     "name": "stdout",
     "output_type": "stream",
     "text": [
      "N = 32\n"
     ]
    },
    {
     "data": {
      "text/plain": [
       "['-0.10426', '-0.10426', '-0.064909', '-0.0649']"
      ]
     },
     "execution_count": 32,
     "metadata": {},
     "output_type": "execute_result"
    }
   ],
   "source": [
    "f = open(\"3c_eigvals.csv\", \"w\")\n",
    "\n",
    "ev = energiesf(4,1,0.03,5,24)\n",
    "f.write(\"ea, eb, ec, ed \\n\")\n",
    "f.write(\", \".join(ev))\n",
    "\n",
    "f.close()\n",
    "\n",
    "ev"
   ]
  },
  {
   "cell_type": "code",
   "execution_count": null,
   "metadata": {},
   "outputs": [],
   "source": []
  },
  {
   "cell_type": "code",
   "execution_count": null,
   "metadata": {},
   "outputs": [],
   "source": []
  },
  {
   "cell_type": "code",
   "execution_count": null,
   "metadata": {},
   "outputs": [],
   "source": []
  },
  {
   "cell_type": "code",
   "execution_count": 104,
   "metadata": {},
   "outputs": [
    {
     "name": "stdout",
     "output_type": "stream",
     "text": [
      "0.0\n",
      "0.0003\n",
      "0.0006\n",
      "0.0009\n",
      "0.0012\n",
      "0.0014999999999999998\n",
      "0.0018\n",
      "0.0021\n",
      "0.0024\n",
      "0.0026999999999999997\n",
      "0.0029999999999999996\n",
      "0.0032999999999999995\n",
      "0.0036\n",
      "0.0039\n",
      "0.0042\n",
      "0.0045\n",
      "0.0048\n",
      "0.0050999999999999995\n",
      "0.005399999999999999\n",
      "0.005699999999999999\n",
      "0.005999999999999999\n",
      "0.006299999999999999\n",
      "0.006599999999999999\n",
      "0.006899999999999999\n",
      "0.0072\n",
      "0.0075\n",
      "0.0078\n",
      "0.0081\n",
      "0.0084\n",
      "0.0087\n",
      "0.009\n",
      "0.0093\n",
      "0.0096\n",
      "0.009899999999999999\n",
      "0.010199999999999999\n",
      "0.010499999999999999\n",
      "0.010799999999999999\n",
      "0.011099999999999999\n",
      "0.011399999999999999\n",
      "0.011699999999999999\n",
      "0.011999999999999999\n",
      "0.012299999999999998\n",
      "0.012599999999999998\n",
      "0.012899999999999998\n",
      "0.013199999999999998\n",
      "0.013499999999999998\n",
      "0.013799999999999998\n",
      "0.014099999999999998\n",
      "0.0144\n",
      "0.0147\n",
      "0.015\n",
      "0.0153\n",
      "0.0156\n",
      "0.015899999999999997\n",
      "0.0162\n",
      "0.016499999999999997\n",
      "0.0168\n",
      "0.017099999999999997\n",
      "0.0174\n",
      "0.017699999999999997\n",
      "0.018\n",
      "0.018299999999999997\n",
      "0.0186\n",
      "0.018899999999999997\n",
      "0.0192\n",
      "0.0195\n",
      "0.019799999999999998\n",
      "0.0201\n",
      "0.020399999999999998\n",
      "0.0207\n",
      "0.020999999999999998\n",
      "0.0213\n",
      "0.021599999999999998\n",
      "0.0219\n",
      "0.022199999999999998\n",
      "0.0225\n",
      "0.022799999999999997\n",
      "0.0231\n",
      "0.023399999999999997\n",
      "0.0237\n",
      "0.023999999999999997\n",
      "0.0243\n",
      "0.024599999999999997\n",
      "0.0249\n",
      "0.025199999999999997\n",
      "0.0255\n",
      "0.025799999999999997\n",
      "0.026099999999999998\n",
      "0.026399999999999996\n",
      "0.026699999999999998\n",
      "0.026999999999999996\n",
      "0.027299999999999998\n",
      "0.027599999999999996\n",
      "0.027899999999999998\n",
      "0.028199999999999996\n",
      "0.028499999999999998\n",
      "0.0288\n",
      "0.029099999999999997\n",
      "0.0294\n",
      "0.029699999999999997\n"
     ]
    }
   ],
   "source": [
    "f = open(\"3c_hbar_prec45.dat\", \"w\", buffering=1)\n",
    "\n",
    "for h in frange(0.0, 0.03, 0.0003):\n",
    "    print(h)\n",
    "    arr = [h] + energies_faster(8,1,h,3,45)\n",
    "    f.write(\" \".join( [str(n) for n in arr] ) + \"\\n\")\n",
    "    \n",
    "f.close()"
   ]
  },
  {
   "cell_type": "code",
   "execution_count": null,
   "metadata": {},
   "outputs": [],
   "source": []
  },
  {
   "cell_type": "code",
   "execution_count": 73,
   "metadata": {},
   "outputs": [
    {
     "name": "stdout",
     "output_type": "stream",
     "text": [
      "N = 48\n"
     ]
    },
    {
     "data": {
      "text/plain": [
       "[-0.104260978339396,\n",
       " -0.10426091324244724,\n",
       " -0.06490926200816749,\n",
       " -0.0649001679985942,\n",
       " -0.029792399225931705,\n",
       " -0.029346956539089777,\n",
       " -0.0034621291903542705,\n",
       " 0.0027228655845642612]"
      ]
     },
     "execution_count": 73,
     "metadata": {},
     "output_type": "execute_result"
    }
   ],
   "source": [
    "energies_fast(8,1,0.03,3,40)"
   ]
  },
  {
   "cell_type": "code",
   "execution_count": null,
   "metadata": {},
   "outputs": [],
   "source": []
  },
  {
   "cell_type": "code",
   "execution_count": 74,
   "metadata": {},
   "outputs": [
    {
     "name": "stdout",
     "output_type": "stream",
     "text": [
      "N = 64\n"
     ]
    },
    {
     "data": {
      "text/plain": [
       "[0.3288265025909685,\n",
       " 1.4172681010574522,\n",
       " 3.081950628485787,\n",
       " 5.019323060371725,\n",
       " 7.186203252293968,\n",
       " 9.542857342858646,\n",
       " 12.064037747207951,\n",
       " 14.731427963167326]"
      ]
     },
     "execution_count": 74,
     "metadata": {},
     "output_type": "execute_result"
    }
   ],
   "source": [
    "energies_fast(8,1,1,3,40)"
   ]
  },
  {
   "cell_type": "code",
   "execution_count": null,
   "metadata": {},
   "outputs": [],
   "source": []
  },
  {
   "cell_type": "code",
   "execution_count": 75,
   "metadata": {},
   "outputs": [
    {
     "name": "stdout",
     "output_type": "stream",
     "text": [
      "N = 64\n"
     ]
    },
    {
     "data": {
      "text/plain": [
       "[-0.11797975697376543,\n",
       " -0.11797975697357879,\n",
       " -0.10414903196996549,\n",
       " -0.10414903196996408,\n",
       " -0.09064955583143097,\n",
       " -0.09064955583122299,\n",
       " -0.07750710806376218,\n",
       " -0.0775071080622314]"
      ]
     },
     "execution_count": 75,
     "metadata": {},
     "output_type": "execute_result"
    }
   ],
   "source": [
    "energies_fast(8,1,0.01,3,40)"
   ]
  },
  {
   "cell_type": "code",
   "execution_count": 90,
   "metadata": {},
   "outputs": [
    {
     "data": {
      "text/latex": [
       "$\\displaystyle - 20 \\left\\langle n \\right. {\\left|n\\right\\rangle }$"
      ],
      "text/plain": [
       "-20*<n|n>"
      ]
     },
     "execution_count": 90,
     "metadata": {},
     "output_type": "execute_result"
    }
   ],
   "source": [
    "expr = ( Bra('m') + 2*Bra('n') ) * ( Ket('n') - 3*Ket('m') )\n",
    "expr = expr.subs( Bra('m'), 2*Bra('n') ).subs( Ket('m'), 2*Ket('n') )\n",
    "expr = expr.expand()\n",
    "expr = qapply(expr)\n",
    "expr"
   ]
  },
  {
   "cell_type": "code",
   "execution_count": null,
   "metadata": {},
   "outputs": [],
   "source": []
  },
  {
   "cell_type": "code",
   "execution_count": null,
   "metadata": {},
   "outputs": [],
   "source": []
  }
 ],
 "metadata": {
  "kernelspec": {
   "display_name": "Python 3",
   "language": "python",
   "name": "python3"
  },
  "language_info": {
   "codemirror_mode": {
    "name": "ipython",
    "version": 3
   },
   "file_extension": ".py",
   "mimetype": "text/x-python",
   "name": "python",
   "nbconvert_exporter": "python",
   "pygments_lexer": "ipython3",
   "version": "3.6.9"
  }
 },
 "nbformat": 4,
 "nbformat_minor": 2
}
