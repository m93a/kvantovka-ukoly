{
 "cells": [
  {
   "cell_type": "code",
   "execution_count": 4,
   "metadata": {},
   "outputs": [],
   "source": [
    "from __future__ import division\n",
    "import sys\n",
    "sys.path.insert(0, \"~/.local/lib/python3.6/site-packages\")\n",
    "\n",
    "import sympy\n",
    "from sympy import *\n",
    "\n",
    "def express(a, b, name):\n",
    "    sym = symbols(name)\n",
    "    sol = solve(a-sym, b)\n",
    "    assert len(sol) == 1\n",
    "    return (sym, sol[0])"
   ]
  },
  {
   "cell_type": "code",
   "execution_count": 5,
   "metadata": {},
   "outputs": [
    {
     "data": {
      "text/latex": [
       "$\\displaystyle t^{2} + 1 - \\frac{t \\left(- e + \\lambda\\right)}{\\nu}$"
      ],
      "text/plain": [
       "t**2 + 1 - t*(-e + lambda)/nu"
      ]
     },
     "execution_count": 5,
     "metadata": {},
     "output_type": "execute_result"
    }
   ],
   "source": [
    "e, t, nu, l = symbols('e t nu lambda')\n",
    "\n",
    "p = t**2 - (l-e)/nu * t + 1\n",
    "p"
   ]
  },
  {
   "cell_type": "code",
   "execution_count": 6,
   "metadata": {},
   "outputs": [],
   "source": [
    "t1, t2 = solve(p, t)\n",
    "\n",
    "\n",
    "n, A, B = symbols('n, A B')\n",
    "u = A * t1**n + B * t2**n"
   ]
  },
  {
   "cell_type": "code",
   "execution_count": 7,
   "metadata": {},
   "outputs": [
    {
     "data": {
      "text/latex": [
       "$\\displaystyle \\frac{\\nu u_{1} \\left(- \\left(\\frac{- e + \\lambda - \\sqrt{- \\left(- e + \\lambda + 2 \\nu\\right) \\left(e - \\lambda + 2 \\nu\\right)}}{2 \\nu}\\right)^{n} + \\left(\\frac{- e + \\lambda + \\sqrt{- \\left(- e + \\lambda + 2 \\nu\\right) \\left(e - \\lambda + 2 \\nu\\right)}}{2 \\nu}\\right)^{n}\\right)}{\\sqrt{e^{2} - 2 e \\lambda + \\lambda^{2} - 4 \\nu^{2}}}$"
      ],
      "text/plain": [
       "nu*u_1*(-((-e + lambda - sqrt(-(-e + lambda + 2*nu)*(e - lambda + 2*nu)))/(2*nu))**n + ((-e + lambda + sqrt(-(-e + lambda + 2*nu)*(e - lambda + 2*nu)))/(2*nu))**n)/sqrt(e**2 - 2*e*lambda + lambda**2 - 4*nu**2)"
      ]
     },
     "execution_count": 7,
     "metadata": {},
     "output_type": "execute_result"
    }
   ],
   "source": [
    "u1 = symbols('u_1')\n",
    "u2 = (l-e)/nu * u1\n",
    "u3 = ( (l-e)**2 / nu**2 - 1 )*u1\n",
    "\n",
    "eqns = (\n",
    "    Eq( u2,   u.subs(n,2) ),\n",
    "    Eq( u3,   u.subs(n,3) )\n",
    ")\n",
    "\n",
    "sln = solve(eqns, (A,B))\n",
    "\n",
    "u = u.subs(A, sln[A])\n",
    "u = u.subs(B, sln[B])\n",
    "u = u.simplify()\n",
    "\n",
    "u"
   ]
  },
  {
   "cell_type": "code",
   "execution_count": 8,
   "metadata": {},
   "outputs": [
    {
     "data": {
      "text/latex": [
       "$\\displaystyle 0$"
      ],
      "text/plain": [
       "0"
      ]
     },
     "execution_count": 8,
     "metadata": {},
     "output_type": "execute_result"
    }
   ],
   "source": [
    "zero = -u + (l-e)/nu * u.subs(n,n-1) - u.subs(n,n-2)\n",
    "zero.simplify()"
   ]
  },
  {
   "cell_type": "code",
   "execution_count": 56,
   "metadata": {},
   "outputs": [],
   "source": [
    "def H_gen(N):\n",
    "     return Matrix(N,N, lambda i,j : e if i==j else nu if abs(i-j)==1 else 0)\n",
    "    \n",
    "def H_eigenvec(N,ll):\n",
    "    return Matrix([[u.subs(l,ll).subs(n,nn) for nn in range(N)]]).T"
   ]
  },
  {
   "cell_type": "code",
   "execution_count": 60,
   "metadata": {},
   "outputs": [
    {
     "name": "stdout",
     "output_type": "stream",
     "text": [
      "Checking equality for N ∈ [1,9]...\n",
      "Matrix([[-sqrt(2)/2], [sqrt(2)/2]])\n",
      "Matrix([[0], [nu*u_1*(-(-nu - sqrt(3)*sqrt(-nu**2))/(2*nu) + (-nu + sqrt(3)*sqrt(-nu**2))/(2*nu))/(sqrt(e**2 - 2*e*(e - nu) - 4*nu**2 + (e - nu)**2)*Abs(nu*u_1*((nu - sqrt(3)*sqrt(-nu**2))/(2*nu) - (nu + sqrt(3)*sqrt(-nu**2))/(2*nu))/sqrt(e**2 - 2*e*(e - nu) - 4*nu**2 + (e - nu)**2)))]])\n"
     ]
    },
    {
     "ename": "AssertionError",
     "evalue": "",
     "output_type": "error",
     "traceback": [
      "\u001b[0;31m---------------------------------------------------------------------------\u001b[0m",
      "\u001b[0;31mAssertionError\u001b[0m                            Traceback (most recent call last)",
      "\u001b[0;32m<ipython-input-60-547ee0e77450>\u001b[0m in \u001b[0;36m<module>\u001b[0;34m()\u001b[0m\n\u001b[1;32m      7\u001b[0m         \u001b[0mprint\u001b[0m\u001b[0;34m(\u001b[0m\u001b[0mH_eigenvec\u001b[0m\u001b[0;34m(\u001b[0m\u001b[0mN\u001b[0m\u001b[0;34m,\u001b[0m\u001b[0mll\u001b[0m\u001b[0;34m)\u001b[0m\u001b[0;34m.\u001b[0m\u001b[0mnormalized\u001b[0m\u001b[0;34m(\u001b[0m\u001b[0;34m)\u001b[0m\u001b[0;34m)\u001b[0m\u001b[0;34m\u001b[0m\u001b[0;34m\u001b[0m\u001b[0m\n\u001b[1;32m      8\u001b[0m         \u001b[0mzero\u001b[0m \u001b[0;34m=\u001b[0m \u001b[0mzero\u001b[0m\u001b[0;34m.\u001b[0m\u001b[0msimplify\u001b[0m\u001b[0;34m(\u001b[0m\u001b[0;34m)\u001b[0m\u001b[0;34m\u001b[0m\u001b[0;34m\u001b[0m\u001b[0m\n\u001b[0;32m----> 9\u001b[0;31m         \u001b[0;32massert\u001b[0m \u001b[0mzero\u001b[0m \u001b[0;34m==\u001b[0m \u001b[0;36m0\u001b[0m\u001b[0;34m\u001b[0m\u001b[0;34m\u001b[0m\u001b[0m\n\u001b[0m\u001b[1;32m     10\u001b[0m     \u001b[0mprint\u001b[0m\u001b[0;34m(\u001b[0m\u001b[0mN\u001b[0m\u001b[0;34m)\u001b[0m\u001b[0;34m\u001b[0m\u001b[0;34m\u001b[0m\u001b[0m\n\u001b[1;32m     11\u001b[0m \u001b[0;34m\u001b[0m\u001b[0m\n",
      "\u001b[0;31mAssertionError\u001b[0m: "
     ]
    }
   ],
   "source": [
    "print('Checking equality for N ∈ [1,9]...')\n",
    "for N in range(2,10):\n",
    "    for ev in H_gen(N).eigenvects():\n",
    "        ll, _, [vec] = ev\n",
    "        zero = vec.normalized() - H_eigenvec(N,ll).normalized()\n",
    "        print(vec.normalized())\n",
    "        print(H_eigenvec(N,ll).normalized())\n",
    "        zero = zero.simplify()\n",
    "        assert zero == 0\n",
    "    print(N)\n",
    "    \n",
    "print('Success!')"
   ]
  },
  {
   "cell_type": "code",
   "execution_count": 26,
   "metadata": {},
   "outputs": [
    {
     "data": {
      "text/latex": [
       "$\\displaystyle \\left[\\begin{matrix}-1\\\\0\\\\1\\end{matrix}\\right]$"
      ],
      "text/plain": [
       "Matrix([\n",
       "[-1],\n",
       "[ 0],\n",
       "[ 1]])"
      ]
     },
     "execution_count": 26,
     "metadata": {},
     "output_type": "execute_result"
    }
   ],
   "source": [
    "H_gen(3).eigenvects()[0][2][0]"
   ]
  },
  {
   "cell_type": "code",
   "execution_count": 23,
   "metadata": {},
   "outputs": [
    {
     "ename": "NameError",
     "evalue": "name 'vector' is not defined",
     "output_type": "error",
     "traceback": [
      "\u001b[0;31m---------------------------------------------------------------------------\u001b[0m",
      "\u001b[0;31mNameError\u001b[0m                                 Traceback (most recent call last)",
      "\u001b[0;32m<ipython-input-23-039e477a6fc2>\u001b[0m in \u001b[0;36m<module>\u001b[0;34m()\u001b[0m\n\u001b[0;32m----> 1\u001b[0;31m \u001b[0mvector\u001b[0m\u001b[0;34m(\u001b[0m\u001b[0;34m[\u001b[0m\u001b[0;36m1\u001b[0m\u001b[0;34m,\u001b[0m\u001b[0;36m2\u001b[0m\u001b[0;34m,\u001b[0m\u001b[0;36m3\u001b[0m\u001b[0;34m]\u001b[0m\u001b[0;34m)\u001b[0m\u001b[0;34m\u001b[0m\u001b[0;34m\u001b[0m\u001b[0m\n\u001b[0m",
      "\u001b[0;31mNameError\u001b[0m: name 'vector' is not defined"
     ]
    }
   ],
   "source": [
    "vector([1,2,3])"
   ]
  },
  {
   "cell_type": "code",
   "execution_count": null,
   "metadata": {},
   "outputs": [],
   "source": []
  },
  {
   "cell_type": "code",
   "execution_count": null,
   "metadata": {},
   "outputs": [],
   "source": []
  }
 ],
 "metadata": {
  "kernelspec": {
   "display_name": "Python 3",
   "language": "python",
   "name": "python3"
  },
  "language_info": {
   "codemirror_mode": {
    "name": "ipython",
    "version": 3
   },
   "file_extension": ".py",
   "mimetype": "text/x-python",
   "name": "python",
   "nbconvert_exporter": "python",
   "pygments_lexer": "ipython3",
   "version": "3.6.9"
  }
 },
 "nbformat": 4,
 "nbformat_minor": 2
}
