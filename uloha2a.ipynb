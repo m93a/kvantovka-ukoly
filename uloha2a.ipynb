{
 "cells": [
  {
   "cell_type": "code",
   "execution_count": 1,
   "metadata": {
    "scrolled": true
   },
   "outputs": [],
   "source": [
    "from __future__ import division\n",
    "import sys\n",
    "sys.path.insert(0, \"~/.local/lib/python3.6/site-packages\")\n",
    "\n",
    "import sympy\n",
    "from sympy import *\n",
    "\n",
    "def express(a, b, name):\n",
    "    sym = symbols(name)\n",
    "    sol = solve(a-sym, b)\n",
    "    assert len(sol) == 1\n",
    "    return (sym, sol[0])"
   ]
  },
  {
   "cell_type": "code",
   "execution_count": 2,
   "metadata": {},
   "outputs": [
    {
     "data": {
      "text/latex": [
       "$\\displaystyle p = - a t + b^{2} + t^{2}$"
      ],
      "text/plain": [
       "Eq(p, -a*t + b**2 + t**2)"
      ]
     },
     "execution_count": 2,
     "metadata": {},
     "output_type": "execute_result"
    }
   ],
   "source": [
    "from sympy.abc import A,a,b,c,d,n,p,t\n",
    "\n",
    "p = t**2 - a*t + b**2\n",
    "t1, t2 = solve(p, t)\n",
    "\n",
    "Eq(symbols(\"p\"), p)"
   ]
  },
  {
   "cell_type": "code",
   "execution_count": 3,
   "metadata": {},
   "outputs": [
    {
     "data": {
      "text/latex": [
       "$\\displaystyle \\frac{a}{2} - \\frac{\\sqrt{a^{2} - 4 b^{2}}}{2}$"
      ],
      "text/plain": [
       "a/2 - sqrt(a**2 - 4*b**2)/2"
      ]
     },
     "execution_count": 3,
     "metadata": {},
     "output_type": "execute_result"
    }
   ],
   "source": [
    "t1"
   ]
  },
  {
   "cell_type": "code",
   "execution_count": 4,
   "metadata": {},
   "outputs": [
    {
     "data": {
      "text/latex": [
       "$\\displaystyle \\frac{a}{2} + \\frac{\\sqrt{a^{2} - 4 b^{2}}}{2}$"
      ],
      "text/plain": [
       "a/2 + sqrt(a**2 - 4*b**2)/2"
      ]
     },
     "execution_count": 4,
     "metadata": {},
     "output_type": "execute_result"
    }
   ],
   "source": [
    "t2"
   ]
  },
  {
   "cell_type": "code",
   "execution_count": 5,
   "metadata": {},
   "outputs": [
    {
     "data": {
      "text/latex": [
       "$\\displaystyle a_{n} = c \\left(\\frac{a}{2} - \\frac{\\sqrt{a^{2} - 4 b^{2}}}{2}\\right)^{n} + d \\left(\\frac{a}{2} + \\frac{\\sqrt{a^{2} - 4 b^{2}}}{2}\\right)^{n}$"
      ],
      "text/plain": [
       "Eq(a_n, c*(a/2 - sqrt(a**2 - 4*b**2)/2)**n + d*(a/2 + sqrt(a**2 - 4*b**2)/2)**n)"
      ]
     },
     "execution_count": 5,
     "metadata": {},
     "output_type": "execute_result"
    }
   ],
   "source": [
    "a_n = c*t1**n + d*t2**n\n",
    "Eq(symbols(\"a_n\"), a_n)"
   ]
  },
  {
   "cell_type": "code",
   "execution_count": 6,
   "metadata": {},
   "outputs": [],
   "source": [
    "eqns = (\n",
    "    Eq(a_n.subs(n,1), a),\n",
    "    Eq(a_n.subs(n,2), a**2 - b**2)\n",
    ")\n",
    "\n",
    "solution = solve(eqns, (c,d))\n",
    "C, D = solution[c], solution[d]"
   ]
  },
  {
   "cell_type": "code",
   "execution_count": 7,
   "metadata": {},
   "outputs": [
    {
     "data": {
      "text/latex": [
       "$\\displaystyle - \\frac{a}{2 \\sqrt{a^{2} - 4 b^{2}}} + \\frac{1}{2}$"
      ],
      "text/plain": [
       "-a/(2*sqrt(a**2 - 4*b**2)) + 1/2"
      ]
     },
     "execution_count": 7,
     "metadata": {},
     "output_type": "execute_result"
    }
   ],
   "source": [
    "C"
   ]
  },
  {
   "cell_type": "code",
   "execution_count": 8,
   "metadata": {},
   "outputs": [
    {
     "data": {
      "text/latex": [
       "$\\displaystyle \\frac{a}{2 \\sqrt{a^{2} - 4 b^{2}}} + \\frac{1}{2}$"
      ],
      "text/plain": [
       "a/(2*sqrt(a**2 - 4*b**2)) + 1/2"
      ]
     },
     "execution_count": 8,
     "metadata": {},
     "output_type": "execute_result"
    }
   ],
   "source": [
    "D"
   ]
  },
  {
   "cell_type": "code",
   "execution_count": 9,
   "metadata": {},
   "outputs": [
    {
     "data": {
      "text/latex": [
       "$\\displaystyle \\frac{2^{- n} \\left(- \\left(a - \\sqrt{a^{2} - 4 b^{2}}\\right)^{n + 1} + \\left(a + \\sqrt{a^{2} - 4 b^{2}}\\right)^{n + 1}\\right)}{2 \\sqrt{a^{2} - 4 b^{2}}}$"
      ],
      "text/plain": [
       "2**(-n)*(-(a - sqrt(a**2 - 4*b**2))**(n + 1) + (a + sqrt(a**2 - 4*b**2))**(n + 1))/(2*sqrt(a**2 - 4*b**2))"
      ]
     },
     "execution_count": 9,
     "metadata": {},
     "output_type": "execute_result"
    }
   ],
   "source": [
    "A_n = a_n.subs(c,C).subs(d,D).simplify()\n",
    "A_n"
   ]
  },
  {
   "cell_type": "code",
   "execution_count": 10,
   "metadata": {},
   "outputs": [
    {
     "data": {
      "text/latex": [
       "$\\displaystyle A_{n} = \\frac{2^{- n} \\left(- \\left(a - \\sqrt{a^{2} - 4 b^{2}}\\right)^{n + 1} + \\left(a + \\sqrt{a^{2} - 4 b^{2}}\\right)^{n + 1}\\right)}{2 \\sqrt{a^{2} - 4 b^{2}}}$"
      ],
      "text/plain": [
       "Eq(A_n, 2**(-n)*(-(a - sqrt(a**2 - 4*b**2))**(n + 1) + (a + sqrt(a**2 - 4*b**2))**(n + 1))/(2*sqrt(a**2 - 4*b**2)))"
      ]
     },
     "execution_count": 10,
     "metadata": {},
     "output_type": "execute_result"
    }
   ],
   "source": [
    "zero = -A_n + a * A_n.subs(n,n-1) - b**2 * A_n.subs(n,n-2)\n",
    "zero = zero.simplify()\n",
    "assert zero == 0\n",
    "\n",
    "result = Eq(symbols(\"A_n\"), A_n)\n",
    "result"
   ]
  },
  {
   "cell_type": "code",
   "execution_count": 11,
   "metadata": {},
   "outputs": [
    {
     "name": "stdout",
     "output_type": "stream",
     "text": [
      "A_{n} = \\frac{2^{- n} \\left(- \\left(a - \\sqrt{a^{2} - 4 b^{2}}\\right)^{n + 1} + \\left(a + \\sqrt{a^{2} - 4 b^{2}}\\right)^{n + 1}\\right)}{2 \\sqrt{a^{2} - 4 b^{2}}}\n"
     ]
    }
   ],
   "source": [
    "print(latex(result))"
   ]
  },
  {
   "cell_type": "code",
   "execution_count": 12,
   "metadata": {},
   "outputs": [
    {
     "data": {
      "text/latex": [
       "$\\displaystyle \\frac{2^{- n} \\left(- \\left(e - \\lambda - \\sqrt{- 4 \\nu^{2} + \\left(e - \\lambda\\right)^{2}}\\right)^{n + 1} + \\left(e - \\lambda + \\sqrt{- 4 \\nu^{2} + \\left(e - \\lambda\\right)^{2}}\\right)^{n + 1}\\right)}{2 \\sqrt{- 4 \\nu^{2} + \\left(e - \\lambda\\right)^{2}}}$"
      ],
      "text/plain": [
       "2**(-n)*(-(e - lambda - sqrt(-4*nu**2 + (e - lambda)**2))**(n + 1) + (e - lambda + sqrt(-4*nu**2 + (e - lambda)**2))**(n + 1))/(2*sqrt(-4*nu**2 + (e - lambda)**2))"
      ]
     },
     "execution_count": 12,
     "metadata": {},
     "output_type": "execute_result"
    }
   ],
   "source": [
    "from sympy.abc import e, nu\n",
    "l = symbols('lambda')\n",
    "\n",
    "H_char = A_n.subs(a, e-l).subs(b, nu)\n",
    "H_char = H_char.simplify()\n",
    "H_char"
   ]
  },
  {
   "cell_type": "code",
   "execution_count": 154,
   "metadata": {},
   "outputs": [],
   "source": [
    "def H_gen(N):\n",
    "     return Matrix(N,N, lambda i,j : e-l if i==j else nu if abs(i-j)==1 else 0)"
   ]
  },
  {
   "cell_type": "code",
   "execution_count": 155,
   "metadata": {},
   "outputs": [
    {
     "name": "stdout",
     "output_type": "stream",
     "text": [
      "Checking equality for N ∈ [0,9]...\n",
      "0\n",
      "1\n",
      "2\n",
      "3\n",
      "4\n",
      "5\n",
      "6\n",
      "7\n",
      "8\n",
      "9\n",
      "Success!\n"
     ]
    }
   ],
   "source": [
    "print('Checking equality for N ∈ [0,9]...')\n",
    "for N in range(10):\n",
    "    zero = H_char.subs(n, N) - H_gen(N).det()\n",
    "    zero = zero.simplify()\n",
    "    assert zero == 0\n",
    "    print(N)\n",
    "    \n",
    "print('Success!')"
   ]
  },
  {
   "cell_type": "code",
   "execution_count": 268,
   "metadata": {},
   "outputs": [
    {
     "name": "stdout",
     "output_type": "stream",
     "text": [
      "e - \\frac{\\nu}{2} + \\frac{\\sqrt{5} \\nu}{2}\n",
      "e + \\frac{\\nu}{2} + \\frac{\\sqrt{5} \\nu}{2}\n",
      "e - \\frac{\\sqrt{5} \\nu}{2} - \\frac{\\nu}{2}\n",
      "e - \\frac{\\sqrt{5} \\nu}{2} + \\frac{\\nu}{2}\n"
     ]
    }
   ],
   "source": [
    "def energies(N):\n",
    "    return solve(H_char.subs(n,N), l)\n",
    "\n",
    "for s in energies(4):\n",
    "    print(latex(s))"
   ]
  },
  {
   "cell_type": "code",
   "execution_count": 271,
   "metadata": {},
   "outputs": [
    {
     "data": {
      "text/latex": [
       "$\\displaystyle \\frac{\\left(e - \\lambda - \\sqrt{- 4 \\nu^{2} + \\left(e - \\lambda\\right)^{2}}\\right)^{n + 2} - \\left(e - \\lambda + \\sqrt{- 4 \\nu^{2} + \\left(e - \\lambda\\right)^{2}}\\right)^{n + 2}}{2 \\left(\\left(e - \\lambda - \\sqrt{- 4 \\nu^{2} + \\left(e - \\lambda\\right)^{2}}\\right)^{n + 1} - \\left(e - \\lambda + \\sqrt{- 4 \\nu^{2} + \\left(e - \\lambda\\right)^{2}}\\right)^{n + 1}\\right)}$"
      ],
      "text/plain": [
       "((e - lambda - sqrt(-4*nu**2 + (e - lambda)**2))**(n + 2) - (e - lambda + sqrt(-4*nu**2 + (e - lambda)**2))**(n + 2))/(2*((e - lambda - sqrt(-4*nu**2 + (e - lambda)**2))**(n + 1) - (e - lambda + sqrt(-4*nu**2 + (e - lambda)**2))**(n + 1)))"
      ]
     },
     "execution_count": 271,
     "metadata": {},
     "output_type": "execute_result"
    }
   ],
   "source": [
    "(H_char.subs(n,n+1)/H_char).simplify()"
   ]
  },
  {
   "cell_type": "code",
   "execution_count": 272,
   "metadata": {},
   "outputs": [
    {
     "data": {
      "text/latex": [
       "$\\displaystyle - \\frac{2^{- n} e \\left(e - \\lambda - \\sqrt{e^{2} - 2 e \\lambda + \\lambda^{2} - 4 \\nu^{2}}\\right)^{n}}{2 \\sqrt{e^{2} - 2 e \\lambda + \\lambda^{2} - 4 \\nu^{2}}} + \\frac{2^{- n} e \\left(e - \\lambda + \\sqrt{e^{2} - 2 e \\lambda + \\lambda^{2} - 4 \\nu^{2}}\\right)^{n}}{2 \\sqrt{e^{2} - 2 e \\lambda + \\lambda^{2} - 4 \\nu^{2}}} + \\frac{2^{- n} \\lambda \\left(e - \\lambda - \\sqrt{e^{2} - 2 e \\lambda + \\lambda^{2} - 4 \\nu^{2}}\\right)^{n}}{2 \\sqrt{e^{2} - 2 e \\lambda + \\lambda^{2} - 4 \\nu^{2}}} - \\frac{2^{- n} \\lambda \\left(e - \\lambda + \\sqrt{e^{2} - 2 e \\lambda + \\lambda^{2} - 4 \\nu^{2}}\\right)^{n}}{2 \\sqrt{e^{2} - 2 e \\lambda + \\lambda^{2} - 4 \\nu^{2}}} + \\frac{2^{- n} \\left(e - \\lambda - \\sqrt{e^{2} - 2 e \\lambda + \\lambda^{2} - 4 \\nu^{2}}\\right)^{n}}{2} + \\frac{2^{- n} \\left(e - \\lambda + \\sqrt{e^{2} - 2 e \\lambda + \\lambda^{2} - 4 \\nu^{2}}\\right)^{n}}{2}$"
      ],
      "text/plain": [
       "-2**(-n)*e*(e - lambda - sqrt(e**2 - 2*e*lambda + lambda**2 - 4*nu**2))**n/(2*sqrt(e**2 - 2*e*lambda + lambda**2 - 4*nu**2)) + 2**(-n)*e*(e - lambda + sqrt(e**2 - 2*e*lambda + lambda**2 - 4*nu**2))**n/(2*sqrt(e**2 - 2*e*lambda + lambda**2 - 4*nu**2)) + 2**(-n)*lambda*(e - lambda - sqrt(e**2 - 2*e*lambda + lambda**2 - 4*nu**2))**n/(2*sqrt(e**2 - 2*e*lambda + lambda**2 - 4*nu**2)) - 2**(-n)*lambda*(e - lambda + sqrt(e**2 - 2*e*lambda + lambda**2 - 4*nu**2))**n/(2*sqrt(e**2 - 2*e*lambda + lambda**2 - 4*nu**2)) + 2**(-n)*(e - lambda - sqrt(e**2 - 2*e*lambda + lambda**2 - 4*nu**2))**n/2 + 2**(-n)*(e - lambda + sqrt(e**2 - 2*e*lambda + lambda**2 - 4*nu**2))**n/2"
      ]
     },
     "execution_count": 272,
     "metadata": {},
     "output_type": "execute_result"
    }
   ],
   "source": [
    "H_char.expand(l)"
   ]
  },
  {
   "cell_type": "code",
   "execution_count": null,
   "metadata": {},
   "outputs": [],
   "source": []
  },
  {
   "cell_type": "code",
   "execution_count": null,
   "metadata": {},
   "outputs": [],
   "source": []
  },
  {
   "cell_type": "code",
   "execution_count": null,
   "metadata": {},
   "outputs": [],
   "source": []
  }
 ],
 "metadata": {
  "kernelspec": {
   "display_name": "Python 3",
   "language": "python",
   "name": "python3"
  },
  "language_info": {
   "codemirror_mode": {
    "name": "ipython",
    "version": 3
   },
   "file_extension": ".py",
   "mimetype": "text/x-python",
   "name": "python",
   "nbconvert_exporter": "python",
   "pygments_lexer": "ipython3",
   "version": "3.6.9"
  }
 },
 "nbformat": 4,
 "nbformat_minor": 2
}
