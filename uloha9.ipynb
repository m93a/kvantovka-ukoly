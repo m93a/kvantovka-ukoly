{
 "cells": [
  {
   "cell_type": "code",
   "execution_count": 1,
   "metadata": {},
   "outputs": [],
   "source": [
    "from __future__ import division\n",
    "import sys\n",
    "sys.path.insert(0, \"~/.local/lib/python3.6/site-packages\")\n",
    "\n",
    "import sympy\n",
    "from sympy import *\n",
    "from sympy.physics.quantum import *\n",
    "\n",
    "def express(a, b, name):\n",
    "    sym = symbols(name)\n",
    "    sol = solve(a-sym, b)\n",
    "    assert len(sol) == 1\n",
    "    return (sym, sol[0])\n",
    "\n",
    "\n",
    "def frange(x, y, jump):\n",
    "    i = 0\n",
    "    curr = x + i*jump\n",
    "    \n",
    "    while curr < y:\n",
    "        yield curr\n",
    "        i += 1\n",
    "        curr = x + i*jump\n",
    "    \n",
    "\n",
    "import gmpy2\n",
    "import mpmath\n",
    "gmpy2.get_context().precision = 10\n",
    "mpmath.mp.dps = 10\n",
    "\n",
    "import numpy\n",
    "import scipy.linalg"
   ]
  },
  {
   "cell_type": "code",
   "execution_count": 4,
   "metadata": {},
   "outputs": [],
   "source": [
    "s1_ = (1/sqrt(2)) * \\\n",
    "    Matrix([\n",
    "        [0,1,0],\n",
    "        [1,0,1],\n",
    "        [0,1,0]\n",
    "    ])\n",
    "    \n",
    "s2_ = (1/sqrt(2)) * \\\n",
    "    Matrix([\n",
    "        [0,-I,0],\n",
    "        [I,0,-I],\n",
    "        [0, I,0]\n",
    "    ])\n",
    "\n",
    "s3_ = Matrix([\n",
    "        [1,0, 0],\n",
    "        [0,0, 0],\n",
    "        [0,0,-1]\n",
    "    ])"
   ]
  },
  {
   "cell_type": "code",
   "execution_count": 9,
   "metadata": {},
   "outputs": [
    {
     "data": {
      "text/latex": [
       "$\\displaystyle \\left[\\begin{matrix}\\frac{i}{2} & 0 & - \\frac{i}{2}\\\\0 & 0 & 0\\\\\\frac{i}{2} & 0 & - \\frac{i}{2}\\end{matrix}\\right]$"
      ],
      "text/plain": [
       "Matrix([\n",
       "[I/2, 0, -I/2],\n",
       "[  0, 0,    0],\n",
       "[I/2, 0, -I/2]])"
      ]
     },
     "execution_count": 9,
     "metadata": {},
     "output_type": "execute_result"
    }
   ],
   "source": [
    "s1_*s2_"
   ]
  },
  {
   "cell_type": "code",
   "execution_count": 10,
   "metadata": {},
   "outputs": [
    {
     "data": {
      "text/latex": [
       "$\\displaystyle \\left[\\begin{matrix}- \\frac{i}{2} & 0 & - \\frac{i}{2}\\\\0 & 0 & 0\\\\\\frac{i}{2} & 0 & \\frac{i}{2}\\end{matrix}\\right]$"
      ],
      "text/plain": [
       "Matrix([\n",
       "[-I/2, 0, -I/2],\n",
       "[   0, 0,    0],\n",
       "[ I/2, 0,  I/2]])"
      ]
     },
     "execution_count": 10,
     "metadata": {},
     "output_type": "execute_result"
    }
   ],
   "source": [
    "s2_*s1_"
   ]
  },
  {
   "cell_type": "code",
   "execution_count": 11,
   "metadata": {},
   "outputs": [
    {
     "data": {
      "text/latex": [
       "$\\displaystyle \\left[\\begin{matrix}0 & 0 & 0\\\\\\frac{\\sqrt{2} i}{2} & 0 & \\frac{\\sqrt{2} i}{2}\\\\0 & 0 & 0\\end{matrix}\\right]$"
      ],
      "text/plain": [
       "Matrix([\n",
       "[          0, 0,           0],\n",
       "[sqrt(2)*I/2, 0, sqrt(2)*I/2],\n",
       "[          0, 0,           0]])"
      ]
     },
     "execution_count": 11,
     "metadata": {},
     "output_type": "execute_result"
    }
   ],
   "source": [
    "s2_*s3_"
   ]
  },
  {
   "cell_type": "code",
   "execution_count": 12,
   "metadata": {},
   "outputs": [
    {
     "data": {
      "text/latex": [
       "$\\displaystyle \\left[\\begin{matrix}0 & - \\frac{\\sqrt{2} i}{2} & 0\\\\0 & 0 & 0\\\\0 & - \\frac{\\sqrt{2} i}{2} & 0\\end{matrix}\\right]$"
      ],
      "text/plain": [
       "Matrix([\n",
       "[0, -sqrt(2)*I/2, 0],\n",
       "[0,            0, 0],\n",
       "[0, -sqrt(2)*I/2, 0]])"
      ]
     },
     "execution_count": 12,
     "metadata": {},
     "output_type": "execute_result"
    }
   ],
   "source": [
    "s3_*s2_"
   ]
  },
  {
   "cell_type": "code",
   "execution_count": 13,
   "metadata": {},
   "outputs": [
    {
     "data": {
      "text/latex": [
       "$\\displaystyle \\left[\\begin{matrix}0 & \\frac{\\sqrt{2}}{2} & 0\\\\0 & 0 & 0\\\\0 & - \\frac{\\sqrt{2}}{2} & 0\\end{matrix}\\right]$"
      ],
      "text/plain": [
       "Matrix([\n",
       "[0,  sqrt(2)/2, 0],\n",
       "[0,          0, 0],\n",
       "[0, -sqrt(2)/2, 0]])"
      ]
     },
     "execution_count": 13,
     "metadata": {},
     "output_type": "execute_result"
    }
   ],
   "source": [
    "s3_*s1_"
   ]
  },
  {
   "cell_type": "code",
   "execution_count": 14,
   "metadata": {},
   "outputs": [
    {
     "data": {
      "text/latex": [
       "$\\displaystyle \\left[\\begin{matrix}0 & 0 & 0\\\\\\frac{\\sqrt{2}}{2} & 0 & - \\frac{\\sqrt{2}}{2}\\\\0 & 0 & 0\\end{matrix}\\right]$"
      ],
      "text/plain": [
       "Matrix([\n",
       "[        0, 0,          0],\n",
       "[sqrt(2)/2, 0, -sqrt(2)/2],\n",
       "[        0, 0,          0]])"
      ]
     },
     "execution_count": 14,
     "metadata": {},
     "output_type": "execute_result"
    }
   ],
   "source": [
    "s1_*s3_"
   ]
  },
  {
   "cell_type": "code",
   "execution_count": 17,
   "metadata": {},
   "outputs": [
    {
     "data": {
      "text/latex": [
       "$\\displaystyle \\left[\\begin{matrix}\\frac{1}{2} & 0 & \\frac{1}{2}\\\\0 & 1 & 0\\\\\\frac{1}{2} & 0 & \\frac{1}{2}\\end{matrix}\\right]$"
      ],
      "text/plain": [
       "Matrix([\n",
       "[1/2, 0, 1/2],\n",
       "[  0, 1,   0],\n",
       "[1/2, 0, 1/2]])"
      ]
     },
     "execution_count": 17,
     "metadata": {},
     "output_type": "execute_result"
    }
   ],
   "source": [
    "s1_*s1_"
   ]
  },
  {
   "cell_type": "code",
   "execution_count": 23,
   "metadata": {},
   "outputs": [
    {
     "data": {
      "text/latex": [
       "$\\displaystyle \\left[\\begin{matrix}\\frac{1}{2} & 0 & - \\frac{1}{2}\\\\0 & 1 & 0\\\\- \\frac{1}{2} & 0 & \\frac{1}{2}\\end{matrix}\\right]$"
      ],
      "text/plain": [
       "Matrix([\n",
       "[ 1/2, 0, -1/2],\n",
       "[   0, 1,    0],\n",
       "[-1/2, 0,  1/2]])"
      ]
     },
     "execution_count": 23,
     "metadata": {},
     "output_type": "execute_result"
    }
   ],
   "source": [
    "s2_*s2_"
   ]
  },
  {
   "cell_type": "code",
   "execution_count": 24,
   "metadata": {},
   "outputs": [
    {
     "data": {
      "text/latex": [
       "$\\displaystyle \\left[\\begin{matrix}1 & 0 & 0\\\\0 & 0 & 0\\\\0 & 0 & 1\\end{matrix}\\right]$"
      ],
      "text/plain": [
       "Matrix([\n",
       "[1, 0, 0],\n",
       "[0, 0, 0],\n",
       "[0, 0, 1]])"
      ]
     },
     "execution_count": 24,
     "metadata": {},
     "output_type": "execute_result"
    }
   ],
   "source": [
    "s3_*s3_"
   ]
  },
  {
   "cell_type": "code",
   "execution_count": 29,
   "metadata": {},
   "outputs": [
    {
     "name": "stdout",
     "output_type": "stream",
     "text": [
      "4 0 0 4\n",
      "4 0 1 3\n",
      "4 0 2 2\n",
      "4 0 3 1\n",
      "4 0 4 0\n",
      "4 1 0 3\n",
      "4 1 1 2\n",
      "4 1 2 1\n",
      "4 1 3 0\n",
      "4 2 0 2\n",
      "4 2 1 1\n",
      "4 2 2 0\n",
      "4 3 0 1\n",
      "4 3 1 0\n",
      "4 4 0 0\n"
     ]
    }
   ],
   "source": [
    "n = 4\n",
    "for a in range(0,n+1):\n",
    "    for b in range(0,n-a+1):\n",
    "        c = n-a-b\n",
    "        print(a+b+c, a, b, c)"
   ]
  },
  {
   "cell_type": "code",
   "execution_count": null,
   "metadata": {},
   "outputs": [],
   "source": []
  }
 ],
 "metadata": {
  "kernelspec": {
   "display_name": "Python 3",
   "language": "python",
   "name": "python3"
  },
  "language_info": {
   "codemirror_mode": {
    "name": "ipython",
    "version": 3
   },
   "file_extension": ".py",
   "mimetype": "text/x-python",
   "name": "python",
   "nbconvert_exporter": "python",
   "pygments_lexer": "ipython3",
   "version": "3.6.9"
  }
 },
 "nbformat": 4,
 "nbformat_minor": 2
}
