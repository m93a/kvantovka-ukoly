{
 "cells": [
  {
   "cell_type": "code",
   "execution_count": 3,
   "metadata": {},
   "outputs": [],
   "source": [
    "from __future__ import division\n",
    "import sys\n",
    "sys.path.insert(0, \"~/.local/lib/python3.6/site-packages\")\n",
    "\n",
    "import sympy\n",
    "from sympy import *"
   ]
  },
  {
   "cell_type": "code",
   "execution_count": 4,
   "metadata": {},
   "outputs": [],
   "source": [
    "def cart(N):\n",
    "    return [symbols('x_' + str(n+1)) for n in range(0,N)]\n",
    "\n",
    "def spher(N):\n",
    "    return [symbols('r')]+[symbols('theta_' + str(n)) for n in range(1,N)]\n",
    "\n",
    "def cart_spher(spher):\n",
    "    N = len(spher)\n",
    "    r = spher[0]\n",
    "    return [\n",
    "        Mul(r, *[sin(spher[k]) for k in range(1,N-1)], cos(spher[N-1])),\n",
    "        Mul(r, *[sin(spher[k]) for k in range(1,N)]),\n",
    "        *[Mul(r, *[sin(spher[k]) for k in range(1,N-n)], cos(spher[N-n])) for n in range(2,N)]\n",
    "    ]"
   ]
  },
  {
   "cell_type": "code",
   "execution_count": 17,
   "metadata": {},
   "outputs": [
    {
     "data": {
      "text/latex": [
       "$\\displaystyle \\left[\\begin{matrix}r \\sin{\\left(\\theta_{1} \\right)} \\sin{\\left(\\theta_{2} \\right)} \\sin{\\left(\\theta_{3} \\right)} \\sin{\\left(\\theta_{4} \\right)} \\cos{\\left(\\theta_{5} \\right)}\\\\r \\sin{\\left(\\theta_{1} \\right)} \\sin{\\left(\\theta_{2} \\right)} \\sin{\\left(\\theta_{3} \\right)} \\sin{\\left(\\theta_{4} \\right)} \\sin{\\left(\\theta_{5} \\right)}\\\\r \\sin{\\left(\\theta_{1} \\right)} \\sin{\\left(\\theta_{2} \\right)} \\sin{\\left(\\theta_{3} \\right)} \\cos{\\left(\\theta_{4} \\right)}\\\\r \\sin{\\left(\\theta_{1} \\right)} \\sin{\\left(\\theta_{2} \\right)} \\cos{\\left(\\theta_{3} \\right)}\\\\r \\sin{\\left(\\theta_{1} \\right)} \\cos{\\left(\\theta_{2} \\right)}\\\\r \\cos{\\left(\\theta_{1} \\right)}\\end{matrix}\\right]$"
      ],
      "text/plain": [
       "Matrix([\n",
       "[r*sin(theta_1)*sin(theta_2)*sin(theta_3)*sin(theta_4)*cos(theta_5)],\n",
       "[r*sin(theta_1)*sin(theta_2)*sin(theta_3)*sin(theta_4)*sin(theta_5)],\n",
       "[             r*sin(theta_1)*sin(theta_2)*sin(theta_3)*cos(theta_4)],\n",
       "[                          r*sin(theta_1)*sin(theta_2)*cos(theta_3)],\n",
       "[                                       r*sin(theta_1)*cos(theta_2)],\n",
       "[                                                    r*cos(theta_1)]])"
      ]
     },
     "execution_count": 17,
     "metadata": {},
     "output_type": "execute_result"
    }
   ],
   "source": [
    "N = 6\n",
    "R = range(0,N)\n",
    "x = cart(N)\n",
    "q = spher(N)\n",
    "x_ = cart_spher(q)\n",
    "Matrix(x_)"
   ]
  },
  {
   "cell_type": "code",
   "execution_count": 18,
   "metadata": {},
   "outputs": [
    {
     "data": {
      "text/latex": [
       "$\\displaystyle \\left[\\begin{matrix}\\frac{x_{1}}{r} & \\frac{x_{2}}{r} & \\frac{x_{3}}{r} & \\frac{x_{4}}{r} & \\frac{x_{5}}{r} & \\frac{x_{6}}{r}\\\\\\frac{x_{1}}{\\tan{\\left(\\theta_{1} \\right)}} & \\frac{x_{2}}{\\tan{\\left(\\theta_{1} \\right)}} & \\frac{x_{3}}{\\tan{\\left(\\theta_{1} \\right)}} & \\frac{x_{4}}{\\tan{\\left(\\theta_{1} \\right)}} & \\frac{x_{5}}{\\tan{\\left(\\theta_{1} \\right)}} & - x_{6} \\tan{\\left(\\theta_{1} \\right)}\\\\\\frac{x_{1}}{\\tan{\\left(\\theta_{2} \\right)}} & \\frac{x_{2}}{\\tan{\\left(\\theta_{2} \\right)}} & \\frac{x_{3}}{\\tan{\\left(\\theta_{2} \\right)}} & \\frac{x_{4}}{\\tan{\\left(\\theta_{2} \\right)}} & - x_{5} \\tan{\\left(\\theta_{2} \\right)} & 0\\\\\\frac{x_{1}}{\\tan{\\left(\\theta_{3} \\right)}} & \\frac{x_{2}}{\\tan{\\left(\\theta_{3} \\right)}} & \\frac{x_{3}}{\\tan{\\left(\\theta_{3} \\right)}} & - x_{4} \\tan{\\left(\\theta_{3} \\right)} & 0 & 0\\\\\\frac{x_{1}}{\\tan{\\left(\\theta_{4} \\right)}} & \\frac{x_{2}}{\\tan{\\left(\\theta_{4} \\right)}} & - x_{3} \\tan{\\left(\\theta_{4} \\right)} & 0 & 0 & 0\\\\- x_{1} \\tan{\\left(\\theta_{5} \\right)} & \\frac{x_{2}}{\\tan{\\left(\\theta_{5} \\right)}} & 0 & 0 & 0 & 0\\end{matrix}\\right]$"
      ],
      "text/plain": [
       "Matrix([\n",
       "[            x_1/r,            x_2/r,             x_3/r,             x_4/r,             x_5/r,             x_6/r],\n",
       "[ x_1/tan(theta_1), x_2/tan(theta_1),  x_3/tan(theta_1),  x_4/tan(theta_1),  x_5/tan(theta_1), -x_6*tan(theta_1)],\n",
       "[ x_1/tan(theta_2), x_2/tan(theta_2),  x_3/tan(theta_2),  x_4/tan(theta_2), -x_5*tan(theta_2),                 0],\n",
       "[ x_1/tan(theta_3), x_2/tan(theta_3),  x_3/tan(theta_3), -x_4*tan(theta_3),                 0,                 0],\n",
       "[ x_1/tan(theta_4), x_2/tan(theta_4), -x_3*tan(theta_4),                 0,                 0,                 0],\n",
       "[-x_1*tan(theta_5), x_2/tan(theta_5),                 0,                 0,                 0,                 0]])"
      ]
     },
     "execution_count": 18,
     "metadata": {},
     "output_type": "execute_result"
    }
   ],
   "source": [
    "J = Matrix([[\n",
    "            Mul( simplify(x_[col].diff(q[row])/x_[col]), x[col] )\n",
    "            for col in R\n",
    "        ]for row in R\n",
    "    ])\n",
    "J"
   ]
  },
  {
   "cell_type": "code",
   "execution_count": 19,
   "metadata": {},
   "outputs": [],
   "source": [
    "J_ = J\n",
    "for k in R:\n",
    "    J_ = J_.subs(x[k], x_[k])\n",
    "\n",
    "g_ = Matrix([[sum([J_[k,col]*J_[k,row] for k in R]) for col in R] for row in R])"
   ]
  },
  {
   "cell_type": "code",
   "execution_count": null,
   "metadata": {},
   "outputs": [],
   "source": []
  },
  {
   "cell_type": "code",
   "execution_count": 26,
   "metadata": {},
   "outputs": [
    {
     "data": {
      "text/latex": [
       "$\\displaystyle \\left[\\begin{matrix}1 & 0 & 0 & 0 & 0 & 0\\\\0 & r^{2} & 0 & 0 & 0 & 0\\\\0 & 0 & r^{2} \\sin^{2}{\\left(\\theta_{1} \\right)} & 0 & 0 & 0\\\\0 & 0 & 0 & r^{2} \\sin^{2}{\\left(\\theta_{1} \\right)} \\sin^{2}{\\left(\\theta_{2} \\right)} & 0 & 0\\\\0 & 0 & 0 & 0 & r^{2} \\sin^{2}{\\left(\\theta_{1} \\right)} \\sin^{2}{\\left(\\theta_{2} \\right)} \\sin^{2}{\\left(\\theta_{3} \\right)} & 0\\\\0 & 0 & 0 & 0 & 0 & r^{2} \\sin^{2}{\\left(\\theta_{1} \\right)} \\sin^{2}{\\left(\\theta_{2} \\right)} \\sin^{2}{\\left(\\theta_{3} \\right)} \\sin^{2}{\\left(\\theta_{4} \\right)}\\end{matrix}\\right]$"
      ],
      "text/plain": [
       "Matrix([\n",
       "[1,    0,                    0,                                    0,                                                    0,                                                                    0],\n",
       "[0, r**2,                    0,                                    0,                                                    0,                                                                    0],\n",
       "[0,    0, r**2*sin(theta_1)**2,                                    0,                                                    0,                                                                    0],\n",
       "[0,    0,                    0, r**2*sin(theta_1)**2*sin(theta_2)**2,                                                    0,                                                                    0],\n",
       "[0,    0,                    0,                                    0, r**2*sin(theta_1)**2*sin(theta_2)**2*sin(theta_3)**2,                                                                    0],\n",
       "[0,    0,                    0,                                    0,                                                    0, r**2*sin(theta_1)**2*sin(theta_2)**2*sin(theta_3)**2*sin(theta_4)**2]])"
      ]
     },
     "execution_count": 26,
     "metadata": {},
     "output_type": "execute_result"
    }
   ],
   "source": [
    "simplify(J_ * J_.T)"
   ]
  },
  {
   "cell_type": "code",
   "execution_count": null,
   "metadata": {},
   "outputs": [],
   "source": []
  },
  {
   "cell_type": "code",
   "execution_count": null,
   "metadata": {},
   "outputs": [],
   "source": []
  }
 ],
 "metadata": {
  "kernelspec": {
   "display_name": "Python 3.6.9 64-bit",
   "language": "python",
   "name": "python36964bit0c8c7c5934c14359b9baf18c9a99cdbe"
  },
  "language_info": {
   "codemirror_mode": {
    "name": "ipython",
    "version": 3
   },
   "file_extension": ".py",
   "mimetype": "text/x-python",
   "name": "python",
   "nbconvert_exporter": "python",
   "pygments_lexer": "ipython3",
   "version": "3.6.9"
  }
 },
 "nbformat": 4,
 "nbformat_minor": 2
}
