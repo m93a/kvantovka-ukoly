{
 "cells": [
  {
   "cell_type": "code",
   "execution_count": 2,
   "metadata": {},
   "outputs": [],
   "source": [
    "from __future__ import division\n",
    "import sys\n",
    "sys.path.insert(0, \"~/.local/lib/python3.6/site-packages\")\n",
    "\n",
    "import sympy\n",
    "from sympy import *\n",
    "from sympy.vector import *"
   ]
  },
  {
   "cell_type": "code",
   "execution_count": 3,
   "metadata": {},
   "outputs": [
    {
     "data": {
      "text/latex": [
       "$\\displaystyle \\left[\\begin{matrix}f{\\left(\\mathbf{{x}_{}}^{2} + \\mathbf{{y}_{}}^{2} + \\mathbf{{z}_{}}^{2} \\right)}\\\\f{\\left(\\mathbf{{x}_{}}^{2} + \\mathbf{{y}_{}}^{2} + \\mathbf{{z}_{}}^{2} \\right)}\\\\f{\\left(\\mathbf{{x}_{}}^{2} + \\mathbf{{y}_{}}^{2} + \\mathbf{{z}_{}}^{2} \\right)}\\end{matrix}\\right]$"
      ],
      "text/plain": [
       "Matrix([\n",
       "[f(.x**2 + .y**2 + .z**2)],\n",
       "[f(.x**2 + .y**2 + .z**2)],\n",
       "[f(.x**2 + .y**2 + .z**2)]])"
      ]
     },
     "execution_count": 3,
     "metadata": {},
     "output_type": "execute_result"
    }
   ],
   "source": [
    "cart = vector.CoordSys3D('')\n",
    "x, y, z = cart.base_scalars()\n",
    "i, j, k = cart.base_vectors()\n",
    "rsq = x**2 + y**2 + z**2\n",
    "\n",
    "f = Function('f')\n",
    "F = f(rsq) * (i+j+k)\n",
    "F.to_matrix(cart)"
   ]
  },
  {
   "cell_type": "code",
   "execution_count": 4,
   "metadata": {},
   "outputs": [
    {
     "data": {
      "text/latex": [
       "$\\displaystyle \\left[\\begin{matrix}2 \\mathbf{{y}_{}} \\left. \\frac{d}{d \\xi_{1}} f{\\left(\\xi_{1} \\right)} \\right|_{\\substack{ \\xi_{1}=\\mathbf{{x}_{}}^{2} + \\mathbf{{y}_{}}^{2} + \\mathbf{{z}_{}}^{2} }} - 2 \\mathbf{{z}_{}} \\left. \\frac{d}{d \\xi_{1}} f{\\left(\\xi_{1} \\right)} \\right|_{\\substack{ \\xi_{1}=\\mathbf{{x}_{}}^{2} + \\mathbf{{y}_{}}^{2} + \\mathbf{{z}_{}}^{2} }}\\\\- 2 \\mathbf{{x}_{}} \\left. \\frac{d}{d \\xi_{1}} f{\\left(\\xi_{1} \\right)} \\right|_{\\substack{ \\xi_{1}=\\mathbf{{x}_{}}^{2} + \\mathbf{{y}_{}}^{2} + \\mathbf{{z}_{}}^{2} }} + 2 \\mathbf{{z}_{}} \\left. \\frac{d}{d \\xi_{1}} f{\\left(\\xi_{1} \\right)} \\right|_{\\substack{ \\xi_{1}=\\mathbf{{x}_{}}^{2} + \\mathbf{{y}_{}}^{2} + \\mathbf{{z}_{}}^{2} }}\\\\2 \\mathbf{{x}_{}} \\left. \\frac{d}{d \\xi_{1}} f{\\left(\\xi_{1} \\right)} \\right|_{\\substack{ \\xi_{1}=\\mathbf{{x}_{}}^{2} + \\mathbf{{y}_{}}^{2} + \\mathbf{{z}_{}}^{2} }} - 2 \\mathbf{{y}_{}} \\left. \\frac{d}{d \\xi_{1}} f{\\left(\\xi_{1} \\right)} \\right|_{\\substack{ \\xi_{1}=\\mathbf{{x}_{}}^{2} + \\mathbf{{y}_{}}^{2} + \\mathbf{{z}_{}}^{2} }}\\end{matrix}\\right]$"
      ],
      "text/plain": [
       "Matrix([\n",
       "[ 2*.y*Subs(Derivative(f(_xi_1), _xi_1), _xi_1, .x**2 + .y**2 + .z**2) - 2*.z*Subs(Derivative(f(_xi_1), _xi_1), _xi_1, .x**2 + .y**2 + .z**2)],\n",
       "[-2*.x*Subs(Derivative(f(_xi_1), _xi_1), _xi_1, .x**2 + .y**2 + .z**2) + 2*.z*Subs(Derivative(f(_xi_1), _xi_1), _xi_1, .x**2 + .y**2 + .z**2)],\n",
       "[ 2*.x*Subs(Derivative(f(_xi_1), _xi_1), _xi_1, .x**2 + .y**2 + .z**2) - 2*.y*Subs(Derivative(f(_xi_1), _xi_1), _xi_1, .x**2 + .y**2 + .z**2)]])"
      ]
     },
     "execution_count": 4,
     "metadata": {},
     "output_type": "execute_result"
    }
   ],
   "source": [
    "crl = Curl(F).doit()\n",
    "\n",
    "f_ = Function('f\\'')\n",
    "wild = Wild('*')\n",
    "\n",
    "crl.subs(f(wild).diff(wild), f_).to_matrix(cart)"
   ]
  },
  {
   "cell_type": "code",
   "execution_count": 5,
   "metadata": {},
   "outputs": [
    {
     "data": {
      "text/latex": [
       "$\\displaystyle \\nabla\\times \\left(f{\\left(\\mathbf{{x}_{}}^{2} + \\mathbf{{y}_{}}^{2} + \\mathbf{{z}_{}}^{2} \\right)} \\left(\\mathbf{\\hat{i}_{}} + \\mathbf{\\hat{j}_{}} + \\mathbf{\\hat{k}_{}}\\right)\\right) = 2 \\left[\\begin{matrix}\\mathbf{{y}_{}} - \\mathbf{{z}_{}}\\\\- \\mathbf{{x}_{}} + \\mathbf{{z}_{}}\\\\\\mathbf{{x}_{}} - \\mathbf{{y}_{}}\\end{matrix}\\right] \\operatorname{f'}{\\left(\\mathbf{{x}_{}}^{2} + \\mathbf{{y}_{}}^{2} + \\mathbf{{z}_{}}^{2} \\right)}$"
      ],
      "text/plain": [
       "Eq(Curl(f(.x**2 + .y**2 + .z**2)*(.i + .j + .k)), 2*Matrix([\n",
       "[ .y - .z],\n",
       "[-.x + .z],\n",
       "[ .x - .y]])*f'(.x**2 + .y**2 + .z**2))"
      ]
     },
     "execution_count": 5,
     "metadata": {},
     "output_type": "execute_result"
    }
   ],
   "source": [
    "Eq(Curl(UnevaluatedExpr(f(rsq))*UnevaluatedExpr((i+j+k))), UnevaluatedExpr(2) * UnevaluatedExpr(((y - z)*i + (-x + z)*j + (x - y)*k).to_matrix(cart)) * UnevaluatedExpr(f_(rsq)))"
   ]
  },
  {
   "cell_type": "code",
   "execution_count": 6,
   "metadata": {},
   "outputs": [
    {
     "data": {
      "text/plain": [
       "\"Add(Mul(Integer(2), .y, Subs(Derivative(Function('f')(Dummy('xi_1', dummy_index=6250847561126842670)), Tuple(Dummy('xi_1', dummy_index=6250847561126842670), Integer(1))), Tuple(Dummy('xi_1', dummy_index=6250847561126842670)), Tuple(Add(Pow(.x, Integer(2)), Pow(.y, Integer(2)), Pow(.z, Integer(2)))))), Mul(Integer(-1), Integer(2), .z, Subs(Derivative(Function('f')(Dummy('xi_1', dummy_index=6250847561126842670)), Tuple(Dummy('xi_1', dummy_index=6250847561126842670), Integer(1))), Tuple(Dummy('xi_1', dummy_index=6250847561126842670)), Tuple(Add(Pow(.x, Integer(2)), Pow(.y, Integer(2)), Pow(.z, Integer(2)))))))\""
      ]
     },
     "execution_count": 6,
     "metadata": {},
     "output_type": "execute_result"
    }
   ],
   "source": [
    "srepr(crl.to_matrix(cart)[0])"
   ]
  },
  {
   "cell_type": "code",
   "execution_count": null,
   "metadata": {},
   "outputs": [],
   "source": []
  },
  {
   "cell_type": "code",
   "execution_count": 23,
   "metadata": {},
   "outputs": [
    {
     "data": {
      "text/latex": [
       "$\\displaystyle \\left. \\operatorname{f'}{\\left(\\xi_{1} \\right)} \\right|_{\\substack{ \\xi_{1}=a + b }}$"
      ],
      "text/plain": [
       "Subs(f'(_xi_1), _xi_1, a + b)"
      ]
     },
     "execution_count": 23,
     "metadata": {},
     "output_type": "execute_result"
    }
   ],
   "source": [
    "from sympy import *\n",
    "from sympy.abc import a, b\n",
    "wild = Wild('*')\n",
    "\n",
    "f  = Function(\"f\")\n",
    "f_ = Function(\"f'\")\n",
    "\n",
    "expr = Derivative(f(a+b), a).doit()\n",
    "\n",
    "expr.replace( f(wild).diff(wild).doit(), f_(wild) )"
   ]
  },
  {
   "cell_type": "code",
   "execution_count": 9,
   "metadata": {},
   "outputs": [
    {
     "data": {
      "text/latex": [
       "$\\displaystyle \\frac{d}{d \\xi_{1}} f{\\left(\\xi_{1} \\right)}$"
      ],
      "text/plain": [
       "Derivative(f(_xi_1), _xi_1)"
      ]
     },
     "execution_count": 9,
     "metadata": {},
     "output_type": "execute_result"
    }
   ],
   "source": [
    "Derivative(\n",
    "    Function('f')(Dummy('xi_1', dummy_index=-5551605635201480537)),\n",
    "    Tuple(Dummy('xi_1', dummy_index=-5551605635201480537), Integer(1))\n",
    ")"
   ]
  },
  {
   "cell_type": "code",
   "execution_count": 24,
   "metadata": {},
   "outputs": [
    {
     "data": {
      "text/latex": [
       "$\\displaystyle a \\left(2 b + 2 x\\right)$"
      ],
      "text/plain": [
       "a*(2*b + 2*x)"
      ]
     },
     "execution_count": 24,
     "metadata": {},
     "output_type": "execute_result"
    }
   ],
   "source": [
    "a, b, x = symbols('a b x')\n",
    "( a*(x+b)**2 ).diff(x)"
   ]
  },
  {
   "cell_type": "code",
   "execution_count": 52,
   "metadata": {},
   "outputs": [],
   "source": [
    "m,ω,ħ = symbols('m omega hbar', real=True, positive=True)\n",
    "x = symbols('x', real=True)\n",
    "z = symbols('z')\n",
    "\n",
    "psi = exp( -(m*ω/(2*ħ)) * x**2 )\n",
    "psipsi = psi.conjugate() * psi\n",
    "\n",
    "Nsq = simplify(psi.integrate(x))"
   ]
  },
  {
   "cell_type": "code",
   "execution_count": 53,
   "metadata": {},
   "outputs": [
    {
     "data": {
      "text/latex": [
       "$\\displaystyle \\frac{\\sqrt{2} \\sqrt{\\pi} \\sqrt{\\hbar} \\operatorname{erf}{\\left(\\frac{\\sqrt{2} \\sqrt{m} \\sqrt{\\omega} x}{2 \\sqrt{\\hbar}} \\right)}}{2 \\sqrt{m} \\sqrt{\\omega}}$"
      ],
      "text/plain": [
       "sqrt(2)*sqrt(pi)*sqrt(hbar)*erf(sqrt(2)*sqrt(m)*sqrt(omega)*x/(2*sqrt(hbar)))/(2*sqrt(m)*sqrt(omega))"
      ]
     },
     "execution_count": 53,
     "metadata": {},
     "output_type": "execute_result"
    }
   ],
   "source": [
    "Nsq"
   ]
  },
  {
   "cell_type": "code",
   "execution_count": 54,
   "metadata": {},
   "outputs": [
    {
     "data": {
      "text/latex": [
       "$\\displaystyle \\frac{\\sqrt[4]{2} \\sqrt[4]{\\pi} \\sqrt[4]{\\hbar}}{\\sqrt[4]{m} \\sqrt[4]{\\omega}}$"
      ],
      "text/plain": [
       "2**(1/4)*pi**(1/4)*hbar**(1/4)/(m**(1/4)*omega**(1/4))"
      ]
     },
     "execution_count": 54,
     "metadata": {},
     "output_type": "execute_result"
    }
   ],
   "source": [
    "N = sqrt(limit(Nsq,x,oo) - limit(Nsq,x,-oo))\n",
    "N"
   ]
  },
  {
   "cell_type": "code",
   "execution_count": 72,
   "metadata": {},
   "outputs": [
    {
     "data": {
      "text/latex": [
       "$\\displaystyle - \\frac{m \\omega x^{2}}{\\hbar} + \\frac{2 m \\omega x x_{m}}{\\hbar} - \\frac{m \\omega x_{m}^{2}}{\\hbar} + \\frac{p_{m}^{2}}{\\hbar m \\omega}$"
      ],
      "text/plain": [
       "-m*omega*x**2/hbar + 2*m*omega*x*x_m/hbar - m*omega*x_m**2/hbar + p_m**2/(hbar*m*omega)"
      ]
     },
     "execution_count": 72,
     "metadata": {},
     "output_type": "execute_result"
    }
   ],
   "source": [
    "xm, pm = symbols('x_m, p_m', real=True)\n",
    "psi = exp( -(m*ω/(2*ħ)) * (x - xm + I*pm/(m*ω) )**2 )\n",
    "psipsi = abs(psi)**2\n",
    "expand(log(psipsi))"
   ]
  },
  {
   "cell_type": "code",
   "execution_count": 77,
   "metadata": {},
   "outputs": [
    {
     "data": {
      "text/latex": [
       "$\\displaystyle \\frac{\\sqrt{2} \\sqrt{\\hbar}}{2 \\sqrt{m} \\sqrt{\\omega}}$"
      ],
      "text/plain": [
       "sqrt(2)*sqrt(hbar)/(2*sqrt(m)*sqrt(omega))"
      ]
     },
     "execution_count": 77,
     "metadata": {},
     "output_type": "execute_result"
    }
   ],
   "source": [
    "a = -m*ω/ħ\n",
    "b = 2*m*ω*xm/ħ\n",
    "c = -m*ω*xm*xm/ħ + pm*pm/(m*ω*ħ)\n",
    "\n",
    "assert (a*x*x + b*x + c - expand(log(psipsi))).is_zero\n",
    "\n",
    "μ = -b/(2*a)\n",
    "σ = sqrt(-1/(2*a))\n",
    "\n",
    "σ"
   ]
  },
  {
   "cell_type": "code",
   "execution_count": 79,
   "metadata": {},
   "outputs": [
    {
     "data": {
      "text/latex": [
       "$\\displaystyle - \\frac{m \\omega x_{m}^{2}}{\\hbar} + \\frac{p_{m}^{2}}{\\hbar m \\omega} = \\frac{\\log{\\left(\\frac{m \\omega}{\\pi \\hbar} \\right)}}{2} - \\frac{m \\omega x_{m}^{2}}{\\hbar}$"
      ],
      "text/plain": [
       "Eq(-m*omega*x_m**2/hbar + p_m**2/(hbar*m*omega), log(m*omega/(pi*hbar))/2 - m*omega*x_m**2/hbar)"
      ]
     },
     "execution_count": 79,
     "metadata": {},
     "output_type": "execute_result"
    }
   ],
   "source": [
    "Eq(c, b**2 / (4*a) + log(-a/pi)/2 )"
   ]
  },
  {
   "cell_type": "code",
   "execution_count": 80,
   "metadata": {},
   "outputs": [
    {
     "data": {
      "text/latex": [
       "$\\displaystyle x_{m}$"
      ],
      "text/plain": [
       "x_m"
      ]
     },
     "execution_count": 80,
     "metadata": {},
     "output_type": "execute_result"
    }
   ],
   "source": [
    "μ"
   ]
  },
  {
   "cell_type": "code",
   "execution_count": 83,
   "metadata": {},
   "outputs": [
    {
     "data": {
      "text/latex": [
       "$\\displaystyle e^{- \\frac{m \\omega \\left(- \\left(x_{m} \\sin{\\left(\\omega t \\right)} + \\frac{p_{m} \\cos{\\left(\\omega t \\right)}}{m \\omega}\\right)^{2} + \\left(x - x_{m} \\cos{\\left(\\omega t \\right)} + \\frac{p_{m} \\sin{\\left(\\omega t \\right)}}{m \\omega}\\right)^{2}\\right)}{\\hbar}}$"
      ],
      "text/plain": [
       "exp(-m*omega*(-(x_m*sin(omega*t) + p_m*cos(omega*t)/(m*omega))**2 + (x - x_m*cos(omega*t) + p_m*sin(omega*t)/(m*omega))**2)/hbar)"
      ]
     },
     "execution_count": 83,
     "metadata": {},
     "output_type": "execute_result"
    }
   ],
   "source": [
    "t = symbols('t', real=True)\n",
    "psi = exp( -(m*ω/(2*ħ)) * (x - xm*exp(-I*ω*t) + I*pm*exp(-I*ω*t)/(m*ω) )**2 )\n",
    "psipsi = abs(psi)**2\n",
    "psipsi"
   ]
  },
  {
   "cell_type": "code",
   "execution_count": 88,
   "metadata": {},
   "outputs": [
    {
     "data": {
      "text/latex": [
       "$\\displaystyle - \\frac{m \\omega}{\\hbar}$"
      ],
      "text/plain": [
       "-m*omega/hbar"
      ]
     },
     "execution_count": 88,
     "metadata": {},
     "output_type": "execute_result"
    }
   ],
   "source": [
    "a, b, c = Poly(expand(log(psipsi)), x).coeffs()\n",
    "a"
   ]
  },
  {
   "cell_type": "code",
   "execution_count": 89,
   "metadata": {},
   "outputs": [
    {
     "data": {
      "text/latex": [
       "$\\displaystyle \\frac{2 m \\omega x_{m} \\cos{\\left(\\omega t \\right)}}{\\hbar} - \\frac{2 p_{m} \\sin{\\left(\\omega t \\right)}}{\\hbar}$"
      ],
      "text/plain": [
       "2*m*omega*x_m*cos(omega*t)/hbar - 2*p_m*sin(omega*t)/hbar"
      ]
     },
     "execution_count": 89,
     "metadata": {},
     "output_type": "execute_result"
    }
   ],
   "source": [
    "b"
   ]
  },
  {
   "cell_type": "code",
   "execution_count": 92,
   "metadata": {},
   "outputs": [
    {
     "data": {
      "text/latex": [
       "$\\displaystyle x_{m} \\cos{\\left(\\omega t \\right)} - \\frac{p_{m} \\sin{\\left(\\omega t \\right)}}{m \\omega}$"
      ],
      "text/plain": [
       "x_m*cos(omega*t) - p_m*sin(omega*t)/(m*omega)"
      ]
     },
     "execution_count": 92,
     "metadata": {},
     "output_type": "execute_result"
    }
   ],
   "source": [
    "simplify(-b/(2*a))"
   ]
  },
  {
   "cell_type": "code",
   "execution_count": 94,
   "metadata": {},
   "outputs": [],
   "source": [
    "p = symbols('p', real=True)\n",
    "psi_p = fourier_transform(psi, x, p)"
   ]
  },
  {
   "cell_type": "code",
   "execution_count": 95,
   "metadata": {},
   "outputs": [
    {
     "data": {
      "text/latex": [
       "$\\displaystyle \\frac{\\sqrt{2} \\sqrt{\\pi} \\sqrt{\\hbar} e^{- 2 \\pi p \\left(\\frac{\\pi \\hbar p}{m \\omega} + i x_{m} e^{- i \\omega t} + \\frac{p_{m} e^{- i \\omega t}}{m \\omega}\\right)}}{\\sqrt{m} \\sqrt{\\omega}}$"
      ],
      "text/plain": [
       "sqrt(2)*sqrt(pi)*sqrt(hbar)*exp(-2*pi*p*(pi*hbar*p/(m*omega) + I*x_m*exp(-I*omega*t) + p_m*exp(-I*omega*t)/(m*omega)))/(sqrt(m)*sqrt(omega))"
      ]
     },
     "execution_count": 95,
     "metadata": {},
     "output_type": "execute_result"
    }
   ],
   "source": [
    "psi_p"
   ]
  },
  {
   "cell_type": "code",
   "execution_count": null,
   "metadata": {},
   "outputs": [],
   "source": []
  }
 ],
 "metadata": {
  "kernelspec": {
   "display_name": "Python 3",
   "language": "python",
   "name": "python3"
  },
  "language_info": {
   "codemirror_mode": {
    "name": "ipython",
    "version": 3
   },
   "file_extension": ".py",
   "mimetype": "text/x-python",
   "name": "python",
   "nbconvert_exporter": "python",
   "pygments_lexer": "ipython3",
   "version": "3.6.9"
  }
 },
 "nbformat": 4,
 "nbformat_minor": 2
}
