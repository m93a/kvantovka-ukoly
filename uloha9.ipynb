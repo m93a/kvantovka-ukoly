{
 "cells": [
  {
   "cell_type": "code",
   "execution_count": 1,
   "metadata": {},
   "outputs": [],
   "source": [
    "from __future__ import division\n",
    "import sys\n",
    "sys.path.insert(0, \"~/.local/lib/python3.6/site-packages\")\n",
    "\n",
    "import sympy\n",
    "from sympy import *\n",
    "from sympy.physics.quantum import *\n",
    "\n",
    "def express(a, b, name):\n",
    "    sym = symbols(name)\n",
    "    sol = solve(a-sym, b)\n",
    "    assert len(sol) == 1\n",
    "    return (sym, sol[0])\n",
    "\n",
    "\n",
    "def frange(x, y, jump):\n",
    "    i = 0\n",
    "    curr = x + i*jump\n",
    "    \n",
    "    while curr < y:\n",
    "        yield curr\n",
    "        i += 1\n",
    "        curr = x + i*jump\n",
    "    \n",
    "\n",
    "import gmpy2\n",
    "import mpmath\n",
    "gmpy2.get_context().precision = 10\n",
    "mpmath.mp.dps = 10\n",
    "\n",
    "import numpy\n",
    "import scipy.linalg"
   ]
  },
  {
   "cell_type": "code",
   "execution_count": 2,
   "metadata": {},
   "outputs": [],
   "source": [
    "# https://stackoverflow.com/q/59523322/1137334\n",
    "\n",
    "from sympy.core.operations import AssocOp\n",
    "\n",
    "def apply_ccr(expr, ccr, reverse=False):\n",
    "    if not isinstance(expr, Basic):\n",
    "        raise TypeError(\"The expression to simplify is not a sympy expression.\")\n",
    "        \n",
    "    if not isinstance(ccr, Eq):\n",
    "        if isinstance(ccr, Basic):\n",
    "            ccr = Eq(ccr, 0)\n",
    "        else:\n",
    "            raise TypeError(\"The canonical commutation relation is not a sympy expression.\")\n",
    "    \n",
    "    comm = None\n",
    "    \n",
    "    for node in preorder_traversal(ccr):\n",
    "        if isinstance(node, Commutator):\n",
    "            comm = node\n",
    "            break\n",
    "            \n",
    "    if comm is None:\n",
    "        raise ValueError(\"The cannonical commutation relation doesn not include a commutator.\")\n",
    "        \n",
    "    solutions = solve(ccr, comm)\n",
    "    \n",
    "    if len(solutions) != 1:\n",
    "        raise ValueError(\"There are more solutions to the cannonical commutation relation.\")\n",
    "        \n",
    "    value = solutions[0]\n",
    "    \n",
    "    A = comm.args[0]\n",
    "    B = comm.args[1]\n",
    "    \n",
    "    if reverse:\n",
    "        (A, B) = (B, A)\n",
    "        value = -value\n",
    "    \n",
    "    def is_expandable_pow_of(base, expr):\n",
    "        return isinstance(expr, Pow) \\\n",
    "            and base == expr.args[0] \\\n",
    "            and isinstance(expr.args[1], Number) \\\n",
    "            and expr.args[1] >= 1\n",
    "    \n",
    "    \n",
    "    def walk_tree(expr):\n",
    "        if isinstance(expr, Number):\n",
    "            return expr\n",
    "        \n",
    "        if not isinstance(expr, AssocOp) and not isinstance(expr, Function):\n",
    "            return expr.copy()\n",
    "        \n",
    "        elif not isinstance(expr, Mul):\n",
    "            return expr.func(*(walk_tree(node) for node in expr.args))\n",
    "        \n",
    "        else:\n",
    "            args = [arg for arg in expr.args]\n",
    "            \n",
    "            for i in range(len(args)-1):\n",
    "                x = args[i]\n",
    "                y = args[i+1]\n",
    "                \n",
    "                if B == x and A == y:\n",
    "                    args = args[0:i] + [A*B - value] + args[i+2:]\n",
    "                    return walk_tree( Mul(*args).expand() )\n",
    "                \n",
    "                if B == x and is_expandable_pow_of(A, y):\n",
    "                    ypow = Pow(A, y.args[1] - 1)\n",
    "                    args = args[0:i] + [A*B - value, ypow] + args[i+2:]\n",
    "                    return walk_tree( Mul(*args).expand() )\n",
    "                \n",
    "                if is_expandable_pow_of(B, x) and A == y:\n",
    "                    xpow = Pow(B, x.args[1] - 1)\n",
    "                    args = args[0:i] + [xpow, A*B - value] + args[i+2:]\n",
    "                    return walk_tree( Mul(*args).expand() )\n",
    "                \n",
    "                if is_expandable_pow_of(B, x) and is_expandable_pow_of(A, y):\n",
    "                    xpow = Pow(B, x.args[1] - 1)\n",
    "                    ypow = Pow(A, y.args[1] - 1)\n",
    "                    args = args[0:i] + [xpow, A*B - value, ypow] + args[i+2:]\n",
    "                    return walk_tree( Mul(*args).expand() )\n",
    "            \n",
    "            return expr.copy()\n",
    "            \n",
    "    \n",
    "    return walk_tree(expr)\n",
    "   \n",
    "\n",
    "Basic.apply_ccr = lambda self, ccr, reverse=False: apply_ccr(self, ccr, reverse)\n"
   ]
  },
  {
   "cell_type": "code",
   "execution_count": 3,
   "metadata": {},
   "outputs": [],
   "source": [
    "s1_ = (1/sqrt(2)) * \\\n",
    "    Matrix([\n",
    "        [0,1,0],\n",
    "        [1,0,1],\n",
    "        [0,1,0]\n",
    "    ])\n",
    "    \n",
    "s2_ = (1/sqrt(2)) * \\\n",
    "    Matrix([\n",
    "        [0,-I,0],\n",
    "        [I,0,-I],\n",
    "        [0, I,0]\n",
    "    ])\n",
    "\n",
    "s3_ = Matrix([\n",
    "        [1,0, 0],\n",
    "        [0,0, 0],\n",
    "        [0,0,-1]\n",
    "    ])"
   ]
  },
  {
   "cell_type": "code",
   "execution_count": 4,
   "metadata": {},
   "outputs": [
    {
     "data": {
      "text/latex": [
       "$\\displaystyle \\left[\\begin{matrix}\\frac{i}{2} & 0 & - \\frac{i}{2}\\\\0 & 0 & 0\\\\\\frac{i}{2} & 0 & - \\frac{i}{2}\\end{matrix}\\right]$"
      ],
      "text/plain": [
       "Matrix([\n",
       "[I/2, 0, -I/2],\n",
       "[  0, 0,    0],\n",
       "[I/2, 0, -I/2]])"
      ]
     },
     "execution_count": 4,
     "metadata": {},
     "output_type": "execute_result"
    }
   ],
   "source": [
    "s1_*s2_"
   ]
  },
  {
   "cell_type": "code",
   "execution_count": 5,
   "metadata": {},
   "outputs": [
    {
     "data": {
      "text/latex": [
       "$\\displaystyle \\left[\\begin{matrix}- \\frac{i}{2} & 0 & - \\frac{i}{2}\\\\0 & 0 & 0\\\\\\frac{i}{2} & 0 & \\frac{i}{2}\\end{matrix}\\right]$"
      ],
      "text/plain": [
       "Matrix([\n",
       "[-I/2, 0, -I/2],\n",
       "[   0, 0,    0],\n",
       "[ I/2, 0,  I/2]])"
      ]
     },
     "execution_count": 5,
     "metadata": {},
     "output_type": "execute_result"
    }
   ],
   "source": [
    "s2_*s1_"
   ]
  },
  {
   "cell_type": "code",
   "execution_count": 6,
   "metadata": {},
   "outputs": [
    {
     "data": {
      "text/latex": [
       "$\\displaystyle \\left[\\begin{matrix}0 & 0 & 0\\\\\\frac{\\sqrt{2} i}{2} & 0 & \\frac{\\sqrt{2} i}{2}\\\\0 & 0 & 0\\end{matrix}\\right]$"
      ],
      "text/plain": [
       "Matrix([\n",
       "[          0, 0,           0],\n",
       "[sqrt(2)*I/2, 0, sqrt(2)*I/2],\n",
       "[          0, 0,           0]])"
      ]
     },
     "execution_count": 6,
     "metadata": {},
     "output_type": "execute_result"
    }
   ],
   "source": [
    "s2_*s3_"
   ]
  },
  {
   "cell_type": "code",
   "execution_count": 7,
   "metadata": {},
   "outputs": [
    {
     "data": {
      "text/latex": [
       "$\\displaystyle \\left[\\begin{matrix}0 & - \\frac{\\sqrt{2} i}{2} & 0\\\\0 & 0 & 0\\\\0 & - \\frac{\\sqrt{2} i}{2} & 0\\end{matrix}\\right]$"
      ],
      "text/plain": [
       "Matrix([\n",
       "[0, -sqrt(2)*I/2, 0],\n",
       "[0,            0, 0],\n",
       "[0, -sqrt(2)*I/2, 0]])"
      ]
     },
     "execution_count": 7,
     "metadata": {},
     "output_type": "execute_result"
    }
   ],
   "source": [
    "s3_*s2_"
   ]
  },
  {
   "cell_type": "code",
   "execution_count": 8,
   "metadata": {},
   "outputs": [
    {
     "data": {
      "text/latex": [
       "$\\displaystyle \\left[\\begin{matrix}0 & \\frac{\\sqrt{2}}{2} & 0\\\\0 & 0 & 0\\\\0 & - \\frac{\\sqrt{2}}{2} & 0\\end{matrix}\\right]$"
      ],
      "text/plain": [
       "Matrix([\n",
       "[0,  sqrt(2)/2, 0],\n",
       "[0,          0, 0],\n",
       "[0, -sqrt(2)/2, 0]])"
      ]
     },
     "execution_count": 8,
     "metadata": {},
     "output_type": "execute_result"
    }
   ],
   "source": [
    "s3_*s1_"
   ]
  },
  {
   "cell_type": "code",
   "execution_count": 9,
   "metadata": {},
   "outputs": [
    {
     "data": {
      "text/latex": [
       "$\\displaystyle \\left[\\begin{matrix}0 & 0 & 0\\\\\\frac{\\sqrt{2}}{2} & 0 & - \\frac{\\sqrt{2}}{2}\\\\0 & 0 & 0\\end{matrix}\\right]$"
      ],
      "text/plain": [
       "Matrix([\n",
       "[        0, 0,          0],\n",
       "[sqrt(2)/2, 0, -sqrt(2)/2],\n",
       "[        0, 0,          0]])"
      ]
     },
     "execution_count": 9,
     "metadata": {},
     "output_type": "execute_result"
    }
   ],
   "source": [
    "s1_*s3_"
   ]
  },
  {
   "cell_type": "code",
   "execution_count": 10,
   "metadata": {},
   "outputs": [
    {
     "data": {
      "text/latex": [
       "$\\displaystyle \\left[\\begin{matrix}\\frac{1}{2} & 0 & \\frac{1}{2}\\\\0 & 1 & 0\\\\\\frac{1}{2} & 0 & \\frac{1}{2}\\end{matrix}\\right]$"
      ],
      "text/plain": [
       "Matrix([\n",
       "[1/2, 0, 1/2],\n",
       "[  0, 1,   0],\n",
       "[1/2, 0, 1/2]])"
      ]
     },
     "execution_count": 10,
     "metadata": {},
     "output_type": "execute_result"
    }
   ],
   "source": [
    "s1_*s1_"
   ]
  },
  {
   "cell_type": "code",
   "execution_count": 11,
   "metadata": {},
   "outputs": [
    {
     "data": {
      "text/latex": [
       "$\\displaystyle \\left[\\begin{matrix}\\frac{1}{2} & 0 & - \\frac{1}{2}\\\\0 & 1 & 0\\\\- \\frac{1}{2} & 0 & \\frac{1}{2}\\end{matrix}\\right]$"
      ],
      "text/plain": [
       "Matrix([\n",
       "[ 1/2, 0, -1/2],\n",
       "[   0, 1,    0],\n",
       "[-1/2, 0,  1/2]])"
      ]
     },
     "execution_count": 11,
     "metadata": {},
     "output_type": "execute_result"
    }
   ],
   "source": [
    "s2_*s2_"
   ]
  },
  {
   "cell_type": "code",
   "execution_count": 12,
   "metadata": {},
   "outputs": [
    {
     "data": {
      "text/latex": [
       "$\\displaystyle \\left[\\begin{matrix}1 & 0 & 0\\\\0 & 0 & 0\\\\0 & 0 & 1\\end{matrix}\\right]$"
      ],
      "text/plain": [
       "Matrix([\n",
       "[1, 0, 0],\n",
       "[0, 0, 0],\n",
       "[0, 0, 1]])"
      ]
     },
     "execution_count": 12,
     "metadata": {},
     "output_type": "execute_result"
    }
   ],
   "source": [
    "s3_*s3_"
   ]
  },
  {
   "cell_type": "code",
   "execution_count": null,
   "metadata": {},
   "outputs": [],
   "source": []
  },
  {
   "cell_type": "code",
   "execution_count": 13,
   "metadata": {},
   "outputs": [
    {
     "data": {
      "text/latex": [
       "$\\displaystyle \\left[\\begin{matrix}n_{3} & \\frac{\\sqrt{2} \\left(n_{1} - i n_{2}\\right)}{2} & 0\\\\\\frac{\\sqrt{2} \\left(n_{1} + i n_{2}\\right)}{2} & 0 & \\frac{\\sqrt{2} \\left(n_{1} - i n_{2}\\right)}{2}\\\\0 & \\frac{\\sqrt{2} \\left(n_{1} + i n_{2}\\right)}{2} & - n_{3}\\end{matrix}\\right]$"
      ],
      "text/plain": [
       "Matrix([\n",
       "[                    n_3, sqrt(2)*(n_1 - I*n_2)/2,                       0],\n",
       "[sqrt(2)*(n_1 + I*n_2)/2,                       0, sqrt(2)*(n_1 - I*n_2)/2],\n",
       "[                      0, sqrt(2)*(n_1 + I*n_2)/2,                    -n_3]])"
      ]
     },
     "execution_count": 13,
     "metadata": {},
     "output_type": "execute_result"
    }
   ],
   "source": [
    "n1, n2, n3 = symbols('n_1 n_2 n_3')\n",
    "s1, s2, s3 = Operator('s_1'), Operator('s_2'), Operator('s_3')\n",
    "\n",
    "ns = n1*s1 + n2*s2 + n3*s3\n",
    "ns_ = simplify(n1*s1_ + n2*s2_ + n3*s3_)\n",
    "ns_"
   ]
  },
  {
   "cell_type": "code",
   "execution_count": 14,
   "metadata": {},
   "outputs": [
    {
     "data": {
      "text/latex": [
       "$\\displaystyle \\left[\\begin{matrix}n_{3} & \\frac{\\sqrt{2} \\left(n_{1} - i n_{2}\\right)}{2} & 0\\\\\\frac{\\sqrt{2} \\left(n_{1} + i n_{2}\\right)}{2} & 0 & \\frac{\\sqrt{2} \\left(n_{1} - i n_{2}\\right)}{2}\\\\0 & \\frac{\\sqrt{2} \\left(n_{1} + i n_{2}\\right)}{2} & - n_{3}\\end{matrix}\\right]$"
      ],
      "text/plain": [
       "Matrix([\n",
       "[                    n_3, sqrt(2)*(n_1 - I*n_2)/2,                       0],\n",
       "[sqrt(2)*(n_1 + I*n_2)/2,                       0, sqrt(2)*(n_1 - I*n_2)/2],\n",
       "[                      0, sqrt(2)*(n_1 + I*n_2)/2,                    -n_3]])"
      ]
     },
     "execution_count": 14,
     "metadata": {},
     "output_type": "execute_result"
    }
   ],
   "source": [
    "simplify(ns_*ns_*ns_/(n1*n1 + n2*n2 + n3*n3))"
   ]
  },
  {
   "cell_type": "code",
   "execution_count": 15,
   "metadata": {},
   "outputs": [
    {
     "data": {
      "text/latex": [
       "$\\displaystyle \\left[\\begin{matrix}\\frac{n_{1}^{2}}{2} + \\frac{n_{2}^{2}}{2} + n_{3}^{2} & \\frac{\\sqrt{2} n_{3} \\left(n_{1} - i n_{2}\\right)}{2} & \\frac{\\left(n_{1} - i n_{2}\\right)^{2}}{2}\\\\\\frac{\\sqrt{2} n_{3} \\left(n_{1} + i n_{2}\\right)}{2} & n_{1}^{2} + n_{2}^{2} & \\frac{\\sqrt{2} n_{3} \\left(- n_{1} + i n_{2}\\right)}{2}\\\\\\frac{\\left(n_{1} + i n_{2}\\right)^{2}}{2} & - \\frac{\\sqrt{2} n_{3} \\left(n_{1} + i n_{2}\\right)}{2} & \\frac{n_{1}^{2}}{2} + \\frac{n_{2}^{2}}{2} + n_{3}^{2}\\end{matrix}\\right]$"
      ],
      "text/plain": [
       "Matrix([\n",
       "[n_1**2/2 + n_2**2/2 + n_3**2,  sqrt(2)*n_3*(n_1 - I*n_2)/2,           (n_1 - I*n_2)**2/2],\n",
       "[ sqrt(2)*n_3*(n_1 + I*n_2)/2,              n_1**2 + n_2**2, sqrt(2)*n_3*(-n_1 + I*n_2)/2],\n",
       "[          (n_1 + I*n_2)**2/2, -sqrt(2)*n_3*(n_1 + I*n_2)/2, n_1**2/2 + n_2**2/2 + n_3**2]])"
      ]
     },
     "execution_count": 15,
     "metadata": {},
     "output_type": "execute_result"
    }
   ],
   "source": [
    "simplify(ns_*ns_)"
   ]
  },
  {
   "cell_type": "code",
   "execution_count": null,
   "metadata": {},
   "outputs": [],
   "source": []
  },
  {
   "cell_type": "code",
   "execution_count": 16,
   "metadata": {},
   "outputs": [
    {
     "data": {
      "text/latex": [
       "$\\displaystyle \\left[\\begin{matrix}n_{3} \\sinh{\\left(1 \\right)} + \\frac{\\left(2 n_{3}^{2} + \\left(n_{1} - i n_{2}\\right) \\left(n_{1} + i n_{2}\\right)\\right) \\cosh{\\left(1 \\right)}}{2} + 1 & \\frac{\\sqrt{2} \\left(n_{1} - i n_{2}\\right) \\left(n_{3} \\cosh{\\left(1 \\right)} + \\sinh{\\left(1 \\right)}\\right)}{2} & \\frac{\\left(n_{1} - i n_{2}\\right)^{2} \\cosh{\\left(1 \\right)}}{2}\\\\\\frac{\\sqrt{2} \\left(n_{1} + i n_{2}\\right) \\left(n_{3} \\cosh{\\left(1 \\right)} + \\sinh{\\left(1 \\right)}\\right)}{2} & \\left(n_{1} - i n_{2}\\right) \\left(n_{1} + i n_{2}\\right) \\cosh{\\left(1 \\right)} + 1 & - \\frac{\\sqrt{2} \\left(n_{1} - i n_{2}\\right) \\left(n_{3} \\cosh{\\left(1 \\right)} - \\sinh{\\left(1 \\right)}\\right)}{2}\\\\\\frac{\\left(n_{1} + i n_{2}\\right)^{2} \\cosh{\\left(1 \\right)}}{2} & - \\frac{\\sqrt{2} \\left(n_{1} + i n_{2}\\right) \\left(n_{3} \\cosh{\\left(1 \\right)} - \\sinh{\\left(1 \\right)}\\right)}{2} & - n_{3} \\sinh{\\left(1 \\right)} + \\frac{\\left(2 n_{3}^{2} + \\left(n_{1} - i n_{2}\\right) \\left(n_{1} + i n_{2}\\right)\\right) \\cosh{\\left(1 \\right)}}{2} + 1\\end{matrix}\\right]$"
      ],
      "text/plain": [
       "Matrix([\n",
       "[n_3*sinh(1) + (2*n_3**2 + (n_1 - I*n_2)*(n_1 + I*n_2))*cosh(1)/2 + 1,  sqrt(2)*(n_1 - I*n_2)*(n_3*cosh(1) + sinh(1))/2,                                            (n_1 - I*n_2)**2*cosh(1)/2],\n",
       "[                     sqrt(2)*(n_1 + I*n_2)*(n_3*cosh(1) + sinh(1))/2,          (n_1 - I*n_2)*(n_1 + I*n_2)*cosh(1) + 1,                      -sqrt(2)*(n_1 - I*n_2)*(n_3*cosh(1) - sinh(1))/2],\n",
       "[                                          (n_1 + I*n_2)**2*cosh(1)/2, -sqrt(2)*(n_1 + I*n_2)*(n_3*cosh(1) - sinh(1))/2, -n_3*sinh(1) + (2*n_3**2 + (n_1 - I*n_2)*(n_1 + I*n_2))*cosh(1)/2 + 1]])"
      ]
     },
     "execution_count": 16,
     "metadata": {},
     "output_type": "execute_result"
    }
   ],
   "source": [
    "E = Matrix.eye(3)\n",
    "simplify(E + sinh(1)*ns_ + cosh(1)*ns_**2)"
   ]
  },
  {
   "cell_type": "code",
   "execution_count": null,
   "metadata": {},
   "outputs": [],
   "source": []
  },
  {
   "cell_type": "code",
   "execution_count": 17,
   "metadata": {},
   "outputs": [
    {
     "data": {
      "text/latex": [
       "$\\displaystyle \\sqrt{14}$"
      ],
      "text/plain": [
       "sqrt(14)"
      ]
     },
     "execution_count": 17,
     "metadata": {},
     "output_type": "execute_result"
    }
   ],
   "source": [
    "Matrix([1,2,3]).norm()"
   ]
  },
  {
   "cell_type": "code",
   "execution_count": null,
   "metadata": {},
   "outputs": [],
   "source": []
  },
  {
   "cell_type": "code",
   "execution_count": 18,
   "metadata": {},
   "outputs": [
    {
     "data": {
      "text/latex": [
       "$\\displaystyle \\left[\\begin{matrix}\\frac{\\left(\\Omega^{2} - i \\Omega \\left(\\omega - \\omega_{0}\\right) \\sin{\\left(\\Omega t \\right)} + \\frac{\\left(\\omega_{1}^{2} + 2 \\left(\\omega - \\omega_{0}\\right)^{2}\\right) \\left(\\cos{\\left(\\Omega t \\right)} - 1\\right)}{2}\\right) e^{i \\omega t}}{\\Omega^{2}} & \\frac{\\sqrt{2} \\omega_{1} \\left(i \\Omega \\sin{\\left(\\Omega t \\right)} + \\left(- \\omega + \\omega_{0}\\right) \\left(\\cos{\\left(\\Omega t \\right)} - 1\\right)\\right) e^{i \\omega t}}{2 \\Omega^{2}} & \\frac{\\omega_{1}^{2} \\left(\\cos{\\left(\\Omega t \\right)} - 1\\right) e^{i \\omega t}}{2 \\Omega^{2}}\\\\\\frac{\\sqrt{2} \\omega_{1} \\left(i \\Omega \\sin{\\left(\\Omega t \\right)} + \\left(- \\omega + \\omega_{0}\\right) \\left(\\cos{\\left(\\Omega t \\right)} - 1\\right)\\right)}{2 \\Omega^{2}} & \\frac{\\Omega^{2} + \\omega_{1}^{2} \\left(\\cos{\\left(\\Omega t \\right)} - 1\\right)}{\\Omega^{2}} & \\frac{\\sqrt{2} \\omega_{1} \\left(i \\Omega \\sin{\\left(\\Omega t \\right)} + \\left(\\omega - \\omega_{0}\\right) \\left(\\cos{\\left(\\Omega t \\right)} - 1\\right)\\right)}{2 \\Omega^{2}}\\\\\\frac{\\omega_{1}^{2} \\left(\\cos{\\left(\\Omega t \\right)} - 1\\right) e^{- i \\omega t}}{2 \\Omega^{2}} & \\frac{\\sqrt{2} \\omega_{1} \\left(i \\Omega \\sin{\\left(\\Omega t \\right)} + \\left(\\omega - \\omega_{0}\\right) \\left(\\cos{\\left(\\Omega t \\right)} - 1\\right)\\right) e^{- i \\omega t}}{2 \\Omega^{2}} & \\frac{\\left(\\Omega^{2} + i \\Omega \\left(\\omega - \\omega_{0}\\right) \\sin{\\left(\\Omega t \\right)} + \\frac{\\left(\\omega_{1}^{2} + 2 \\left(\\omega - \\omega_{0}\\right)^{2}\\right) \\left(\\cos{\\left(\\Omega t \\right)} - 1\\right)}{2}\\right) e^{- i \\omega t}}{\\Omega^{2}}\\end{matrix}\\right]$"
      ],
      "text/plain": [
       "Matrix([\n",
       "[(Omega**2 - I*Omega*(omega - omega_0)*sin(Omega*t) + (omega_1**2 + 2*(omega - omega_0)**2)*(cos(Omega*t) - 1)/2)*exp(I*omega*t)/Omega**2, sqrt(2)*omega_1*(I*Omega*sin(Omega*t) + (-omega + omega_0)*(cos(Omega*t) - 1))*exp(I*omega*t)/(2*Omega**2),                                                                                 omega_1**2*(cos(Omega*t) - 1)*exp(I*omega*t)/(2*Omega**2)],\n",
       "[                                             sqrt(2)*omega_1*(I*Omega*sin(Omega*t) + (-omega + omega_0)*(cos(Omega*t) - 1))/(2*Omega**2),                                                        (Omega**2 + omega_1**2*(cos(Omega*t) - 1))/Omega**2,                                                sqrt(2)*omega_1*(I*Omega*sin(Omega*t) + (omega - omega_0)*(cos(Omega*t) - 1))/(2*Omega**2)],\n",
       "[                                                                              omega_1**2*(cos(Omega*t) - 1)*exp(-I*omega*t)/(2*Omega**2), sqrt(2)*omega_1*(I*Omega*sin(Omega*t) + (omega - omega_0)*(cos(Omega*t) - 1))*exp(-I*omega*t)/(2*Omega**2), (Omega**2 + I*Omega*(omega - omega_0)*sin(Omega*t) + (omega_1**2 + 2*(omega - omega_0)**2)*(cos(Omega*t) - 1)/2)*exp(-I*omega*t)/Omega**2]])"
      ]
     },
     "execution_count": 18,
     "metadata": {},
     "output_type": "execute_result"
    }
   ],
   "source": [
    "eye = Operator('1')\n",
    "def expi(arg, mat):\n",
    "    return eye + I*sin(arg)*mat + (cos(arg)-1)*mat**2\n",
    "\n",
    "def refine(U):\n",
    "    U = U.expand()\n",
    "    U = U.apply_ccr(ccr1)\n",
    "    U = U.apply_ccr(ccr2)\n",
    "    U = U.apply_ccr(ccr3)\n",
    "    U = U.subs(s1**3, s1).subs(s2**3,s2).subs(s3**3,s3)\n",
    "    return U\n",
    "\n",
    "t = symbols('t', real=True)\n",
    "o, o0, o1 = symbols('omega, omega_0, omega_1', real=True)\n",
    "O = symbols('Omega', real=True)\n",
    "O_ = Matrix([-o1, 0, o-o0]).norm()\n",
    "\n",
    "nsO = (1/O)*ns.subs(n1, -o1).subs(n2, 0).subs(n3, o-o0)\n",
    "\n",
    "ccr1 = Eq(Commutator(s1,s2),I*s3)\n",
    "ccr2 = Eq(Commutator(s2,s3),I*s1)\n",
    "ccr3 = Eq(Commutator(s3,s1),I*s2)\n",
    "\n",
    "U1 = expi(o*t, s3)\n",
    "U2 = expi(-O*t,nsO)\n",
    "U1 = U1.subs(s1,s1_).subs(s2,s2_).subs(s3,s3_).subs(eye, E)\n",
    "U2 = U2.subs(s1,s1_).subs(s2,s2_).subs(s3,s3_).subs(eye, E)\n",
    "U1 = simplify(U1)\n",
    "U2 = simplify(U2)\n",
    "U_ = U1*U2\n",
    "U_ = simplify(U_)\n",
    "U_"
   ]
  },
  {
   "cell_type": "code",
   "execution_count": 19,
   "metadata": {},
   "outputs": [
    {
     "data": {
      "text/latex": [
       "$\\displaystyle \\left[\\begin{matrix}e^{i \\omega t} & 0 & 0\\\\0 & 1 & 0\\\\0 & 0 & e^{- i \\omega t}\\end{matrix}\\right]$"
      ],
      "text/plain": [
       "Matrix([\n",
       "[exp(I*omega*t), 0,               0],\n",
       "[             0, 1,               0],\n",
       "[             0, 0, exp(-I*omega*t)]])"
      ]
     },
     "execution_count": 19,
     "metadata": {},
     "output_type": "execute_result"
    }
   ],
   "source": [
    "U1"
   ]
  },
  {
   "cell_type": "code",
   "execution_count": 20,
   "metadata": {},
   "outputs": [
    {
     "data": {
      "text/latex": [
       "$\\displaystyle \\left[\\begin{matrix}\\frac{\\Omega^{2} - i \\Omega \\left(\\omega - \\omega_{0}\\right) \\sin{\\left(\\Omega t \\right)} + \\frac{\\left(\\omega_{1}^{2} + 2 \\left(\\omega - \\omega_{0}\\right)^{2}\\right) \\left(\\cos{\\left(\\Omega t \\right)} - 1\\right)}{2}}{\\Omega^{2}} & \\frac{\\sqrt{2} \\omega_{1} \\left(i \\Omega \\sin{\\left(\\Omega t \\right)} + \\left(- \\omega + \\omega_{0}\\right) \\left(\\cos{\\left(\\Omega t \\right)} - 1\\right)\\right)}{2 \\Omega^{2}} & \\frac{\\omega_{1}^{2} \\left(\\cos{\\left(\\Omega t \\right)} - 1\\right)}{2 \\Omega^{2}}\\\\\\frac{\\sqrt{2} \\omega_{1} \\left(i \\Omega \\sin{\\left(\\Omega t \\right)} + \\left(- \\omega + \\omega_{0}\\right) \\left(\\cos{\\left(\\Omega t \\right)} - 1\\right)\\right)}{2 \\Omega^{2}} & \\frac{\\Omega^{2} + \\omega_{1}^{2} \\left(\\cos{\\left(\\Omega t \\right)} - 1\\right)}{\\Omega^{2}} & \\frac{\\sqrt{2} \\omega_{1} \\left(i \\Omega \\sin{\\left(\\Omega t \\right)} + \\left(\\omega - \\omega_{0}\\right) \\left(\\cos{\\left(\\Omega t \\right)} - 1\\right)\\right)}{2 \\Omega^{2}}\\\\\\frac{\\omega_{1}^{2} \\left(\\cos{\\left(\\Omega t \\right)} - 1\\right)}{2 \\Omega^{2}} & \\frac{\\sqrt{2} \\omega_{1} \\left(i \\Omega \\sin{\\left(\\Omega t \\right)} + \\left(\\omega - \\omega_{0}\\right) \\left(\\cos{\\left(\\Omega t \\right)} - 1\\right)\\right)}{2 \\Omega^{2}} & \\frac{\\Omega^{2} + i \\Omega \\left(\\omega - \\omega_{0}\\right) \\sin{\\left(\\Omega t \\right)} + \\frac{\\left(\\omega_{1}^{2} + 2 \\left(\\omega - \\omega_{0}\\right)^{2}\\right) \\left(\\cos{\\left(\\Omega t \\right)} - 1\\right)}{2}}{\\Omega^{2}}\\end{matrix}\\right]$"
      ],
      "text/plain": [
       "Matrix([\n",
       "[(Omega**2 - I*Omega*(omega - omega_0)*sin(Omega*t) + (omega_1**2 + 2*(omega - omega_0)**2)*(cos(Omega*t) - 1)/2)/Omega**2, sqrt(2)*omega_1*(I*Omega*sin(Omega*t) + (-omega + omega_0)*(cos(Omega*t) - 1))/(2*Omega**2),                                                                                omega_1**2*(cos(Omega*t) - 1)/(2*Omega**2)],\n",
       "[                              sqrt(2)*omega_1*(I*Omega*sin(Omega*t) + (-omega + omega_0)*(cos(Omega*t) - 1))/(2*Omega**2),                                         (Omega**2 + omega_1**2*(cos(Omega*t) - 1))/Omega**2,                                sqrt(2)*omega_1*(I*Omega*sin(Omega*t) + (omega - omega_0)*(cos(Omega*t) - 1))/(2*Omega**2)],\n",
       "[                                                                               omega_1**2*(cos(Omega*t) - 1)/(2*Omega**2),  sqrt(2)*omega_1*(I*Omega*sin(Omega*t) + (omega - omega_0)*(cos(Omega*t) - 1))/(2*Omega**2), (Omega**2 + I*Omega*(omega - omega_0)*sin(Omega*t) + (omega_1**2 + 2*(omega - omega_0)**2)*(cos(Omega*t) - 1)/2)/Omega**2]])"
      ]
     },
     "execution_count": 20,
     "metadata": {},
     "output_type": "execute_result"
    }
   ],
   "source": [
    "U2"
   ]
  },
  {
   "cell_type": "code",
   "execution_count": 21,
   "metadata": {},
   "outputs": [
    {
     "name": "stdout",
     "output_type": "stream",
     "text": [
      "\\left[\\begin{matrix}e^{i \\omega t} & 0 & 0\\\\0 & 1 & 0\\\\0 & 0 & e^{- i \\omega t}\\end{matrix}\\right]\n"
     ]
    }
   ],
   "source": [
    "print(latex(U1))"
   ]
  },
  {
   "cell_type": "code",
   "execution_count": 22,
   "metadata": {},
   "outputs": [
    {
     "name": "stdout",
     "output_type": "stream",
     "text": [
      "\\left[\\begin{matrix}2 \\Omega^{2} - 2 i \\Omega \\left(\\omega - \\omega_{0}\\right) \\sin{\\left(\\Omega t \\right)} + \\left(\\omega_{1}^{2} + 2 \\left(\\omega - \\omega_{0}\\right)^{2}\\right) \\left(\\cos{\\left(\\Omega t \\right)} - 1\\right) & \\sqrt{2} \\omega_{1} \\left(i \\Omega \\sin{\\left(\\Omega t \\right)} + \\left(- \\omega + \\omega_{0}\\right) \\left(\\cos{\\left(\\Omega t \\right)} - 1\\right)\\right) & \\omega_{1}^{2} \\left(\\cos{\\left(\\Omega t \\right)} - 1\\right)\\\\\\sqrt{2} \\omega_{1} \\left(i \\Omega \\sin{\\left(\\Omega t \\right)} + \\left(- \\omega + \\omega_{0}\\right) \\left(\\cos{\\left(\\Omega t \\right)} - 1\\right)\\right) & 2 \\Omega^{2} + 2 \\omega_{1}^{2} \\left(\\cos{\\left(\\Omega t \\right)} - 1\\right) & \\sqrt{2} \\omega_{1} \\left(i \\Omega \\sin{\\left(\\Omega t \\right)} + \\left(\\omega - \\omega_{0}\\right) \\left(\\cos{\\left(\\Omega t \\right)} - 1\\right)\\right)\\\\\\omega_{1}^{2} \\left(\\cos{\\left(\\Omega t \\right)} - 1\\right) & \\sqrt{2} \\omega_{1} \\left(i \\Omega \\sin{\\left(\\Omega t \\right)} + \\left(\\omega - \\omega_{0}\\right) \\left(\\cos{\\left(\\Omega t \\right)} - 1\\right)\\right) & 2 \\Omega^{2} + 2 i \\Omega \\left(\\omega - \\omega_{0}\\right) \\sin{\\left(\\Omega t \\right)} + \\left(\\omega_{1}^{2} + 2 \\left(\\omega - \\omega_{0}\\right)^{2}\\right) \\left(\\cos{\\left(\\Omega t \\right)} - 1\\right)\\end{matrix}\\right]\n"
     ]
    }
   ],
   "source": [
    "print(latex(simplify(U2*2*O**2)))"
   ]
  },
  {
   "cell_type": "code",
   "execution_count": 23,
   "metadata": {},
   "outputs": [
    {
     "name": "stdout",
     "output_type": "stream",
     "text": [
      "\\left[\\begin{matrix}\\left(2 \\Omega^{2} - 2 i \\Omega \\left(\\omega - \\omega_{0}\\right) \\sin{\\left(\\Omega t \\right)} + \\left(\\omega_{1}^{2} + 2 \\left(\\omega - \\omega_{0}\\right)^{2}\\right) \\left(\\cos{\\left(\\Omega t \\right)} - 1\\right)\\right) e^{i \\omega t} & \\sqrt{2} \\omega_{1} \\left(i \\Omega \\sin{\\left(\\Omega t \\right)} + \\left(- \\omega + \\omega_{0}\\right) \\left(\\cos{\\left(\\Omega t \\right)} - 1\\right)\\right) e^{i \\omega t} & \\omega_{1}^{2} \\left(\\cos{\\left(\\Omega t \\right)} - 1\\right) e^{i \\omega t}\\\\\\sqrt{2} \\omega_{1} \\left(i \\Omega \\sin{\\left(\\Omega t \\right)} + \\left(- \\omega + \\omega_{0}\\right) \\left(\\cos{\\left(\\Omega t \\right)} - 1\\right)\\right) & 2 \\Omega^{2} + 2 \\omega_{1}^{2} \\left(\\cos{\\left(\\Omega t \\right)} - 1\\right) & \\sqrt{2} \\omega_{1} \\left(i \\Omega \\sin{\\left(\\Omega t \\right)} + \\left(\\omega - \\omega_{0}\\right) \\left(\\cos{\\left(\\Omega t \\right)} - 1\\right)\\right)\\\\\\omega_{1}^{2} \\left(\\cos{\\left(\\Omega t \\right)} - 1\\right) e^{- i \\omega t} & \\sqrt{2} \\omega_{1} \\left(i \\Omega \\sin{\\left(\\Omega t \\right)} + \\left(\\omega - \\omega_{0}\\right) \\left(\\cos{\\left(\\Omega t \\right)} - 1\\right)\\right) e^{- i \\omega t} & \\left(2 \\Omega^{2} + 2 i \\Omega \\left(\\omega - \\omega_{0}\\right) \\sin{\\left(\\Omega t \\right)} + \\left(\\omega_{1}^{2} + 2 \\left(\\omega - \\omega_{0}\\right)^{2}\\right) \\left(\\cos{\\left(\\Omega t \\right)} - 1\\right)\\right) e^{- i \\omega t}\\end{matrix}\\right]\n"
     ]
    }
   ],
   "source": [
    "print(latex(simplify(U_*2*O**2)))"
   ]
  },
  {
   "cell_type": "code",
   "execution_count": 24,
   "metadata": {},
   "outputs": [
    {
     "data": {
      "text/latex": [
       "$\\displaystyle \\left[\\begin{matrix}\\frac{\\left(\\Omega^{2} + i \\Omega \\left(\\omega - \\omega_{0}\\right) \\sin{\\left(\\Omega t \\right)} + \\frac{\\left(\\omega_{1}^{2} + 2 \\left(\\omega - \\omega_{0}\\right)^{2}\\right) \\left(\\cos{\\left(\\Omega t \\right)} - 1\\right)}{2}\\right) e^{- i \\omega t}}{\\Omega^{2}} & \\frac{\\sqrt{2} \\omega_{1} \\left(- i \\Omega \\sin{\\left(\\Omega t \\right)} + \\left(- \\omega + \\omega_{0}\\right) \\left(\\cos{\\left(\\Omega t \\right)} - 1\\right)\\right)}{2 \\Omega^{2}} & \\frac{\\omega_{1}^{2} \\left(\\cos{\\left(\\Omega t \\right)} - 1\\right) e^{i \\omega t}}{2 \\Omega^{2}}\\\\\\frac{\\sqrt{2} \\omega_{1} \\left(- i \\Omega \\sin{\\left(\\Omega t \\right)} + \\left(- \\omega + \\omega_{0}\\right) \\left(\\cos{\\left(\\Omega t \\right)} - 1\\right)\\right) e^{- i \\omega t}}{2 \\Omega^{2}} & \\frac{\\Omega^{2} + \\omega_{1}^{2} \\left(\\cos{\\left(\\Omega t \\right)} - 1\\right)}{\\Omega^{2}} & \\frac{\\sqrt{2} \\omega_{1} \\left(- i \\Omega \\sin{\\left(\\Omega t \\right)} + \\left(\\omega - \\omega_{0}\\right) \\left(\\cos{\\left(\\Omega t \\right)} - 1\\right)\\right) e^{i \\omega t}}{2 \\Omega^{2}}\\\\\\frac{\\omega_{1}^{2} \\left(\\cos{\\left(\\Omega t \\right)} - 1\\right) e^{- i \\omega t}}{2 \\Omega^{2}} & \\frac{\\sqrt{2} \\omega_{1} \\left(- i \\Omega \\sin{\\left(\\Omega t \\right)} + \\left(\\omega - \\omega_{0}\\right) \\left(\\cos{\\left(\\Omega t \\right)} - 1\\right)\\right)}{2 \\Omega^{2}} & \\frac{\\left(\\Omega^{2} - i \\Omega \\left(\\omega - \\omega_{0}\\right) \\sin{\\left(\\Omega t \\right)} + \\frac{\\left(\\omega_{1}^{2} + 2 \\left(\\omega - \\omega_{0}\\right)^{2}\\right) \\left(\\cos{\\left(\\Omega t \\right)} - 1\\right)}{2}\\right) e^{i \\omega t}}{\\Omega^{2}}\\end{matrix}\\right]$"
      ],
      "text/plain": [
       "Matrix([\n",
       "[(Omega**2 + I*Omega*(omega - omega_0)*sin(Omega*t) + (omega_1**2 + 2*(omega - omega_0)**2)*(cos(Omega*t) - 1)/2)*exp(-I*omega*t)/Omega**2, sqrt(2)*omega_1*(-I*Omega*sin(Omega*t) + (-omega + omega_0)*(cos(Omega*t) - 1))/(2*Omega**2),                                                                                omega_1**2*(cos(Omega*t) - 1)*exp(I*omega*t)/(2*Omega**2)],\n",
       "[                             sqrt(2)*omega_1*(-I*Omega*sin(Omega*t) + (-omega + omega_0)*(cos(Omega*t) - 1))*exp(-I*omega*t)/(2*Omega**2),                                          (Omega**2 + omega_1**2*(cos(Omega*t) - 1))/Omega**2,                               sqrt(2)*omega_1*(-I*Omega*sin(Omega*t) + (omega - omega_0)*(cos(Omega*t) - 1))*exp(I*omega*t)/(2*Omega**2)],\n",
       "[                                                                               omega_1**2*(cos(Omega*t) - 1)*exp(-I*omega*t)/(2*Omega**2),  sqrt(2)*omega_1*(-I*Omega*sin(Omega*t) + (omega - omega_0)*(cos(Omega*t) - 1))/(2*Omega**2), (Omega**2 - I*Omega*(omega - omega_0)*sin(Omega*t) + (omega_1**2 + 2*(omega - omega_0)**2)*(cos(Omega*t) - 1)/2)*exp(I*omega*t)/Omega**2]])"
      ]
     },
     "execution_count": 24,
     "metadata": {},
     "output_type": "execute_result"
    }
   ],
   "source": [
    "U_inv = U_.adjoint()\n",
    "U_inv"
   ]
  },
  {
   "cell_type": "code",
   "execution_count": 79,
   "metadata": {},
   "outputs": [
    {
     "data": {
      "text/latex": [
       "$\\displaystyle \\left[\\begin{matrix}\\frac{\\left(\\Omega^{2} - i \\Omega \\left(\\omega - \\omega_{0}\\right) \\sin{\\left(\\Omega \\left(t - t_{0}\\right) \\right)} + \\frac{\\left(\\omega_{1}^{2} + 2 \\left(\\omega - \\omega_{0}\\right)^{2}\\right) \\left(\\cos{\\left(\\Omega \\left(t - t_{0}\\right) \\right)} - 1\\right)}{2}\\right) e^{i \\omega \\left(t - t_{0}\\right)}}{\\Omega^{2}} & \\frac{\\sqrt{2} \\omega_{1} \\left(i \\Omega \\sin{\\left(\\Omega \\left(t - t_{0}\\right) \\right)} + \\left(- \\omega + \\omega_{0}\\right) \\left(\\cos{\\left(\\Omega \\left(t - t_{0}\\right) \\right)} - 1\\right)\\right) e^{i \\omega t}}{2 \\Omega^{2}} & \\frac{\\omega_{1}^{2} \\left(\\cos{\\left(\\Omega \\left(t - t_{0}\\right) \\right)} - 1\\right) e^{i \\omega \\left(t + t_{0}\\right)}}{2 \\Omega^{2}}\\\\\\frac{\\sqrt{2} \\omega_{1} \\left(i \\Omega \\sin{\\left(\\Omega \\left(t - t_{0}\\right) \\right)} + \\left(- \\omega + \\omega_{0}\\right) \\left(\\cos{\\left(\\Omega \\left(t - t_{0}\\right) \\right)} - 1\\right)\\right) e^{- i \\omega t_{0}}}{2 \\Omega^{2}} & \\frac{\\Omega^{2} + \\omega_{1}^{2} \\left(\\cos{\\left(\\Omega \\left(t - t_{0}\\right) \\right)} - 1\\right)}{\\Omega^{2}} & \\frac{\\sqrt{2} \\omega_{1} \\left(i \\Omega \\sin{\\left(\\Omega \\left(t - t_{0}\\right) \\right)} + \\left(\\omega - \\omega_{0}\\right) \\left(\\cos{\\left(\\Omega \\left(t - t_{0}\\right) \\right)} - 1\\right)\\right) e^{i \\omega t_{0}}}{2 \\Omega^{2}}\\\\\\frac{\\omega_{1}^{2} \\left(\\cos{\\left(\\Omega \\left(t - t_{0}\\right) \\right)} - 1\\right) e^{- i \\omega \\left(t + t_{0}\\right)}}{2 \\Omega^{2}} & \\frac{\\sqrt{2} \\omega_{1} \\left(i \\Omega \\sin{\\left(\\Omega \\left(t - t_{0}\\right) \\right)} + \\left(\\omega - \\omega_{0}\\right) \\left(\\cos{\\left(\\Omega \\left(t - t_{0}\\right) \\right)} - 1\\right)\\right) e^{- i \\omega t}}{2 \\Omega^{2}} & \\frac{\\left(\\Omega^{2} + i \\Omega \\left(\\omega - \\omega_{0}\\right) \\sin{\\left(\\Omega \\left(t - t_{0}\\right) \\right)} + \\frac{\\left(\\omega_{1}^{2} + 2 \\left(\\omega - \\omega_{0}\\right)^{2}\\right) \\left(\\cos{\\left(\\Omega \\left(t - t_{0}\\right) \\right)} - 1\\right)}{2}\\right) e^{i \\omega \\left(- t + t_{0}\\right)}}{\\Omega^{2}}\\end{matrix}\\right]$"
      ],
      "text/plain": [
       "Matrix([\n",
       "[(Omega**2 - I*Omega*(omega - omega_0)*sin(Omega*(t - t_0)) + (omega_1**2 + 2*(omega - omega_0)**2)*(cos(Omega*(t - t_0)) - 1)/2)*exp(I*omega*(t - t_0))/Omega**2, sqrt(2)*omega_1*(I*Omega*sin(Omega*(t - t_0)) + (-omega + omega_0)*(cos(Omega*(t - t_0)) - 1))*exp(I*omega*t)/(2*Omega**2),                                                                                         omega_1**2*(cos(Omega*(t - t_0)) - 1)*exp(I*omega*(t + t_0))/(2*Omega**2)],\n",
       "[                                   sqrt(2)*omega_1*(I*Omega*sin(Omega*(t - t_0)) + (-omega + omega_0)*(cos(Omega*(t - t_0)) - 1))*exp(-I*omega*t_0)/(2*Omega**2),                                                                (Omega**2 + omega_1**2*(cos(Omega*(t - t_0)) - 1))/Omega**2,                                       sqrt(2)*omega_1*(I*Omega*sin(Omega*(t - t_0)) + (omega - omega_0)*(cos(Omega*(t - t_0)) - 1))*exp(I*omega*t_0)/(2*Omega**2)],\n",
       "[                                                                                      omega_1**2*(cos(Omega*(t - t_0)) - 1)*exp(-I*omega*(t + t_0))/(2*Omega**2), sqrt(2)*omega_1*(I*Omega*sin(Omega*(t - t_0)) + (omega - omega_0)*(cos(Omega*(t - t_0)) - 1))*exp(-I*omega*t)/(2*Omega**2), (Omega**2 + I*Omega*(omega - omega_0)*sin(Omega*(t - t_0)) + (omega_1**2 + 2*(omega - omega_0)**2)*(cos(Omega*(t - t_0)) - 1)/2)*exp(I*omega*(-t + t_0))/Omega**2]])"
      ]
     },
     "execution_count": 79,
     "metadata": {},
     "output_type": "execute_result"
    }
   ],
   "source": [
    "from sympy.simplify import trigsimp\n",
    "t0 = symbols('t_0', real=True)\n",
    "\n",
    "U1 = exp(I*o*t*s3)\n",
    "U2 = exp(-I*O*(t-t0)*nsO)\n",
    "U3 = exp(-I*o*t0*s3)\n",
    "\n",
    "Utt0 = U1*U2*U3\n",
    "\n",
    "U1 = expi(o*t, s3)\n",
    "U2 = expi(-O*(t-t0),nsO)\n",
    "U3 = expi(-o*t0, s3)\n",
    "\n",
    "U1, U2, U3 = [uuu.subs(s1,s1_).subs(s2,s2_).subs(s3,s3_).subs(eye, E) for uuu in (U1,U2,U3)]\n",
    "U1, U2, U3 = [simplify(uuu) for uuu in (U1,U2,U3)]\n",
    "\n",
    "Utt0_ = U1*U2*U3\n",
    "Utt0_ = Utt0_.subs(O_**2, O**2)\n",
    "Utt0_ = simplify(Utt0_)\n",
    "Utt0_"
   ]
  },
  {
   "cell_type": "code",
   "execution_count": 64,
   "metadata": {},
   "outputs": [
    {
     "name": "stdout",
     "output_type": "stream",
     "text": [
      "2 \\left(\\left(\\cos{\\left(\\omega t \\right)} - 1\\right) s_{3}^{2} + i \\sin{\\left(\\omega t \\right)} s_{3} + 1\\right) \\left(\\Omega^{2} \\cdot 1 - i \\Omega \\sin{\\left(\\Omega \\left(t - t_{0}\\right) \\right)} \\left(- \\omega_{1} s_{1} + \\left(\\omega - \\omega_{0}\\right) s_{3}\\right) + \\left(\\cos{\\left(\\Omega \\left(t - t_{0}\\right) \\right)} - 1\\right) \\left(- \\omega_{1} s_{1} + \\left(\\omega - \\omega_{0}\\right) s_{3}\\right)^{2}\\right) \\left(\\left(\\cos{\\left(\\omega t_{0} \\right)} - 1\\right) s_{3}^{2} - i \\sin{\\left(\\omega t_{0} \\right)} s_{3} + 1\\right)\n"
     ]
    }
   ],
   "source": [
    "print(latex(simplify(Utt0_*(2*O**2))))"
   ]
  },
  {
   "cell_type": "code",
   "execution_count": null,
   "metadata": {},
   "outputs": [],
   "source": []
  },
  {
   "cell_type": "code",
   "execution_count": 66,
   "metadata": {},
   "outputs": [
    {
     "data": {
      "text/latex": [
       "$\\displaystyle \\left[\\begin{matrix}\\frac{\\left(- 2 \\left(\\omega - \\omega_{0}\\right)^{2} \\left(i \\sin{\\left(T \\left(\\omega - \\omega_{0}\\right) \\right)} - 1\\right) + \\left(\\omega_{1}^{2} + 2 \\left(\\omega - \\omega_{0}\\right)^{2}\\right) \\left(\\cos{\\left(T \\left(\\omega - \\omega_{0}\\right) \\right)} - 1\\right)\\right) e^{i T \\omega}}{2 \\left(\\omega - \\omega_{0}\\right)^{2}} & \\frac{\\sqrt{2} \\omega_{1} \\left(e^{i T \\omega} - e^{i T \\omega_{0}}\\right) e^{i \\omega \\tau}}{2 \\left(\\omega - \\omega_{0}\\right)} & \\frac{\\omega_{1}^{2} \\left(\\cos{\\left(T \\left(\\omega - \\omega_{0}\\right) \\right)} - 1\\right) e^{i \\omega \\left(T + 2 \\tau\\right)}}{2 \\left(\\omega - \\omega_{0}\\right)^{2}}\\\\\\frac{\\sqrt{2} \\omega_{1} \\left(e^{i T \\left(\\omega - \\omega_{0}\\right)} - 1\\right) e^{- i \\left(T \\left(\\omega - \\omega_{0}\\right) + \\omega \\tau\\right)}}{2 \\left(\\omega - \\omega_{0}\\right)} & \\frac{\\omega_{1}^{2} \\left(\\cos{\\left(T \\left(\\omega - \\omega_{0}\\right) \\right)} - 1\\right) + \\left(\\omega - \\omega_{0}\\right)^{2}}{\\left(\\omega - \\omega_{0}\\right)^{2}} & \\frac{\\sqrt{2} \\omega_{1} \\left(e^{i T \\left(\\omega - \\omega_{0}\\right)} - 1\\right) e^{i \\omega \\tau}}{2 \\omega - 2 \\omega_{0}}\\\\\\frac{\\omega_{1}^{2} \\left(\\cos{\\left(T \\left(\\omega - \\omega_{0}\\right) \\right)} - 1\\right) e^{- i \\omega \\left(T + 2 \\tau\\right)}}{2 \\left(\\omega - \\omega_{0}\\right)^{2}} & \\frac{\\sqrt{2} \\omega_{1} \\left(e^{i T \\left(\\omega - \\omega_{0}\\right)} - 1\\right) e^{- i \\omega \\left(T + \\tau\\right)}}{2 \\left(\\omega - \\omega_{0}\\right)} & \\frac{\\left(2 \\left(\\omega - \\omega_{0}\\right)^{2} \\left(i \\sin{\\left(T \\left(\\omega - \\omega_{0}\\right) \\right)} + 1\\right) + \\left(\\omega_{1}^{2} + 2 \\left(\\omega - \\omega_{0}\\right)^{2}\\right) \\left(\\cos{\\left(T \\left(\\omega - \\omega_{0}\\right) \\right)} - 1\\right)\\right) e^{- i T \\omega}}{2 \\left(\\omega - \\omega_{0}\\right)^{2}}\\end{matrix}\\right]$"
      ],
      "text/plain": [
       "Matrix([\n",
       "[(-2*(omega - omega_0)**2*(I*sin(T*(omega - omega_0)) - 1) + (omega_1**2 + 2*(omega - omega_0)**2)*(cos(T*(omega - omega_0)) - 1))*exp(I*T*omega)/(2*(omega - omega_0)**2),     sqrt(2)*omega_1*(exp(I*T*omega) - exp(I*T*omega_0))*exp(I*omega*tau)/(2*(omega - omega_0)),                                                                               omega_1**2*(cos(T*(omega - omega_0)) - 1)*exp(I*omega*(T + 2*tau))/(2*(omega - omega_0)**2)],\n",
       "[                                                         sqrt(2)*omega_1*(exp(I*T*(omega - omega_0)) - 1)*exp(-I*(T*(omega - omega_0) + omega*tau))/(2*(omega - omega_0)),        (omega_1**2*(cos(T*(omega - omega_0)) - 1) + (omega - omega_0)**2)/(omega - omega_0)**2,                                                                                   sqrt(2)*omega_1*(exp(I*T*(omega - omega_0)) - 1)*exp(I*omega*tau)/(2*omega - 2*omega_0)],\n",
       "[                                                                             omega_1**2*(cos(T*(omega - omega_0)) - 1)*exp(-I*omega*(T + 2*tau))/(2*(omega - omega_0)**2), sqrt(2)*omega_1*(exp(I*T*(omega - omega_0)) - 1)*exp(-I*omega*(T + tau))/(2*(omega - omega_0)), (2*(omega - omega_0)**2*(I*sin(T*(omega - omega_0)) + 1) + (omega_1**2 + 2*(omega - omega_0)**2)*(cos(T*(omega - omega_0)) - 1))*exp(-I*T*omega)/(2*(omega - omega_0)**2)]])"
      ]
     },
     "execution_count": 66,
     "metadata": {},
     "output_type": "execute_result"
    }
   ],
   "source": [
    "tau, T = symbols('tau T', real=True)\n",
    "\n",
    "U1 = expi(o*(tau+T), s3)\n",
    "U2 = expi(-(o-o0)*T,nsO.subs(O,o-o0))\n",
    "U3 = expi(-o*tau, s3)\n",
    "\n",
    "U0 = U1*U2*U3\n",
    "\n",
    "U1, U2, U3 = [uuu.subs(s1,s1_).subs(s2,s2_).subs(s3,s3_).subs(eye, E) for uuu in (U1,U2,U3)]\n",
    "U1, U2, U3 = [simplify(uuu) for uuu in (U1,U2,U3)]\n",
    "\n",
    "U0_ = U1*U2*U3\n",
    "U0_ = simplify(U0_)\n",
    "\n",
    "U0rez_ = U1*U3\n",
    "U0rez_ = simplify(U0rez_)\n",
    "U0_"
   ]
  },
  {
   "cell_type": "code",
   "execution_count": 67,
   "metadata": {},
   "outputs": [
    {
     "name": "stdout",
     "output_type": "stream",
     "text": [
      "\\left[\\begin{matrix}\\left(- 2 \\left(\\omega - \\omega_{0}\\right)^{2} \\left(i \\sin{\\left(T \\left(\\omega - \\omega_{0}\\right) \\right)} - 1\\right) + \\left(\\omega_{1}^{2} + 2 \\left(\\omega - \\omega_{0}\\right)^{2}\\right) \\left(\\cos{\\left(T \\left(\\omega - \\omega_{0}\\right) \\right)} - 1\\right)\\right) e^{i T \\omega} & \\sqrt{2} \\omega_{1} \\left(\\omega - \\omega_{0}\\right) \\left(e^{i T \\omega} - e^{i T \\omega_{0}}\\right) e^{i \\omega \\tau} & \\omega_{1}^{2} \\left(\\cos{\\left(T \\left(\\omega - \\omega_{0}\\right) \\right)} - 1\\right) e^{i \\omega \\left(T + 2 \\tau\\right)}\\\\\\sqrt{2} \\omega_{1} \\left(\\omega - \\omega_{0}\\right) \\left(e^{i T \\left(\\omega - \\omega_{0}\\right)} - 1\\right) e^{- i \\left(T \\left(\\omega - \\omega_{0}\\right) + \\omega \\tau\\right)} & 2 \\omega_{1}^{2} \\left(\\cos{\\left(T \\left(\\omega - \\omega_{0}\\right) \\right)} - 1\\right) + 2 \\left(\\omega - \\omega_{0}\\right)^{2} & \\sqrt{2} \\omega_{1} \\left(\\omega - \\omega_{0}\\right) \\left(e^{i T \\left(\\omega - \\omega_{0}\\right)} - 1\\right) e^{i \\omega \\tau}\\\\\\omega_{1}^{2} \\left(\\cos{\\left(T \\left(\\omega - \\omega_{0}\\right) \\right)} - 1\\right) e^{- i \\omega \\left(T + 2 \\tau\\right)} & \\sqrt{2} \\omega_{1} \\left(\\omega - \\omega_{0}\\right) \\left(e^{i T \\left(\\omega - \\omega_{0}\\right)} - 1\\right) e^{- i \\omega \\left(T + \\tau\\right)} & \\left(2 \\left(\\omega - \\omega_{0}\\right)^{2} \\left(i \\sin{\\left(T \\left(\\omega - \\omega_{0}\\right) \\right)} + 1\\right) + \\left(\\omega_{1}^{2} + 2 \\left(\\omega - \\omega_{0}\\right)^{2}\\right) \\left(\\cos{\\left(T \\left(\\omega - \\omega_{0}\\right) \\right)} - 1\\right)\\right) e^{- i T \\omega}\\end{matrix}\\right]\n"
     ]
    }
   ],
   "source": [
    "print(latex(simplify(U0_*2*(o-o0)**2)))"
   ]
  },
  {
   "cell_type": "code",
   "execution_count": 68,
   "metadata": {},
   "outputs": [
    {
     "data": {
      "text/latex": [
       "$\\displaystyle \\left[\\begin{matrix}e^{i T \\omega} & 0 & 0\\\\0 & 1 & 0\\\\0 & 0 & e^{- i T \\omega}\\end{matrix}\\right]$"
      ],
      "text/plain": [
       "Matrix([\n",
       "[exp(I*T*omega), 0,               0],\n",
       "[             0, 1,               0],\n",
       "[             0, 0, exp(-I*T*omega)]])"
      ]
     },
     "execution_count": 68,
     "metadata": {},
     "output_type": "execute_result"
    }
   ],
   "source": [
    "U0rez_"
   ]
  },
  {
   "cell_type": "code",
   "execution_count": 69,
   "metadata": {},
   "outputs": [
    {
     "name": "stdout",
     "output_type": "stream",
     "text": [
      "\\left[\\begin{matrix}e^{i T \\omega} & 0 & 0\\\\0 & 1 & 0\\\\0 & 0 & e^{- i T \\omega}\\end{matrix}\\right]\n"
     ]
    }
   ],
   "source": [
    "print(latex(U0rez_))"
   ]
  },
  {
   "cell_type": "code",
   "execution_count": null,
   "metadata": {},
   "outputs": [],
   "source": []
  },
  {
   "cell_type": "code",
   "execution_count": null,
   "metadata": {},
   "outputs": [],
   "source": []
  },
  {
   "cell_type": "code",
   "execution_count": null,
   "metadata": {},
   "outputs": [],
   "source": []
  },
  {
   "cell_type": "code",
   "execution_count": null,
   "metadata": {},
   "outputs": [],
   "source": []
  },
  {
   "cell_type": "code",
   "execution_count": 81,
   "metadata": {},
   "outputs": [
    {
     "data": {
      "text/latex": [
       "$\\displaystyle e^{i \\omega_{0} \\left(T + 2 \\tau\\right) s_{3}} e^{2 i \\omega_{1} \\tau s_{1}}$"
      ],
      "text/plain": [
       "exp(I*omega_0*(T + 2*tau)*s_3)*exp(2*I*omega_1*tau*s_1)"
      ]
     },
     "execution_count": 81,
     "metadata": {},
     "output_type": "execute_result"
    }
   ],
   "source": [
    "Utt0rez = Utt0.subs(O,O_).subs(o,o0)\n",
    "U1 = Utt0rez.subs(t,2*tau+T).subs(t0,tau+T)\n",
    "U2 = Utt0rez.subs(t,tau+T).subs(t0,tau).subs(o1,0)\n",
    "U3 = Utt0rez.subs(t,tau).subs(t0,0)\n",
    "\n",
    "UFrez = U1*U2*U3\n",
    "UFrez"
   ]
  },
  {
   "cell_type": "code",
   "execution_count": 92,
   "metadata": {},
   "outputs": [
    {
     "data": {
      "text/latex": [
       "$\\displaystyle \\left[\\begin{matrix}\\frac{\\left(\\cos{\\left(2 \\omega_{1} \\tau \\right)} + 1\\right) e^{i \\omega_{0} \\left(T + 2 \\tau\\right)}}{2} & \\frac{\\sqrt{2} \\left(- \\sin{\\left(\\omega_{0} \\left(T + 2 \\tau\\right) \\right)} + i \\cos{\\left(\\omega_{0} \\left(T + 2 \\tau\\right) \\right)}\\right) \\sin{\\left(2 \\omega_{1} \\tau \\right)}}{2} & \\frac{\\left(\\cos{\\left(2 \\omega_{1} \\tau \\right)} - 1\\right) e^{i \\omega_{0} \\left(T + 2 \\tau\\right)}}{2}\\\\\\frac{\\sqrt{2} i \\sin{\\left(2 \\omega_{1} \\tau \\right)}}{2} & \\cos{\\left(2 \\omega_{1} \\tau \\right)} & \\frac{\\sqrt{2} i \\sin{\\left(2 \\omega_{1} \\tau \\right)}}{2}\\\\\\frac{\\left(\\cos{\\left(2 \\omega_{1} \\tau \\right)} - 1\\right) e^{- i \\omega_{0} \\left(T + 2 \\tau\\right)}}{2} & \\frac{\\sqrt{2} \\left(\\sin{\\left(\\omega_{0} \\left(T + 2 \\tau\\right) \\right)} + i \\cos{\\left(\\omega_{0} \\left(T + 2 \\tau\\right) \\right)}\\right) \\sin{\\left(2 \\omega_{1} \\tau \\right)}}{2} & \\frac{\\left(\\cos{\\left(2 \\omega_{1} \\tau \\right)} + 1\\right) e^{- i \\omega_{0} \\left(T + 2 \\tau\\right)}}{2}\\end{matrix}\\right]$"
      ],
      "text/plain": [
       "Matrix([\n",
       "[ (cos(2*omega_1*tau) + 1)*exp(I*omega_0*(T + 2*tau))/2, sqrt(2)*(-sin(omega_0*(T + 2*tau)) + I*cos(omega_0*(T + 2*tau)))*sin(2*omega_1*tau)/2,  (cos(2*omega_1*tau) - 1)*exp(I*omega_0*(T + 2*tau))/2],\n",
       "[                        sqrt(2)*I*sin(2*omega_1*tau)/2,                                                                    cos(2*omega_1*tau),                         sqrt(2)*I*sin(2*omega_1*tau)/2],\n",
       "[(cos(2*omega_1*tau) - 1)*exp(-I*omega_0*(T + 2*tau))/2,  sqrt(2)*(sin(omega_0*(T + 2*tau)) + I*cos(omega_0*(T + 2*tau)))*sin(2*omega_1*tau)/2, (cos(2*omega_1*tau) + 1)*exp(-I*omega_0*(T + 2*tau))/2]])"
      ]
     },
     "execution_count": 92,
     "metadata": {},
     "output_type": "execute_result"
    }
   ],
   "source": [
    "U1 = expi(o0 * (T+2*tau), s3)\n",
    "U2 = expi(2* o1 * tau, s1)\n",
    "\n",
    "U1, U2 = [uuu.subs(s1,s1_).subs(s2,s2_).subs(s3,s3_).subs(eye, E) for uuu in (U1,U2)]\n",
    "\n",
    "UFrez_ = U1*U2\n",
    "UFrez_ = simplify(UFrez_)\n",
    "UFrez_ = trigsimp(UFrez_)\n",
    "UFrez_"
   ]
  },
  {
   "cell_type": "code",
   "execution_count": 94,
   "metadata": {},
   "outputs": [
    {
     "name": "stdout",
     "output_type": "stream",
     "text": [
      "\\left[\\begin{matrix}\\left(\\cos{\\left(2 \\omega_{1} \\tau \\right)} + 1\\right) e^{i \\omega_{0} \\left(T + 2 \\tau\\right)} & \\sqrt{2} \\left(- \\sin{\\left(\\omega_{0} \\left(T + 2 \\tau\\right) \\right)} + i \\cos{\\left(\\omega_{0} \\left(T + 2 \\tau\\right) \\right)}\\right) \\sin{\\left(2 \\omega_{1} \\tau \\right)} & \\left(\\cos{\\left(2 \\omega_{1} \\tau \\right)} - 1\\right) e^{i \\omega_{0} \\left(T + 2 \\tau\\right)}\\\\\\sqrt{2} i \\sin{\\left(2 \\omega_{1} \\tau \\right)} & 2 \\cos{\\left(2 \\omega_{1} \\tau \\right)} & \\sqrt{2} i \\sin{\\left(2 \\omega_{1} \\tau \\right)}\\\\\\left(\\cos{\\left(2 \\omega_{1} \\tau \\right)} - 1\\right) e^{- i \\omega_{0} \\left(T + 2 \\tau\\right)} & \\sqrt{2} \\left(\\sin{\\left(\\omega_{0} \\left(T + 2 \\tau\\right) \\right)} + i \\cos{\\left(\\omega_{0} \\left(T + 2 \\tau\\right) \\right)}\\right) \\sin{\\left(2 \\omega_{1} \\tau \\right)} & \\left(\\cos{\\left(2 \\omega_{1} \\tau \\right)} + 1\\right) e^{- i \\omega_{0} \\left(T + 2 \\tau\\right)}\\end{matrix}\\right]\n"
     ]
    }
   ],
   "source": [
    "print(latex(UFrez_*2))"
   ]
  },
  {
   "cell_type": "code",
   "execution_count": 96,
   "metadata": {},
   "outputs": [
    {
     "data": {
      "text/latex": [
       "$\\displaystyle \\left[\\begin{matrix}\\cos^{4}{\\left(\\omega_{1} \\tau \\right)} & \\frac{\\sin^{2}{\\left(2 \\omega_{1} \\tau \\right)}}{2} & \\sin^{4}{\\left(\\omega_{1} \\tau \\right)}\\\\\\frac{\\sin^{2}{\\left(2 \\omega_{1} \\tau \\right)}}{2} & \\cos^{2}{\\left(2 \\omega_{1} \\tau \\right)} & \\frac{\\sin^{2}{\\left(2 \\omega_{1} \\tau \\right)}}{2}\\\\\\sin^{4}{\\left(\\omega_{1} \\tau \\right)} & \\frac{\\sin^{2}{\\left(2 \\omega_{1} \\tau \\right)}}{2} & \\cos^{4}{\\left(\\omega_{1} \\tau \\right)}\\end{matrix}\\right]$"
      ],
      "text/plain": [
       "Matrix([\n",
       "[    cos(omega_1*tau)**4, sin(2*omega_1*tau)**2/2,     sin(omega_1*tau)**4],\n",
       "[sin(2*omega_1*tau)**2/2,   cos(2*omega_1*tau)**2, sin(2*omega_1*tau)**2/2],\n",
       "[    sin(omega_1*tau)**4, sin(2*omega_1*tau)**2/2,     cos(omega_1*tau)**4]])"
      ]
     },
     "execution_count": 96,
     "metadata": {},
     "output_type": "execute_result"
    }
   ],
   "source": [
    "Prez = UFrez_.applyfunc(lambda x: abs(x)**2)\n",
    "Prez = simplify(Prez)\n",
    "Prez"
   ]
  },
  {
   "cell_type": "code",
   "execution_count": 97,
   "metadata": {},
   "outputs": [
    {
     "name": "stdout",
     "output_type": "stream",
     "text": [
      "\\left[\\begin{matrix}\\cos^{4}{\\left(\\omega_{1} \\tau \\right)} & \\frac{\\sin^{2}{\\left(2 \\omega_{1} \\tau \\right)}}{2} & \\sin^{4}{\\left(\\omega_{1} \\tau \\right)}\\\\\\frac{\\sin^{2}{\\left(2 \\omega_{1} \\tau \\right)}}{2} & \\cos^{2}{\\left(2 \\omega_{1} \\tau \\right)} & \\frac{\\sin^{2}{\\left(2 \\omega_{1} \\tau \\right)}}{2}\\\\\\sin^{4}{\\left(\\omega_{1} \\tau \\right)} & \\frac{\\sin^{2}{\\left(2 \\omega_{1} \\tau \\right)}}{2} & \\cos^{4}{\\left(\\omega_{1} \\tau \\right)}\\end{matrix}\\right]\n"
     ]
    }
   ],
   "source": [
    "print(latex(Prez))"
   ]
  },
  {
   "cell_type": "code",
   "execution_count": null,
   "metadata": {},
   "outputs": [],
   "source": []
  },
  {
   "cell_type": "code",
   "execution_count": null,
   "metadata": {},
   "outputs": [],
   "source": []
  }
 ],
 "metadata": {
  "kernelspec": {
   "display_name": "Python 3",
   "language": "python",
   "name": "python3"
  },
  "language_info": {
   "codemirror_mode": {
    "name": "ipython",
    "version": 3
   },
   "file_extension": ".py",
   "mimetype": "text/x-python",
   "name": "python",
   "nbconvert_exporter": "python",
   "pygments_lexer": "ipython3",
   "version": "3.6.9"
  }
 },
 "nbformat": 4,
 "nbformat_minor": 2
}
