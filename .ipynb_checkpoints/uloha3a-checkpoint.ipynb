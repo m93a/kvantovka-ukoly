{
 "cells": [
  {
   "cell_type": "code",
   "execution_count": 1,
   "metadata": {},
   "outputs": [],
   "source": [
    "from __future__ import division\n",
    "import sys\n",
    "sys.path.insert(0, \"~/.local/lib/python3.6/site-packages\")\n",
    "\n",
    "import sympy\n",
    "from sympy import *\n",
    "\n",
    "def express(a, b, name):\n",
    "    sym = symbols(name)\n",
    "    sol = solve(a-sym, b)\n",
    "    assert len(sol) == 1\n",
    "    return (sym, sol[0])"
   ]
  },
  {
   "cell_type": "code",
   "execution_count": 2,
   "metadata": {},
   "outputs": [],
   "source": [
    "from sympy.physics.quantum import *"
   ]
  },
  {
   "cell_type": "code",
   "execution_count": 3,
   "metadata": {},
   "outputs": [],
   "source": [
    "# https://stackoverflow.com/q/59523322/1137334\n",
    "\n",
    "from sympy.core.operations import AssocOp\n",
    "\n",
    "def apply_ccr(expr, ccr, reverse=False):\n",
    "    if not isinstance(expr, Basic):\n",
    "        raise TypeError(\"The expression to simplify is not a sympy expression.\")\n",
    "        \n",
    "    if not isinstance(ccr, Eq):\n",
    "        if isinstance(ccr, Basic):\n",
    "            ccr = Eq(ccr, 0)\n",
    "        else:\n",
    "            raise TypeError(\"The canonical commutation relation is not a sympy expression.\")\n",
    "    \n",
    "    comm = None\n",
    "    \n",
    "    for node in preorder_traversal(ccr):\n",
    "        if isinstance(node, Commutator):\n",
    "            comm = node\n",
    "            break\n",
    "            \n",
    "    if comm is None:\n",
    "        raise ValueError(\"The cannonical commutation relation doesn not include a commutator.\")\n",
    "        \n",
    "    solutions = solve(ccr, comm)\n",
    "    \n",
    "    if len(solutions) != 1:\n",
    "        raise ValueError(\"There are more solutions to the cannonical commutation relation.\")\n",
    "        \n",
    "    value = solutions[0]\n",
    "    \n",
    "    A = comm.args[0]\n",
    "    B = comm.args[1]\n",
    "    \n",
    "    if reverse:\n",
    "        (A, B) = (B, A)\n",
    "        value = -value\n",
    "    \n",
    "    def is_expandable_pow_of(base, expr):\n",
    "        return isinstance(expr, Pow) \\\n",
    "            and base == expr.args[0] \\\n",
    "            and isinstance(expr.args[1], Number) \\\n",
    "            and expr.args[1] >= 1\n",
    "    \n",
    "    \n",
    "    def walk_tree(expr):\n",
    "        if isinstance(expr, Number):\n",
    "            return expr\n",
    "        \n",
    "        if not isinstance(expr, AssocOp) and not isinstance(expr, Function):\n",
    "            return expr.copy()\n",
    "        \n",
    "        elif not isinstance(expr, Mul):\n",
    "            return expr.func(*(walk_tree(node) for node in expr.args))\n",
    "        \n",
    "        else:\n",
    "            args = [arg for arg in expr.args]\n",
    "            \n",
    "            for i in range(len(args)-1):\n",
    "                x = args[i]\n",
    "                y = args[i+1]\n",
    "                \n",
    "                if B == x and A == y:\n",
    "                    args = args[0:i] + [A*B - value] + args[i+2:]\n",
    "                    return walk_tree( Mul(*args).expand() )\n",
    "                \n",
    "                if B == x and is_expandable_pow_of(A, y):\n",
    "                    ypow = Pow(A, y.args[1] - 1)\n",
    "                    args = args[0:i] + [A*B - value, ypow] + args[i+2:]\n",
    "                    return walk_tree( Mul(*args).expand() )\n",
    "                \n",
    "                if is_expandable_pow_of(B, x) and A == y:\n",
    "                    xpow = Pow(B, x.args[1] - 1)\n",
    "                    args = args[0:i] + [xpow, A*B - value] + args[i+2:]\n",
    "                    return walk_tree( Mul(*args).expand() )\n",
    "                \n",
    "                if is_expandable_pow_of(B, x) and is_expandable_pow_of(A, y):\n",
    "                    xpow = Pow(B, x.args[1] - 1)\n",
    "                    ypow = Pow(A, y.args[1] - 1)\n",
    "                    args = args[0:i] + [xpow, A*B - value, ypow] + args[i+2:]\n",
    "                    return walk_tree( Mul(*args).expand() )\n",
    "            \n",
    "            return expr.copy()\n",
    "            \n",
    "    \n",
    "    return walk_tree(expr)\n",
    "   \n",
    "\n",
    "Basic.apply_ccr = lambda self, ccr, reverse=False: apply_ccr(self, ccr, reverse)\n"
   ]
  },
  {
   "cell_type": "code",
   "execution_count": 4,
   "metadata": {},
   "outputs": [],
   "source": [
    "# https://stackoverflow.com/q/59524925/1137334\n",
    "\n",
    "from sympy.core.operations import AssocOp\n",
    "\n",
    "def apply_operator(expr, eqns):\n",
    "    if not isinstance(expr, Basic):\n",
    "        raise TypeError(\"The expression to simplify is not a sympy expression.\")\n",
    "    \n",
    "    if not isinstance(eqns, list) and not isinstance(eqns, tuple):\n",
    "        eqns = (eqns,)\n",
    "    \n",
    "    \n",
    "    rules = []\n",
    "    \n",
    "    \n",
    "    class Rule(object):\n",
    "        operator = None\n",
    "        ketSymbol = None\n",
    "        result = None\n",
    "        generic = False\n",
    "    \n",
    "    \n",
    "    def is_operator(op):\n",
    "        return isinstance(op, Operator) \\\n",
    "        or isinstance(op, Dagger) \\\n",
    "        and isinstance(op.args[0], Operator)\n",
    "    \n",
    "    \n",
    "    for eqn in eqns:\n",
    "        if not isinstance(eqn, Eq):\n",
    "            raise TypeError(\"One of the equations is not a valid sympy equation.\")\n",
    "        \n",
    "        lhs = eqn.lhs\n",
    "        rhs = eqn.rhs\n",
    "        \n",
    "        if not isinstance(lhs, Mul) \\\n",
    "        or len(lhs.args) != 2 \\\n",
    "        or not is_operator(lhs.args[0]) \\\n",
    "        or not isinstance(lhs.args[1], Ket):\n",
    "            raise ValueError(\"The left-hand side has to be an operator applied to a ket.\")\n",
    "        \n",
    "        rule = Rule()\n",
    "        rule.operator = lhs.args[0]\n",
    "        rule.ketSymbol = lhs.args[1].args[0]\n",
    "        rule.result = rhs\n",
    "        \n",
    "        if not isinstance(rule.ketSymbol, Symbol):\n",
    "            raise ValueError(\"The left-hand ket has to contain a simple symbol.\")\n",
    "        \n",
    "        for ket in preorder_traversal(rhs):\n",
    "            if isinstance(ket, Ket):\n",
    "                for symb in preorder_traversal(ket):\n",
    "                    if symb == rule.ketSymbol:\n",
    "                        rule.generic = True\n",
    "                        break\n",
    "                        \n",
    "        rules.append(rule)\n",
    "    \n",
    "    \n",
    "    def is_expandable_pow_of(base, expr):\n",
    "        return isinstance(expr, Pow) \\\n",
    "            and base == expr.args[0] \\\n",
    "            and isinstance(expr.args[1], Number) \\\n",
    "            and expr.args[1] >= 1\n",
    "            \n",
    "            \n",
    "    def is_ket_of_rule(ket, rule):\n",
    "        if not isinstance(ket, Ket):\n",
    "            return False\n",
    "        \n",
    "        if rule.generic:\n",
    "            for sym in preorder_traversal(ket):\n",
    "                if sym == rule.ketSymbol:\n",
    "                    return True\n",
    "            return False\n",
    "                \n",
    "        else:\n",
    "            return ket.args[0] == rule.ketSymbol\n",
    "    \n",
    "    \n",
    "    def walk_tree(expr):\n",
    "        if isinstance(expr, Number):\n",
    "            return expr\n",
    "        \n",
    "        if not isinstance(expr, AssocOp) and not isinstance(expr, Function):\n",
    "            return expr.copy()\n",
    "        \n",
    "        elif not isinstance(expr, Mul):\n",
    "            return expr.func(*(walk_tree(node) for node in expr.args))\n",
    "        \n",
    "        else:\n",
    "            args = [arg for arg in expr.args]\n",
    "            \n",
    "            for rule in rules:\n",
    "                A = rule.operator\n",
    "                ketSym = rule.ketSymbol\n",
    "                \n",
    "                for i in range(len(args)-1):\n",
    "                    x = args[i]\n",
    "                    y = args[i+1]\n",
    "\n",
    "                    if A == x and is_ket_of_rule(y, rule):\n",
    "                        ev = rule.result\n",
    "                        \n",
    "                        if rule.generic:\n",
    "                            ev = ev.subs(rule.ketSymbol, y.args[0])\n",
    "                        \n",
    "                        args = args[0:i] + [ev] + args[i+2:]\n",
    "                        return walk_tree( Mul(*args).expand() )\n",
    "\n",
    "                    if is_expandable_pow_of(A, x) and is_ket_of_rule(y, rule):\n",
    "                        xpow = Pow(A, x.args[1] - 1)\n",
    "                        ev = rule.result\n",
    "                        \n",
    "                        if rule.generic:\n",
    "                            ev = ev.subs(rule.ketSymbol, y.args[0])\n",
    "                        \n",
    "                        args = args[0:i] + [xpow, ev] + args[i+2:]\n",
    "                        return walk_tree( Mul(*args).expand() )\n",
    "                \n",
    "            \n",
    "            return expr.copy()\n",
    "            \n",
    "    \n",
    "    return walk_tree(expr)\n",
    "   \n",
    "\n",
    "Basic.apply_operator = lambda self, *eqns: apply_operator(self, eqns)\n"
   ]
  },
  {
   "cell_type": "code",
   "execution_count": 5,
   "metadata": {},
   "outputs": [],
   "source": [
    "a = Operator(\"a\")\n",
    "ad = Dagger(a)\n",
    "N = ad * a\n",
    "\n",
    "ccr = Eq( Commutator(a, ad),  1 )\n",
    "\n",
    "n = Symbol('n', integer=True, negative=False)\n",
    "down = Eq( a *Ket(n), sqrt(n  )*Ket(n-1) )\n",
    "up   = Eq( ad*Ket(n), sqrt(n+1)*Ket(n+1) )"
   ]
  },
  {
   "cell_type": "code",
   "execution_count": null,
   "metadata": {},
   "outputs": [],
   "source": []
  },
  {
   "cell_type": "code",
   "execution_count": 6,
   "metadata": {},
   "outputs": [
    {
     "data": {
      "text/latex": [
       "$\\displaystyle 3 + 12 a^{\\dagger} a + 4 a^{\\dagger} a^{3} + 6 \\left(a^{\\dagger}\\right)^{2} + 6 \\left(a^{\\dagger}\\right)^{2} a^{2} + 4 \\left(a^{\\dagger}\\right)^{3} a + \\left(a^{\\dagger}\\right)^{4} + 6 a^{2} + a^{4}$"
      ],
      "text/plain": [
       "3 + 12*Dagger(a)*a + 4*Dagger(a)*a**3 + 6*Dagger(a)**2 + 6*Dagger(a)**2*a**2 + 4*Dagger(a)**3*a + Dagger(a)**4 + 6*a**2 + a**4"
      ]
     },
     "execution_count": 6,
     "metadata": {},
     "output_type": "execute_result"
    }
   ],
   "source": [
    "expr1 = (ad + a)**4\n",
    "expr1 = expr1.expand().apply_ccr(ccr)\n",
    "expr1"
   ]
  },
  {
   "cell_type": "code",
   "execution_count": 7,
   "metadata": {},
   "outputs": [],
   "source": [
    "expr2 \\\n",
    "= ad**4 + a**4 + 2*ad**2 + 2*a**2 + 4*N**2 + 4*N \\\n",
    "+ 2*ad**2*N + 2*N*ad**2 + 2*a**2*N + 2*N*a**2 \\\n",
    "+ ad**2*a**2 + a**2*ad**2 + 1\n",
    "expr2 = expr2.expand().apply_ccr(ccr)\n",
    "assert 0 == (expr1-expr2).simplify()"
   ]
  },
  {
   "cell_type": "code",
   "execution_count": 8,
   "metadata": {},
   "outputs": [],
   "source": [
    "expr3 \\\n",
    "= ad**4 + a**4 +6*ad**2 - 2*a**2 + 6*N**2 + 6*N \\\n",
    "+ 4*ad**2*N + 4*a**2*N + 3\n",
    "expr3 = expr3.expand().apply_ccr(ccr)\n",
    "assert 0 == (expr1-expr3).simplify()"
   ]
  },
  {
   "cell_type": "code",
   "execution_count": 9,
   "metadata": {},
   "outputs": [
    {
     "data": {
      "text/latex": [
       "$\\displaystyle 4 n^{\\frac{3}{2}} \\sqrt{n - 1} {\\left|n - 2\\right\\rangle } + \\sqrt{n} \\sqrt{n - 3} \\sqrt{n - 2} \\sqrt{n - 1} {\\left|n - 4\\right\\rangle } - 2 \\sqrt{n} \\sqrt{n - 1} {\\left|n - 2\\right\\rangle } + 6 n^{2} {\\left|n\\right\\rangle } + 4 n \\sqrt{n + 1} \\sqrt{n + 2} {\\left|n + 2\\right\\rangle } + 6 n {\\left|n\\right\\rangle } + \\sqrt{n + 1} \\sqrt{n + 2} \\sqrt{n + 3} \\sqrt{n + 4} {\\left|n + 4\\right\\rangle } + 6 \\sqrt{n + 1} \\sqrt{n + 2} {\\left|n + 2\\right\\rangle } + 3 {\\left|n\\right\\rangle }$"
      ],
      "text/plain": [
       "4*n**(3/2)*sqrt(n - 1)*|n - 2> + sqrt(n)*sqrt(n - 3)*sqrt(n - 2)*sqrt(n - 1)*|n - 4> - 2*sqrt(n)*sqrt(n - 1)*|n - 2> + 6*n**2*|n> + 4*n*sqrt(n + 1)*sqrt(n + 2)*|n + 2> + 6*n*|n> + sqrt(n + 1)*sqrt(n + 2)*sqrt(n + 3)*sqrt(n + 4)*|n + 4> + 6*sqrt(n + 1)*sqrt(n + 2)*|n + 2> + 3*|n>"
      ]
     },
     "execution_count": 9,
     "metadata": {},
     "output_type": "execute_result"
    }
   ],
   "source": [
    "expr4 = (expr1 * Ket(n)).expand().apply_operator(up, down)\n",
    "expr4"
   ]
  },
  {
   "cell_type": "code",
   "execution_count": 10,
   "metadata": {},
   "outputs": [
    {
     "data": {
      "text/latex": [
       "$\\displaystyle \\left(4 n - 2\\right) \\sqrt{\\frac{1}{\\left(n - 2\\right)!}} \\sqrt{n!} {\\left|n - 2\\right\\rangle } + \\frac{\\left(4 n + 6\\right) \\sqrt{\\left(n + 2\\right)!} {\\left|n + 2\\right\\rangle }}{\\sqrt{n!}} + \\left(6 n^{2} + 6 n + 3\\right) {\\left|n\\right\\rangle } + \\sqrt{\\frac{1}{\\left(n - 4\\right)!}} \\sqrt{n!} {\\left|n - 4\\right\\rangle } + \\frac{\\sqrt{\\left(n + 4\\right)!} {\\left|n + 4\\right\\rangle }}{\\sqrt{n!}}$"
      ],
      "text/plain": [
       "(4*n - 2)*sqrt(1/factorial(n - 2))*sqrt(factorial(n))*|n - 2> + (4*n + 6)*sqrt(factorial(n + 2))*|n + 2>/sqrt(factorial(n)) + (6*n**2 + 6*n + 3)*|n> + sqrt(1/factorial(n - 4))*sqrt(factorial(n))*|n - 4> + sqrt(factorial(n + 4))*|n + 4>/sqrt(factorial(n))"
      ]
     },
     "execution_count": 10,
     "metadata": {},
     "output_type": "execute_result"
    }
   ],
   "source": [
    "expr5 \\\n",
    "= sqrt(factorial(n+4)/factorial(n))*Ket(n+4) \\\n",
    "+ (4*n+6)*sqrt(factorial(n+2)/factorial(n))*Ket(n+2) \\\n",
    "+ (6*n**2 + 6*n + 3)*Ket(n) + 0 \\\n",
    "+ 2*(2*n - 1)*sqrt(factorial(n)/factorial(n-2))*Ket(n-2) \\\n",
    "+ sqrt(factorial(n)/factorial(n-4))*Ket(n-4)\n",
    "expr5"
   ]
  },
  {
   "cell_type": "code",
   "execution_count": 11,
   "metadata": {},
   "outputs": [],
   "source": [
    "assert 0 == (expr5.simplify().expand() - expr4).subs(n, n+4).simplify()"
   ]
  },
  {
   "cell_type": "code",
   "execution_count": null,
   "metadata": {},
   "outputs": [],
   "source": []
  },
  {
   "cell_type": "code",
   "execution_count": 12,
   "metadata": {},
   "outputs": [
    {
     "data": {
      "text/latex": [
       "$\\displaystyle -1 - 2 a^{\\dagger} a + \\left(a^{\\dagger}\\right)^{2} + a^{2}$"
      ],
      "text/plain": [
       "-1 - 2*Dagger(a)*a + Dagger(a)**2 + a**2"
      ]
     },
     "execution_count": 12,
     "metadata": {},
     "output_type": "execute_result"
    }
   ],
   "source": [
    "expr6 = (a - ad)**2\n",
    "expr6 = expr6.expand().apply_ccr(ccr)\n",
    "expr6"
   ]
  },
  {
   "cell_type": "code",
   "execution_count": 13,
   "metadata": {},
   "outputs": [
    {
     "data": {
      "text/latex": [
       "$\\displaystyle \\sqrt{n} \\sqrt{n - 1} {\\left|n - 2\\right\\rangle } - 2 n {\\left|n\\right\\rangle } + \\sqrt{n + 1} \\sqrt{n + 2} {\\left|n + 2\\right\\rangle } - {\\left|n\\right\\rangle }$"
      ],
      "text/plain": [
       "sqrt(n)*sqrt(n - 1)*|n - 2> - 2*n*|n> + sqrt(n + 1)*sqrt(n + 2)*|n + 2> - |n>"
      ]
     },
     "execution_count": 13,
     "metadata": {},
     "output_type": "execute_result"
    }
   ],
   "source": [
    "expr7 = expr6 * Ket(n)\n",
    "expr7 = expr7.expand().apply_operator(up, down)\n",
    "expr7"
   ]
  },
  {
   "cell_type": "code",
   "execution_count": null,
   "metadata": {},
   "outputs": [],
   "source": []
  }
 ],
 "metadata": {
  "kernelspec": {
   "display_name": "Python 3",
   "language": "python",
   "name": "python3"
  },
  "language_info": {
   "codemirror_mode": {
    "name": "ipython",
    "version": 3
   },
   "file_extension": ".py",
   "mimetype": "text/x-python",
   "name": "python",
   "nbconvert_exporter": "python",
   "pygments_lexer": "ipython3",
   "version": "3.6.9"
  }
 },
 "nbformat": 4,
 "nbformat_minor": 2
}
