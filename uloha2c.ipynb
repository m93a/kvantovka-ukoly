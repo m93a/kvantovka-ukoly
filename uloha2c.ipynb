{
 "cells": [
  {
   "cell_type": "code",
   "execution_count": 79,
   "metadata": {},
   "outputs": [],
   "source": [
    "from __future__ import division\n",
    "import sys\n",
    "sys.path.insert(0, \"~/.local/lib/python3.6/site-packages\")\n",
    "\n",
    "import sympy\n",
    "from sympy import *\n",
    "\n",
    "def express(a, b, name):\n",
    "    sym = symbols(name)\n",
    "    sol = solve(a-sym, b)\n",
    "    assert len(sol) == 1\n",
    "    return (sym, sol[0])"
   ]
  },
  {
   "cell_type": "code",
   "execution_count": 80,
   "metadata": {},
   "outputs": [],
   "source": [
    "from sympy.core.relational import Relational\n",
    "Relational.do = lambda self, op: self.__class__(op(self.lhs), op(self.rhs))"
   ]
  },
  {
   "cell_type": "code",
   "execution_count": 81,
   "metadata": {},
   "outputs": [],
   "source": [
    "nu, l, e, c = symbols('nu lambda e c')\n",
    "eq1 = Eq( nu * c**2  +  (e-l)*c  +  nu )\n",
    "c1, c2 = solve(eq1, c)"
   ]
  },
  {
   "cell_type": "code",
   "execution_count": 82,
   "metadata": {},
   "outputs": [
    {
     "data": {
      "text/latex": [
       "$\\displaystyle \\left(A \\left(e - \\lambda + \\sqrt{- \\left(- e + \\lambda + 2 \\nu\\right) \\left(e - \\lambda + 2 \\nu\\right)}\\right) - B \\left(- e + \\lambda + \\sqrt{- \\left(- e + \\lambda + 2 \\nu\\right) \\left(e - \\lambda + 2 \\nu\\right)}\\right)\\right) \\left(A \\left(e - \\lambda + \\sqrt{- \\left(- e + \\lambda + 2 \\nu\\right) \\left(e - \\lambda + 2 \\nu\\right)}\\right) - B \\left(- e + \\lambda + \\sqrt{- \\left(- e + \\lambda + 2 \\nu\\right) \\left(e - \\lambda + 2 \\nu\\right)}\\right) - 2 e + 2 \\lambda\\right) = 0$"
      ],
      "text/plain": [
       "Eq((A*(e - lambda + sqrt(-(-e + lambda + 2*nu)*(e - lambda + 2*nu))) - B*(-e + lambda + sqrt(-(-e + lambda + 2*nu)*(e - lambda + 2*nu))))*(A*(e - lambda + sqrt(-(-e + lambda + 2*nu)*(e - lambda + 2*nu))) - B*(-e + lambda + sqrt(-(-e + lambda + 2*nu)*(e - lambda + 2*nu))) - 2*e + 2*lambda), 0)"
      ]
     },
     "execution_count": 82,
     "metadata": {},
     "output_type": "execute_result"
    }
   ],
   "source": [
    "A, B = symbols('A B')\n",
    "eq2 = Eq( (e-l)*c  +  nu * c**2 )\n",
    "eq2 = eq2.subs(c, A*c1 + B*c2)\n",
    "eq2 = eq2.do(lambda a: a * 4*nu).simplify()\n",
    "eq2"
   ]
  },
  {
   "cell_type": "code",
   "execution_count": 87,
   "metadata": {},
   "outputs": [
    {
     "data": {
      "text/latex": [
       "$\\displaystyle e^{2} + 4 e \\nu + 4 \\nu^{2} < \\lambda^{2}$"
      ],
      "text/plain": [
       "e**2 + 4*e*nu + 4*nu**2 < lambda**2"
      ]
     },
     "execution_count": 87,
     "metadata": {},
     "output_type": "execute_result"
    }
   ],
   "source": [
    "Gt( (-(e+l+2*nu)*(e-l+2*nu)).expand(), 0).simplify().do(lambda a: a + l**2)"
   ]
  },
  {
   "cell_type": "code",
   "execution_count": 89,
   "metadata": {},
   "outputs": [
    {
     "data": {
      "text/plain": [
       "[((-sqrt(2)*(e - lambda)*(e**2 - 2*e*lambda + e*sqrt(e**2 - 2*e*lambda + lambda**2 - 4*nu**2) + lambda**2 - lambda*sqrt(e**2 - 2*e*lambda + lambda**2 - 4*nu**2) - 2*nu**2) + sqrt(e**2 - 2*e*lambda + e*sqrt(e**2 - 2*e*lambda + lambda**2 - 4*nu**2) + lambda**2 - lambda*sqrt(e**2 - 2*e*lambda + lambda**2 - 4*nu**2) - 2*nu**2)*(-4*B*nu**2 + e**2 - 2*e*lambda + e*sqrt(e**2 - 2*e*lambda + lambda**2 - 4*nu**2) + lambda**2 - lambda*sqrt(e**2 - 2*e*lambda + lambda**2 - 4*nu**2)))/(2*(e**2 - 2*e*lambda + e*sqrt(e**2 - 2*e*lambda + lambda**2 - 4*nu**2) + lambda**2 - lambda*sqrt(e**2 - 2*e*lambda + lambda**2 - 4*nu**2) - 2*nu**2)**(3/2)),\n",
       "  B),\n",
       " ((sqrt(2)*(e - lambda)*(e**2 - 2*e*lambda + e*sqrt(e**2 - 2*e*lambda + lambda**2 - 4*nu**2) + lambda**2 - lambda*sqrt(e**2 - 2*e*lambda + lambda**2 - 4*nu**2) - 2*nu**2) + sqrt(e**2 - 2*e*lambda + e*sqrt(e**2 - 2*e*lambda + lambda**2 - 4*nu**2) + lambda**2 - lambda*sqrt(e**2 - 2*e*lambda + lambda**2 - 4*nu**2) - 2*nu**2)*(-4*B*nu**2 + e**2 - 2*e*lambda + e*sqrt(e**2 - 2*e*lambda + lambda**2 - 4*nu**2) + lambda**2 - lambda*sqrt(e**2 - 2*e*lambda + lambda**2 - 4*nu**2)))/(2*(e**2 - 2*e*lambda + e*sqrt(e**2 - 2*e*lambda + lambda**2 - 4*nu**2) + lambda**2 - lambda*sqrt(e**2 - 2*e*lambda + lambda**2 - 4*nu**2) - 2*nu**2)**(3/2)),\n",
       "  B)]"
      ]
     },
     "execution_count": 89,
     "metadata": {},
     "output_type": "execute_result"
    }
   ],
   "source": [
    "solve(eq2, (A,B))"
   ]
  },
  {
   "cell_type": "code",
   "execution_count": 94,
   "metadata": {},
   "outputs": [
    {
     "data": {
      "text/latex": [
       "$\\displaystyle e^{\\frac{i \\pi \\left(N + k + 1\\right)}{N + 1}}$"
      ],
      "text/plain": [
       "exp(I*pi*(N + k + 1)/(N + 1))"
      ]
     },
     "execution_count": 94,
     "metadata": {},
     "output_type": "execute_result"
    }
   ],
   "source": [
    "k, N = symbols('k N')\n",
    "exp((k+N+1)/(N+1)*I*pi).simplify()"
   ]
  },
  {
   "cell_type": "code",
   "execution_count": null,
   "metadata": {},
   "outputs": [],
   "source": []
  },
  {
   "cell_type": "code",
   "execution_count": 106,
   "metadata": {},
   "outputs": [
    {
     "data": {
      "text/latex": [
       "$\\displaystyle \\sum_{j=1}^{N} \\sin^{2}{\\left(\\frac{\\pi j k}{N + 1} \\right)}$"
      ],
      "text/plain": [
       "Sum(sin(pi*j*k/(N + 1))**2, (j, 1, N))"
      ]
     },
     "execution_count": 106,
     "metadata": {},
     "output_type": "execute_result"
    }
   ],
   "source": [
    "j = symbols('j')\n",
    "s = Sum(sin( (k*j*pi)/(N+1) )**2, (j,1,N))\n",
    "s"
   ]
  },
  {
   "cell_type": "code",
   "execution_count": 115,
   "metadata": {},
   "outputs": [
    {
     "data": {
      "text/latex": [
       "$\\displaystyle \\sum_{j=1}^{N} \\sin^{2}{\\left(\\frac{\\pi j k}{N + 1} \\right)}$"
      ],
      "text/plain": [
       "Sum(sin(pi*j*k/(N + 1))**2, (j, 1, N))"
      ]
     },
     "execution_count": 115,
     "metadata": {},
     "output_type": "execute_result"
    }
   ],
   "source": [
    "s.doit()"
   ]
  },
  {
   "cell_type": "code",
   "execution_count": 118,
   "metadata": {},
   "outputs": [
    {
     "data": {
      "text/latex": [
       "$\\displaystyle 0.5 N - 0.25 \\sin{\\left(\\frac{\\pi k \\left(2 N + 1\\right)}{N + 1} \\right)} \\csc{\\left(\\frac{\\pi k}{N + 1} \\right)} + 0.25$"
      ],
      "text/plain": [
       "0.5*N - 0.25*sin(pi*k*(2*N + 1)/(N + 1))*csc(pi*k/(N + 1)) + 0.25"
      ]
     },
     "execution_count": 118,
     "metadata": {},
     "output_type": "execute_result"
    }
   ],
   "source": [
    "s_ = 1/4 * (-sin((pi * k * (2 * N + 1))/(N + 1)) * csc((pi * k)/(N + 1)) + 2 * N + 1)\n",
    "s_"
   ]
  },
  {
   "cell_type": "code",
   "execution_count": 134,
   "metadata": {},
   "outputs": [
    {
     "name": "stdout",
     "output_type": "stream",
     "text": [
      "1\n",
      "2\n",
      "3\n",
      "4\n",
      "5\n",
      "6\n",
      "7\n",
      "8\n",
      "9\n",
      "10\n",
      "11\n",
      "12\n",
      "13\n",
      "High value 13 1 6.661338147750939e-16\n",
      "High value 13 3 6.661338147750939e-16\n",
      "High value 13 5 6.661338147750939e-16\n",
      "High value 13 9 6.661338147750939e-16\n",
      "High value 13 11 6.661338147750939e-16\n",
      "14\n",
      "15\n",
      "Success!\n"
     ]
    }
   ],
   "source": [
    "for NN in range(1,16):\n",
    "    print(NN)\n",
    "    for kk in range(1,NN):\n",
    "        err = abs(float( (s - s_).subs(N,NN).subs(k,kk).doit().simplify() ))\n",
    "        if (1e-110 < err):\n",
    "            print(\"High value\", NN, kk, err)\n",
    "\n",
    "print(\"Success!\")"
   ]
  },
  {
   "cell_type": "code",
   "execution_count": null,
   "metadata": {},
   "outputs": [],
   "source": []
  },
  {
   "cell_type": "code",
   "execution_count": 138,
   "metadata": {},
   "outputs": [
    {
     "data": {
      "text/latex": [
       "$\\displaystyle - \\frac{i \\left(e^{\\frac{2 i \\pi k}{N + 1}} - e^{- \\frac{2 i \\pi k}{N + 1}}\\right)}{2 \\sin{\\left(\\frac{\\pi k}{N + 1} \\right)}}$"
      ],
      "text/plain": [
       "-I*(exp(2*I*pi*k/(N + 1)) - exp(-2*I*pi*k/(N + 1)))/(2*sin(pi*k/(N + 1)))"
      ]
     },
     "execution_count": 138,
     "metadata": {},
     "output_type": "execute_result"
    }
   ],
   "source": [
    "c = lambda k: exp(k * I * pi / (N+1))\n",
    "(c(2*k) - c(-2*k))/(c(k) - c(-k)).simplify()"
   ]
  },
  {
   "cell_type": "code",
   "execution_count": null,
   "metadata": {},
   "outputs": [],
   "source": []
  }
 ],
 "metadata": {
  "kernelspec": {
   "display_name": "Python 3",
   "language": "python",
   "name": "python3"
  },
  "language_info": {
   "codemirror_mode": {
    "name": "ipython",
    "version": 3
   },
   "file_extension": ".py",
   "mimetype": "text/x-python",
   "name": "python",
   "nbconvert_exporter": "python",
   "pygments_lexer": "ipython3",
   "version": "3.6.9"
  }
 },
 "nbformat": 4,
 "nbformat_minor": 2
}
